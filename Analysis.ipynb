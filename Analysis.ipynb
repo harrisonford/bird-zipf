{
 "cells": [
  {
   "attachments": {},
   "cell_type": "markdown",
   "metadata": {},
   "source": [
    "# Does the Common Swift's tune behave in a Zipf-like pattern? \n",
    "\n",
    "## A vague concept and analysis"
   ]
  },
  {
   "attachments": {},
   "cell_type": "markdown",
   "metadata": {},
   "source": [
    "## The Common Swift\n",
    "\n",
    "The common swift (_Apus apus_), is a medium-sized bird resembling the barn swallow and house martin but larger, belonging to the order Apodiformes. These resemblances result from convergent evolution, as their closest relatives are New World hummingbirds and Southeast Asian treeswifts. Its scientific name \"Apus\" is derived from Latin, meaning swift, reflecting the ancient belief that swifts had no feet. Swifts have short legs used for clinging to vertical surfaces, and they avoid settling on the ground to minimize vulnerability, with non-breeding individuals often in continuous flight for up to ten months.\n",
    "\n",
    "![Swift Pretty](images/swift-flying.webp)\n",
    "\n",
    "### Taxonomy and Physiology\n",
    "\n",
    "The common swift, was classified by Carl Linnaeus in 1758 as _Hirundo apus_ and later categorized under the _genus Apus_ by Giovanni Antonio Scopoli in 1777. Its name \"apus\" is derived from the Latin word for swift, reflecting the belief that these birds were footless swallows. These birds measure 16–17 cm in length with a wingspan of 38–40 cm. They are primarily blackish-brown, with a small white or pale grey chin patch that is not easily visible from a distance.\n",
    "\n",
    "\n",
    "### Language Behavior\n",
    "Common swifts are known for their distinctive loud screaming calls, often forming groups during summer evenings. These gatherings may serve various purposes, including ascending to sleep in flight, with radar tracking revealing flocking behavior during specific times, possibly for social interaction or information exchange. \n",
    "\n",
    "### Final Motivations\n",
    "As the name would led you to believe, the Common Swift is a fairly popular recorded species, specifically in the Xenocanto bird dataset there are thousands of high quality recordings that can be obtained through a wrapped API (see _example_download.py_) therefore this is a good starter specie to test if Zipf's law is present after some preprocessing.\n",
    "\n",
    "The main focus of this work will be to explore a novel way to synthetize bird sounds into a codified language and thus allowing possible languange analysis in the future."
   ]
  },
  {
   "attachments": {},
   "cell_type": "markdown",
   "metadata": {},
   "source": [
    "### Xenocanto Dataset \n",
    "\n",
    "_To download the dataset using the wrapped API (pypi xenocanto) run example_download.py_\n",
    "\n",
    "\n",
    "#### Check Metadata"
   ]
  },
  {
   "cell_type": "code",
   "execution_count": 39,
   "metadata": {},
   "outputs": [],
   "source": [
    "# check metadata files in the dataset\n",
    "import os \n",
    "import json\n",
    "\n",
    "\n",
    "bird = \"CommonSwift\"\n",
    "\n",
    "# check a metadata file's content\n",
    "path = f\"./dataset/metadata/{bird}/\"\n",
    "metalist = os.listdir(path)\n",
    "\n",
    "# open and read the JSON file\n",
    "chosen_meta = metalist[0]\n",
    "with open(f\"./dataset/metadata/CommonSwift/{chosen_meta}\", 'r') as json_file:\n",
    "    metadata = json.load(json_file)\n",
    "\n",
    "#print(metadata)\n"
   ]
  },
  {
   "attachments": {},
   "cell_type": "markdown",
   "metadata": {},
   "source": [
    "So each metadata file has a ton of recordings with fields that _could_ be interesting if data's rich enough, let's visualize\n",
    "how rich is our data by merging both metadata files to a pandas dataframe and getting some statistics."
   ]
  },
  {
   "cell_type": "code",
   "execution_count": 40,
   "metadata": {},
   "outputs": [
    {
     "data": {
      "text/html": [
       "<div>\n",
       "<style scoped>\n",
       "    .dataframe tbody tr th:only-of-type {\n",
       "        vertical-align: middle;\n",
       "    }\n",
       "\n",
       "    .dataframe tbody tr th {\n",
       "        vertical-align: top;\n",
       "    }\n",
       "\n",
       "    .dataframe thead th {\n",
       "        text-align: right;\n",
       "    }\n",
       "</style>\n",
       "<table border=\"1\" class=\"dataframe\">\n",
       "  <thead>\n",
       "    <tr style=\"text-align: right;\">\n",
       "      <th></th>\n",
       "      <th>id</th>\n",
       "      <th>gen</th>\n",
       "      <th>sp</th>\n",
       "      <th>ssp</th>\n",
       "      <th>group</th>\n",
       "      <th>en</th>\n",
       "      <th>rec</th>\n",
       "      <th>cnt</th>\n",
       "      <th>loc</th>\n",
       "      <th>lat</th>\n",
       "      <th>...</th>\n",
       "      <th>rmk</th>\n",
       "      <th>bird-seen</th>\n",
       "      <th>animal-seen</th>\n",
       "      <th>playback-used</th>\n",
       "      <th>temp</th>\n",
       "      <th>regnr</th>\n",
       "      <th>auto</th>\n",
       "      <th>dvc</th>\n",
       "      <th>mic</th>\n",
       "      <th>smp</th>\n",
       "    </tr>\n",
       "  </thead>\n",
       "  <tbody>\n",
       "    <tr>\n",
       "      <th>458</th>\n",
       "      <td>799897</td>\n",
       "      <td>Apus</td>\n",
       "      <td>apus</td>\n",
       "      <td></td>\n",
       "      <td>birds</td>\n",
       "      <td>Common Swift</td>\n",
       "      <td>julien Birard</td>\n",
       "      <td>France</td>\n",
       "      <td>Arles centre - Elie Giraud</td>\n",
       "      <td>43.6776</td>\n",
       "      <td>...</td>\n",
       "      <td></td>\n",
       "      <td>no</td>\n",
       "      <td>no</td>\n",
       "      <td>no</td>\n",
       "      <td></td>\n",
       "      <td></td>\n",
       "      <td>yes</td>\n",
       "      <td>Zoom H4N</td>\n",
       "      <td>Micro Omni Oktava MK-012</td>\n",
       "      <td>44100</td>\n",
       "    </tr>\n",
       "    <tr>\n",
       "      <th>678</th>\n",
       "      <td>376914</td>\n",
       "      <td>Apus</td>\n",
       "      <td>apus</td>\n",
       "      <td></td>\n",
       "      <td>birds</td>\n",
       "      <td>Common Swift</td>\n",
       "      <td>Stanislas Wroza</td>\n",
       "      <td>France</td>\n",
       "      <td>Hyères, Var, Provence-Alpes-Côte d'Azur</td>\n",
       "      <td>42.992</td>\n",
       "      <td>...</td>\n",
       "      <td></td>\n",
       "      <td>yes</td>\n",
       "      <td>yes</td>\n",
       "      <td>no</td>\n",
       "      <td></td>\n",
       "      <td></td>\n",
       "      <td>no</td>\n",
       "      <td></td>\n",
       "      <td></td>\n",
       "      <td>44100</td>\n",
       "    </tr>\n",
       "    <tr>\n",
       "      <th>146</th>\n",
       "      <td>371024</td>\n",
       "      <td>Apus</td>\n",
       "      <td>apus</td>\n",
       "      <td></td>\n",
       "      <td>birds</td>\n",
       "      <td>Common Swift</td>\n",
       "      <td>Stanislas Wroza</td>\n",
       "      <td>France</td>\n",
       "      <td>Hyères, Var, Provence-Alpes-Côte d'Azur</td>\n",
       "      <td>43.0671</td>\n",
       "      <td>...</td>\n",
       "      <td></td>\n",
       "      <td>yes</td>\n",
       "      <td>yes</td>\n",
       "      <td>no</td>\n",
       "      <td></td>\n",
       "      <td></td>\n",
       "      <td>no</td>\n",
       "      <td></td>\n",
       "      <td></td>\n",
       "      <td>44100</td>\n",
       "    </tr>\n",
       "    <tr>\n",
       "      <th>567</th>\n",
       "      <td>574526</td>\n",
       "      <td>Apus</td>\n",
       "      <td>apus</td>\n",
       "      <td></td>\n",
       "      <td>birds</td>\n",
       "      <td>Common Swift</td>\n",
       "      <td>Gary Elton</td>\n",
       "      <td>United Kingdom</td>\n",
       "      <td>Great Britain (near  Great Massingham), Norfol...</td>\n",
       "      <td>52.7759</td>\n",
       "      <td>...</td>\n",
       "      <td></td>\n",
       "      <td>yes</td>\n",
       "      <td>yes</td>\n",
       "      <td>no</td>\n",
       "      <td></td>\n",
       "      <td></td>\n",
       "      <td>no</td>\n",
       "      <td></td>\n",
       "      <td></td>\n",
       "      <td>44100</td>\n",
       "    </tr>\n",
       "    <tr>\n",
       "      <th>55</th>\n",
       "      <td>655019</td>\n",
       "      <td>Apus</td>\n",
       "      <td>apus</td>\n",
       "      <td></td>\n",
       "      <td>birds</td>\n",
       "      <td>Common Swift</td>\n",
       "      <td>Ad Hilders</td>\n",
       "      <td>Netherlands</td>\n",
       "      <td>Roosendaal, Roosendaal, Noord-Brabant</td>\n",
       "      <td>51.5121</td>\n",
       "      <td>...</td>\n",
       "      <td></td>\n",
       "      <td>no</td>\n",
       "      <td>no</td>\n",
       "      <td>no</td>\n",
       "      <td></td>\n",
       "      <td></td>\n",
       "      <td>no</td>\n",
       "      <td></td>\n",
       "      <td></td>\n",
       "      <td>44100</td>\n",
       "    </tr>\n",
       "  </tbody>\n",
       "</table>\n",
       "<p>5 rows × 38 columns</p>\n",
       "</div>"
      ],
      "text/plain": [
       "         id   gen    sp ssp  group            en              rec  \\\n",
       "458  799897  Apus  apus      birds  Common Swift    julien Birard   \n",
       "678  376914  Apus  apus      birds  Common Swift  Stanislas Wroza   \n",
       "146  371024  Apus  apus      birds  Common Swift  Stanislas Wroza   \n",
       "567  574526  Apus  apus      birds  Common Swift       Gary Elton   \n",
       "55   655019  Apus  apus      birds  Common Swift       Ad Hilders   \n",
       "\n",
       "                cnt                                                loc  \\\n",
       "458          France                         Arles centre - Elie Giraud   \n",
       "678          France            Hyères, Var, Provence-Alpes-Côte d'Azur   \n",
       "146          France            Hyères, Var, Provence-Alpes-Côte d'Azur   \n",
       "567  United Kingdom  Great Britain (near  Great Massingham), Norfol...   \n",
       "55      Netherlands              Roosendaal, Roosendaal, Noord-Brabant   \n",
       "\n",
       "         lat  ... rmk bird-seen animal-seen playback-used temp regnr auto  \\\n",
       "458  43.6776  ...            no          no            no             yes   \n",
       "678   42.992  ...           yes         yes            no              no   \n",
       "146  43.0671  ...           yes         yes            no              no   \n",
       "567  52.7759  ...           yes         yes            no              no   \n",
       "55   51.5121  ...            no          no            no              no   \n",
       "\n",
       "          dvc                       mic    smp  \n",
       "458  Zoom H4N  Micro Omni Oktava MK-012  44100  \n",
       "678                                      44100  \n",
       "146                                      44100  \n",
       "567                                      44100  \n",
       "55                                       44100  \n",
       "\n",
       "[5 rows x 38 columns]"
      ]
     },
     "execution_count": 40,
     "metadata": {},
     "output_type": "execute_result"
    }
   ],
   "source": [
    "# uses: metalist from cell 9 and imports\n",
    "# merge metadata files into one and then dataframe it\n",
    "import pandas as pd\n",
    "\n",
    "\n",
    "records = []\n",
    "\n",
    "for meta in metalist:\n",
    "    # open each metadata file and load dict\n",
    "    with open(f\"./dataset/metadata/CommonSwift/{meta}\", 'r') as json_file:\n",
    "        metadata = json.load(json_file)\n",
    "        # we need only the recordings from json\n",
    "        sub_records = metadata['recordings']\n",
    "        for record in sub_records:\n",
    "            records.append(record)\n",
    "\n",
    "# now we create the dataframe\n",
    "df = pd.DataFrame(records)\n",
    "df.sample(5)"
   ]
  },
  {
   "attachments": {},
   "cell_type": "markdown",
   "metadata": {},
   "source": [
    "Clearly, there are some useless columns so let's ignore those. Some columns that could be interesting may not be rich enough.\n",
    "\n",
    "TODO: Check later if we can separate by male and female."
   ]
  },
  {
   "cell_type": "code",
   "execution_count": 41,
   "metadata": {},
   "outputs": [
    {
     "data": {
      "text/html": [
       "<div>\n",
       "<style scoped>\n",
       "    .dataframe tbody tr th:only-of-type {\n",
       "        vertical-align: middle;\n",
       "    }\n",
       "\n",
       "    .dataframe tbody tr th {\n",
       "        vertical-align: top;\n",
       "    }\n",
       "\n",
       "    .dataframe thead th {\n",
       "        text-align: right;\n",
       "    }\n",
       "</style>\n",
       "<table border=\"1\" class=\"dataframe\">\n",
       "  <thead>\n",
       "    <tr style=\"text-align: right;\">\n",
       "      <th></th>\n",
       "      <th>id</th>\n",
       "      <th>cnt</th>\n",
       "      <th>lat</th>\n",
       "      <th>lng</th>\n",
       "      <th>type</th>\n",
       "      <th>q</th>\n",
       "      <th>length</th>\n",
       "      <th>time</th>\n",
       "      <th>date</th>\n",
       "      <th>bird-seen</th>\n",
       "      <th>smp</th>\n",
       "    </tr>\n",
       "  </thead>\n",
       "  <tbody>\n",
       "    <tr>\n",
       "      <th>312</th>\n",
       "      <td>664245</td>\n",
       "      <td>Netherlands</td>\n",
       "      <td>51.9892</td>\n",
       "      <td>4.4694</td>\n",
       "      <td>call, flight call</td>\n",
       "      <td>A</td>\n",
       "      <td>0:18</td>\n",
       "      <td>22:01</td>\n",
       "      <td>2021-07-20</td>\n",
       "      <td>yes</td>\n",
       "      <td>44100</td>\n",
       "    </tr>\n",
       "    <tr>\n",
       "      <th>357</th>\n",
       "      <td>546693</td>\n",
       "      <td>Spain</td>\n",
       "      <td>41.1684</td>\n",
       "      <td>0.974</td>\n",
       "      <td>flight call</td>\n",
       "      <td>A</td>\n",
       "      <td>0:08</td>\n",
       "      <td>21:00</td>\n",
       "      <td>2020-04-16</td>\n",
       "      <td>no</td>\n",
       "      <td>44100</td>\n",
       "    </tr>\n",
       "    <tr>\n",
       "      <th>149</th>\n",
       "      <td>368207</td>\n",
       "      <td>Ukraine</td>\n",
       "      <td>49.5345</td>\n",
       "      <td>26.2093</td>\n",
       "      <td>flight call</td>\n",
       "      <td>C</td>\n",
       "      <td>0:13</td>\n",
       "      <td>10:32</td>\n",
       "      <td>2017-05-07</td>\n",
       "      <td>no</td>\n",
       "      <td>48000</td>\n",
       "    </tr>\n",
       "    <tr>\n",
       "      <th>133</th>\n",
       "      <td>377514</td>\n",
       "      <td>Spain</td>\n",
       "      <td>37.8738</td>\n",
       "      <td>-6.6203</td>\n",
       "      <td>flight call</td>\n",
       "      <td>C</td>\n",
       "      <td>0:21</td>\n",
       "      <td>?</td>\n",
       "      <td>2017-05-01</td>\n",
       "      <td>yes</td>\n",
       "      <td>44100</td>\n",
       "    </tr>\n",
       "    <tr>\n",
       "      <th>710</th>\n",
       "      <td>269755</td>\n",
       "      <td>Russian Federation</td>\n",
       "      <td>55.8697</td>\n",
       "      <td>48.0544</td>\n",
       "      <td>flight call</td>\n",
       "      <td>B</td>\n",
       "      <td>3:45</td>\n",
       "      <td>10:30</td>\n",
       "      <td>2015-07-18</td>\n",
       "      <td>yes</td>\n",
       "      <td>44100</td>\n",
       "    </tr>\n",
       "    <tr>\n",
       "      <th>495</th>\n",
       "      <td>734771</td>\n",
       "      <td>France</td>\n",
       "      <td>44.0632</td>\n",
       "      <td>1.9509</td>\n",
       "      <td>flight call, wing flaps</td>\n",
       "      <td>B</td>\n",
       "      <td>1:05</td>\n",
       "      <td>06:30</td>\n",
       "      <td>2022-06-29</td>\n",
       "      <td>no</td>\n",
       "      <td>44100</td>\n",
       "    </tr>\n",
       "    <tr>\n",
       "      <th>57</th>\n",
       "      <td>655010</td>\n",
       "      <td>Netherlands</td>\n",
       "      <td>51.5121</td>\n",
       "      <td>4.4359</td>\n",
       "      <td>call, flight call</td>\n",
       "      <td>C</td>\n",
       "      <td>0:10</td>\n",
       "      <td>20:07</td>\n",
       "      <td>2021-05-29</td>\n",
       "      <td>yes</td>\n",
       "      <td>44100</td>\n",
       "    </tr>\n",
       "    <tr>\n",
       "      <th>181</th>\n",
       "      <td>37174</td>\n",
       "      <td>Czech Republic</td>\n",
       "      <td>49.4556</td>\n",
       "      <td>17.4501</td>\n",
       "      <td>flight call</td>\n",
       "      <td>C</td>\n",
       "      <td>0:25</td>\n",
       "      <td>20:45</td>\n",
       "      <td>2009-07-16</td>\n",
       "      <td>unknown</td>\n",
       "      <td>44100</td>\n",
       "    </tr>\n",
       "    <tr>\n",
       "      <th>79</th>\n",
       "      <td>571911</td>\n",
       "      <td>Spain</td>\n",
       "      <td>41.0871</td>\n",
       "      <td>1.1009</td>\n",
       "      <td>call</td>\n",
       "      <td>C</td>\n",
       "      <td>0:11</td>\n",
       "      <td>09:00</td>\n",
       "      <td>2020-06-24</td>\n",
       "      <td>yes</td>\n",
       "      <td>44100</td>\n",
       "    </tr>\n",
       "    <tr>\n",
       "      <th>261</th>\n",
       "      <td>809365</td>\n",
       "      <td>Netherlands</td>\n",
       "      <td>51.9892</td>\n",
       "      <td>4.4694</td>\n",
       "      <td>call, flight call</td>\n",
       "      <td>A</td>\n",
       "      <td>0:05</td>\n",
       "      <td>20:18</td>\n",
       "      <td>2023-06-16</td>\n",
       "      <td>no</td>\n",
       "      <td>44100</td>\n",
       "    </tr>\n",
       "  </tbody>\n",
       "</table>\n",
       "</div>"
      ],
      "text/plain": [
       "         id                 cnt      lat      lng                     type  q  \\\n",
       "312  664245         Netherlands  51.9892   4.4694        call, flight call  A   \n",
       "357  546693               Spain  41.1684    0.974              flight call  A   \n",
       "149  368207             Ukraine  49.5345  26.2093              flight call  C   \n",
       "133  377514               Spain  37.8738  -6.6203              flight call  C   \n",
       "710  269755  Russian Federation  55.8697  48.0544              flight call  B   \n",
       "495  734771              France  44.0632   1.9509  flight call, wing flaps  B   \n",
       "57   655010         Netherlands  51.5121   4.4359        call, flight call  C   \n",
       "181   37174      Czech Republic  49.4556  17.4501              flight call  C   \n",
       "79   571911               Spain  41.0871   1.1009                     call  C   \n",
       "261  809365         Netherlands  51.9892   4.4694        call, flight call  A   \n",
       "\n",
       "    length   time        date bird-seen    smp  \n",
       "312   0:18  22:01  2021-07-20       yes  44100  \n",
       "357   0:08  21:00  2020-04-16        no  44100  \n",
       "149   0:13  10:32  2017-05-07        no  48000  \n",
       "133   0:21      ?  2017-05-01       yes  44100  \n",
       "710   3:45  10:30  2015-07-18       yes  44100  \n",
       "495   1:05  06:30  2022-06-29        no  44100  \n",
       "57    0:10  20:07  2021-05-29       yes  44100  \n",
       "181   0:25  20:45  2009-07-16   unknown  44100  \n",
       "79    0:11  09:00  2020-06-24       yes  44100  \n",
       "261   0:05  20:18  2023-06-16        no  44100  "
      ]
     },
     "execution_count": 41,
     "metadata": {},
     "output_type": "execute_result"
    }
   ],
   "source": [
    "# clean a bit\n",
    "uselful_cols = ['id', 'cnt', 'lat', 'lng', 'type', 'q', 'length', 'time', 'date', 'bird-seen', 'smp']\n",
    "\n",
    "df[uselful_cols].sample(10)"
   ]
  },
  {
   "cell_type": "code",
   "execution_count": 42,
   "metadata": {},
   "outputs": [
    {
     "data": {
      "application/vnd.plotly.v1+json": {
       "config": {
        "plotlyServerURL": "https://plot.ly"
       },
       "data": [
        {
         "alignmentgroup": "True",
         "bingroup": "x",
         "hovertemplate": "cnt=%{x}<br>count=%{y}<extra></extra>",
         "legendgroup": "",
         "marker": {
          "color": "#636efa",
          "pattern": {
           "shape": ""
          }
         },
         "name": "",
         "offsetgroup": "",
         "orientation": "v",
         "showlegend": false,
         "type": "histogram",
         "x": [
          "Uzbekistan",
          "Uzbekistan",
          "Switzerland",
          "Germany",
          "Sweden",
          "Spain",
          "Israel",
          "Spain",
          "Portugal",
          "Russian Federation",
          "Italy",
          "Poland",
          "France",
          "France",
          "Spain",
          "Spain",
          "Germany",
          "Germany",
          "United Kingdom",
          "Germany",
          "Sweden",
          "Sweden",
          "Sweden",
          "Sweden",
          "Estonia",
          "Sweden",
          "France",
          "United Kingdom",
          "Germany",
          "Spain",
          "Cyprus",
          "Sweden",
          "Netherlands",
          "Netherlands",
          "Netherlands",
          "Netherlands",
          "Kazakhstan",
          "Denmark",
          "Spain",
          "Netherlands",
          "Netherlands",
          "Netherlands",
          "Netherlands",
          "France",
          "Portugal",
          "Portugal",
          "Slovakia",
          "Sweden",
          "France",
          "Netherlands",
          "Netherlands",
          "Netherlands",
          "Poland",
          "Poland",
          "Netherlands",
          "Netherlands",
          "Netherlands",
          "Netherlands",
          "United Kingdom",
          "Netherlands",
          "Netherlands",
          "Netherlands",
          "Netherlands",
          "Netherlands",
          "Netherlands",
          "Netherlands",
          "Austria",
          "Portugal",
          "United Kingdom",
          "United Kingdom",
          "Sweden",
          "United Kingdom",
          "Poland",
          "Netherlands",
          "France",
          "United Kingdom",
          "Spain",
          "Spain",
          "Spain",
          "Spain",
          "Spain",
          "Spain",
          "Ireland",
          "Spain",
          "Netherlands",
          "Poland",
          "Poland",
          "Portugal",
          "Spain",
          "Spain",
          "Spain",
          "France",
          "Portugal",
          "France",
          "Netherlands",
          "Netherlands",
          "Netherlands",
          "Belgium",
          "Poland",
          "Netherlands",
          "Netherlands",
          "United Kingdom",
          "United Kingdom",
          "United Kingdom",
          "United Kingdom",
          "United Kingdom",
          "United Kingdom",
          "United Kingdom",
          "United Kingdom",
          "Estonia",
          "Estonia",
          "Poland",
          "United Kingdom",
          "Italy",
          "Portugal",
          "Spain",
          "France",
          "France",
          "Germany",
          "Germany",
          "Italy",
          "United Kingdom",
          "United Kingdom",
          "United Kingdom",
          "Switzerland",
          "Switzerland",
          "Switzerland",
          "Switzerland",
          "Switzerland",
          "Switzerland",
          "Switzerland",
          "Switzerland",
          "Italy",
          "Spain",
          "Ukraine",
          "Switzerland",
          "France",
          "France",
          "France",
          "France",
          "France",
          "Germany",
          "Switzerland",
          "Italy",
          "France",
          "Italy",
          "France",
          "United Kingdom",
          "Ireland",
          "Ukraine",
          "Spain",
          "Namibia",
          "United Kingdom",
          "Russian Federation",
          "Greece",
          "United Kingdom",
          "Kenya",
          "Spain",
          "Russian Federation",
          "Russian Federation",
          "France",
          "France",
          "Russian Federation",
          "Germany",
          "Uzbekistan",
          "Uzbekistan",
          "Switzerland",
          "Spain",
          "Spain",
          "Poland",
          "Belgium",
          "France",
          "France",
          "Italy",
          "Russian Federation",
          "Russian Federation",
          "Netherlands",
          "Spain",
          "Italy",
          "Italy",
          "Turkey",
          "Czech Republic",
          "Spain",
          "Sweden",
          "France",
          "Sweden",
          "Kazakhstan",
          "Kazakhstan",
          "United Kingdom",
          "France",
          "Netherlands",
          "Sweden",
          "United Kingdom",
          "Uzbekistan",
          "United Kingdom",
          "United Kingdom",
          "Spain",
          "Poland",
          "United Kingdom",
          "France",
          "Spain",
          "Netherlands",
          "Spain",
          "Denmark",
          "Italy",
          "Italy",
          "Italy",
          "Italy",
          "Portugal",
          "United Kingdom",
          "France",
          "Germany",
          "France",
          "Russian Federation",
          "France",
          "Romania",
          "Spain",
          "Portugal",
          "United Kingdom",
          "Estonia",
          "Spain",
          "Poland",
          "Poland",
          "Poland",
          "Spain",
          "Spain",
          "Spain",
          "Spain",
          "Finland",
          "Russian Federation",
          "Poland",
          "Poland",
          "Poland",
          "China",
          "Estonia",
          "Estonia",
          "Germany",
          "Sweden",
          "Sweden",
          "France",
          "Portugal",
          "Portugal",
          "Portugal",
          "Portugal",
          "Portugal",
          "Portugal",
          "Italy",
          "France",
          "France",
          "France",
          "Poland",
          "Poland",
          "Poland",
          "Poland",
          "Sweden",
          "Netherlands",
          "Netherlands",
          "Netherlands",
          "Netherlands",
          "Spain",
          "Spain",
          "Netherlands",
          "Portugal",
          "Netherlands",
          "Spain",
          "Netherlands",
          "Sweden",
          "Slovakia",
          "Germany",
          "Portugal",
          "Sweden",
          "Estonia",
          "Germany",
          "Ireland",
          "Sweden",
          "Spain",
          "Spain",
          "Netherlands",
          "Netherlands",
          "Belgium",
          "United Kingdom",
          "Poland",
          "Switzerland",
          "Portugal",
          "Netherlands",
          "Netherlands",
          "Netherlands",
          "Sweden",
          "Italy",
          "Netherlands",
          "Netherlands",
          "Italy",
          "Germany",
          "Germany",
          "Sweden",
          "France",
          "Spain",
          "France",
          "Netherlands",
          "Spain",
          "United Kingdom",
          "Italy",
          "Ireland",
          "Ireland",
          "Ireland",
          "Ireland",
          "Estonia",
          "Estonia",
          "Estonia",
          "Estonia",
          "Estonia",
          "Netherlands",
          "Netherlands",
          "Netherlands",
          "Ireland",
          "Netherlands",
          "Netherlands",
          "Spain",
          "Netherlands",
          "Netherlands",
          "France",
          "Netherlands",
          "France",
          "Netherlands",
          "Sweden",
          "Sweden",
          "Netherlands",
          "Poland",
          "Netherlands",
          "France",
          "Croatia",
          "Spain",
          "Spain",
          "Spain",
          "United Kingdom",
          "United Kingdom",
          "Germany",
          "United Kingdom",
          "Poland",
          "Germany",
          "France",
          "Portugal",
          "United Kingdom",
          "France",
          "Portugal",
          "Portugal",
          "Portugal",
          "Portugal",
          "Portugal",
          "Portugal",
          "Poland",
          "Poland",
          "Italy",
          "Poland",
          "Poland",
          "France",
          "India",
          "Spain",
          "Czech Republic",
          "France",
          "Italy",
          "Russian Federation",
          "Russian Federation",
          "Russian Federation",
          "Russian Federation",
          "Russian Federation",
          "Sweden",
          "Sweden",
          "Germany",
          "Netherlands",
          "Germany",
          "Poland",
          "Germany",
          "Spain",
          "Spain",
          "Spain",
          "Spain",
          "Spain",
          "Spain",
          "Spain",
          "Portugal",
          "Portugal",
          "Sweden",
          "Portugal",
          "Netherlands",
          "Spain",
          "Poland",
          "Lithuania",
          "Germany",
          "Switzerland",
          "Switzerland",
          "Spain",
          "France",
          "France",
          "Spain",
          "France",
          "Netherlands",
          "Germany",
          "Spain",
          "France",
          "Germany",
          "Netherlands",
          "Netherlands",
          "Germany",
          "Italy",
          "Germany",
          "Spain",
          "Poland",
          "Finland",
          "France",
          "Spain",
          "Switzerland",
          "Netherlands",
          "France",
          "Poland",
          "Italy",
          "Norway",
          "Germany",
          "Germany",
          "Germany",
          "Estonia",
          "Poland",
          "Poland",
          "Germany",
          "Netherlands",
          "Sweden",
          "Sweden",
          "Sweden",
          "Denmark",
          "Sweden",
          "Sweden",
          "Sweden",
          "Ukraine",
          "Denmark",
          "Estonia",
          "Estonia",
          "Sweden",
          "Sweden",
          "Sweden",
          "France",
          "Belgium",
          "France",
          "Switzerland",
          "France",
          "Ukraine",
          "Italy",
          "Germany",
          "Sweden",
          "Italy",
          "Sweden",
          "France",
          "Spain",
          "Slovakia",
          "Turkey",
          "Italy",
          "Austria",
          "Spain",
          "Spain",
          "France",
          "France",
          "France",
          "Spain",
          "Portugal",
          "Portugal",
          "Portugal",
          "Slovakia",
          "United Kingdom",
          "Netherlands",
          "Netherlands",
          "Belgium",
          "France",
          "Finland",
          "Finland",
          "Finland",
          "Finland",
          "United Kingdom",
          "Spain",
          "Poland",
          "China",
          "Mongolia",
          "Ireland",
          "United Kingdom",
          "Spain",
          "Ireland",
          "Ireland",
          "France",
          "France",
          "France",
          "Sweden",
          "France",
          "France",
          "France",
          "France",
          "France",
          "Portugal",
          "France",
          "France",
          "France",
          "Sweden",
          "France",
          "France",
          "France",
          "France",
          "France",
          "France",
          "France",
          "France",
          "Spain",
          "Italy",
          "Portugal",
          "United Kingdom",
          "France",
          "France",
          "Netherlands",
          "Poland",
          "Sweden",
          "Sweden",
          "Estonia",
          "United Kingdom",
          "Italy",
          "Portugal",
          "Germany",
          "Portugal",
          "Sweden",
          "Poland",
          "Spain",
          "Spain",
          "United Kingdom",
          "Italy",
          "Sweden",
          "Poland",
          "Poland",
          "Poland",
          "United Kingdom",
          "Germany",
          "Poland",
          "Poland",
          "Poland",
          "Spain",
          "Poland",
          "Latvia",
          "Croatia",
          "France",
          "Spain",
          "Spain",
          "United Kingdom",
          "Estonia",
          "Sweden",
          "Sweden",
          "Spain",
          "Poland",
          "Poland",
          "Poland",
          "Poland",
          "France",
          "France",
          "Spain",
          "Sweden",
          "Poland",
          "United Kingdom",
          "United Kingdom",
          "Spain",
          "Spain",
          "United Kingdom",
          "Poland",
          "Poland",
          "France",
          "United Kingdom",
          "Spain",
          "Ireland",
          "United Kingdom",
          "United Kingdom",
          "Estonia",
          "Spain",
          "Spain",
          "Italy",
          "Poland",
          "Spain",
          "Poland",
          "Netherlands",
          "United Kingdom",
          "Poland",
          "Poland",
          "France",
          "Spain",
          "France",
          "France",
          "United Kingdom",
          "Spain",
          "Poland",
          "Spain",
          "Spain",
          "Spain",
          "Poland",
          "Poland",
          "France",
          "Spain",
          "Poland",
          "Portugal",
          "Poland",
          "Poland",
          "Russian Federation",
          "Poland",
          "Poland",
          "Poland",
          "Poland",
          "Poland",
          "Spain",
          "Spain",
          "France",
          "Spain",
          "France",
          "France",
          "Zambia",
          "Russian Federation",
          "Russian Federation",
          "Russian Federation",
          "Russian Federation",
          "China",
          "Germany",
          "Portugal",
          "Portugal",
          "Portugal",
          "Portugal",
          "Portugal",
          "Portugal",
          "Croatia",
          "Norway",
          "Poland",
          "Spain",
          "Poland",
          "Poland",
          "Poland",
          "Poland",
          "Poland",
          "Azerbaijan",
          "Poland",
          "France",
          "Uzbekistan",
          "Germany",
          "Germany",
          "Spain",
          "Germany",
          "Germany",
          "Germany",
          "Germany",
          "Sweden",
          "United Kingdom",
          "United Kingdom",
          "United Kingdom",
          "France",
          "Slovakia",
          "Russian Federation",
          "Spain",
          "Italy",
          "France",
          "Ireland",
          "Greece",
          "United Kingdom",
          "Germany",
          "Germany",
          "Germany",
          "United Kingdom",
          "Spain",
          "Spain",
          "Spain",
          "Germany",
          "France",
          "France",
          "France",
          "France",
          "France",
          "France",
          "France",
          "France",
          "France",
          "France",
          "France",
          "France",
          "Switzerland",
          "Germany",
          "Switzerland",
          "France",
          "Italy",
          "Namibia",
          "Namibia",
          "Namibia",
          "Switzerland",
          "Sweden",
          "Netherlands",
          "United Kingdom",
          "United Kingdom",
          "United Kingdom",
          "United Kingdom",
          "United Kingdom",
          "United Kingdom",
          "United Kingdom",
          "Germany",
          "Germany",
          "Estonia",
          "United Kingdom",
          "France",
          "France",
          "France",
          "France",
          "Russian Federation",
          "Russian Federation",
          "Russian Federation",
          "Netherlands",
          "Russian Federation",
          "Russian Federation",
          "Russian Federation",
          "Russian Federation",
          "United Kingdom",
          "Spain",
          "Italy",
          "Germany",
          "Israel",
          "Russian Federation",
          "Russian Federation",
          "Russian Federation",
          "Russian Federation",
          "Russian Federation",
          "Russian Federation",
          "Russian Federation",
          "Russian Federation",
          "Germany",
          "Russian Federation",
          "Russian Federation",
          "Uzbekistan"
         ],
         "xaxis": "x",
         "yaxis": "y"
        }
       ],
       "layout": {
        "barmode": "relative",
        "height": 400,
        "legend": {
         "tracegroupgap": 0
        },
        "template": {
         "data": {
          "bar": [
           {
            "error_x": {
             "color": "#f2f5fa"
            },
            "error_y": {
             "color": "#f2f5fa"
            },
            "marker": {
             "line": {
              "color": "rgb(17,17,17)",
              "width": 0.5
             },
             "pattern": {
              "fillmode": "overlay",
              "size": 10,
              "solidity": 0.2
             }
            },
            "type": "bar"
           }
          ],
          "barpolar": [
           {
            "marker": {
             "line": {
              "color": "rgb(17,17,17)",
              "width": 0.5
             },
             "pattern": {
              "fillmode": "overlay",
              "size": 10,
              "solidity": 0.2
             }
            },
            "type": "barpolar"
           }
          ],
          "carpet": [
           {
            "aaxis": {
             "endlinecolor": "#A2B1C6",
             "gridcolor": "#506784",
             "linecolor": "#506784",
             "minorgridcolor": "#506784",
             "startlinecolor": "#A2B1C6"
            },
            "baxis": {
             "endlinecolor": "#A2B1C6",
             "gridcolor": "#506784",
             "linecolor": "#506784",
             "minorgridcolor": "#506784",
             "startlinecolor": "#A2B1C6"
            },
            "type": "carpet"
           }
          ],
          "choropleth": [
           {
            "colorbar": {
             "outlinewidth": 0,
             "ticks": ""
            },
            "type": "choropleth"
           }
          ],
          "contour": [
           {
            "colorbar": {
             "outlinewidth": 0,
             "ticks": ""
            },
            "colorscale": [
             [
              0,
              "#0d0887"
             ],
             [
              0.1111111111111111,
              "#46039f"
             ],
             [
              0.2222222222222222,
              "#7201a8"
             ],
             [
              0.3333333333333333,
              "#9c179e"
             ],
             [
              0.4444444444444444,
              "#bd3786"
             ],
             [
              0.5555555555555556,
              "#d8576b"
             ],
             [
              0.6666666666666666,
              "#ed7953"
             ],
             [
              0.7777777777777778,
              "#fb9f3a"
             ],
             [
              0.8888888888888888,
              "#fdca26"
             ],
             [
              1,
              "#f0f921"
             ]
            ],
            "type": "contour"
           }
          ],
          "contourcarpet": [
           {
            "colorbar": {
             "outlinewidth": 0,
             "ticks": ""
            },
            "type": "contourcarpet"
           }
          ],
          "heatmap": [
           {
            "colorbar": {
             "outlinewidth": 0,
             "ticks": ""
            },
            "colorscale": [
             [
              0,
              "#0d0887"
             ],
             [
              0.1111111111111111,
              "#46039f"
             ],
             [
              0.2222222222222222,
              "#7201a8"
             ],
             [
              0.3333333333333333,
              "#9c179e"
             ],
             [
              0.4444444444444444,
              "#bd3786"
             ],
             [
              0.5555555555555556,
              "#d8576b"
             ],
             [
              0.6666666666666666,
              "#ed7953"
             ],
             [
              0.7777777777777778,
              "#fb9f3a"
             ],
             [
              0.8888888888888888,
              "#fdca26"
             ],
             [
              1,
              "#f0f921"
             ]
            ],
            "type": "heatmap"
           }
          ],
          "heatmapgl": [
           {
            "colorbar": {
             "outlinewidth": 0,
             "ticks": ""
            },
            "colorscale": [
             [
              0,
              "#0d0887"
             ],
             [
              0.1111111111111111,
              "#46039f"
             ],
             [
              0.2222222222222222,
              "#7201a8"
             ],
             [
              0.3333333333333333,
              "#9c179e"
             ],
             [
              0.4444444444444444,
              "#bd3786"
             ],
             [
              0.5555555555555556,
              "#d8576b"
             ],
             [
              0.6666666666666666,
              "#ed7953"
             ],
             [
              0.7777777777777778,
              "#fb9f3a"
             ],
             [
              0.8888888888888888,
              "#fdca26"
             ],
             [
              1,
              "#f0f921"
             ]
            ],
            "type": "heatmapgl"
           }
          ],
          "histogram": [
           {
            "marker": {
             "pattern": {
              "fillmode": "overlay",
              "size": 10,
              "solidity": 0.2
             }
            },
            "type": "histogram"
           }
          ],
          "histogram2d": [
           {
            "colorbar": {
             "outlinewidth": 0,
             "ticks": ""
            },
            "colorscale": [
             [
              0,
              "#0d0887"
             ],
             [
              0.1111111111111111,
              "#46039f"
             ],
             [
              0.2222222222222222,
              "#7201a8"
             ],
             [
              0.3333333333333333,
              "#9c179e"
             ],
             [
              0.4444444444444444,
              "#bd3786"
             ],
             [
              0.5555555555555556,
              "#d8576b"
             ],
             [
              0.6666666666666666,
              "#ed7953"
             ],
             [
              0.7777777777777778,
              "#fb9f3a"
             ],
             [
              0.8888888888888888,
              "#fdca26"
             ],
             [
              1,
              "#f0f921"
             ]
            ],
            "type": "histogram2d"
           }
          ],
          "histogram2dcontour": [
           {
            "colorbar": {
             "outlinewidth": 0,
             "ticks": ""
            },
            "colorscale": [
             [
              0,
              "#0d0887"
             ],
             [
              0.1111111111111111,
              "#46039f"
             ],
             [
              0.2222222222222222,
              "#7201a8"
             ],
             [
              0.3333333333333333,
              "#9c179e"
             ],
             [
              0.4444444444444444,
              "#bd3786"
             ],
             [
              0.5555555555555556,
              "#d8576b"
             ],
             [
              0.6666666666666666,
              "#ed7953"
             ],
             [
              0.7777777777777778,
              "#fb9f3a"
             ],
             [
              0.8888888888888888,
              "#fdca26"
             ],
             [
              1,
              "#f0f921"
             ]
            ],
            "type": "histogram2dcontour"
           }
          ],
          "mesh3d": [
           {
            "colorbar": {
             "outlinewidth": 0,
             "ticks": ""
            },
            "type": "mesh3d"
           }
          ],
          "parcoords": [
           {
            "line": {
             "colorbar": {
              "outlinewidth": 0,
              "ticks": ""
             }
            },
            "type": "parcoords"
           }
          ],
          "pie": [
           {
            "automargin": true,
            "type": "pie"
           }
          ],
          "scatter": [
           {
            "marker": {
             "line": {
              "color": "#283442"
             }
            },
            "type": "scatter"
           }
          ],
          "scatter3d": [
           {
            "line": {
             "colorbar": {
              "outlinewidth": 0,
              "ticks": ""
             }
            },
            "marker": {
             "colorbar": {
              "outlinewidth": 0,
              "ticks": ""
             }
            },
            "type": "scatter3d"
           }
          ],
          "scattercarpet": [
           {
            "marker": {
             "colorbar": {
              "outlinewidth": 0,
              "ticks": ""
             }
            },
            "type": "scattercarpet"
           }
          ],
          "scattergeo": [
           {
            "marker": {
             "colorbar": {
              "outlinewidth": 0,
              "ticks": ""
             }
            },
            "type": "scattergeo"
           }
          ],
          "scattergl": [
           {
            "marker": {
             "line": {
              "color": "#283442"
             }
            },
            "type": "scattergl"
           }
          ],
          "scattermapbox": [
           {
            "marker": {
             "colorbar": {
              "outlinewidth": 0,
              "ticks": ""
             }
            },
            "type": "scattermapbox"
           }
          ],
          "scatterpolar": [
           {
            "marker": {
             "colorbar": {
              "outlinewidth": 0,
              "ticks": ""
             }
            },
            "type": "scatterpolar"
           }
          ],
          "scatterpolargl": [
           {
            "marker": {
             "colorbar": {
              "outlinewidth": 0,
              "ticks": ""
             }
            },
            "type": "scatterpolargl"
           }
          ],
          "scatterternary": [
           {
            "marker": {
             "colorbar": {
              "outlinewidth": 0,
              "ticks": ""
             }
            },
            "type": "scatterternary"
           }
          ],
          "surface": [
           {
            "colorbar": {
             "outlinewidth": 0,
             "ticks": ""
            },
            "colorscale": [
             [
              0,
              "#0d0887"
             ],
             [
              0.1111111111111111,
              "#46039f"
             ],
             [
              0.2222222222222222,
              "#7201a8"
             ],
             [
              0.3333333333333333,
              "#9c179e"
             ],
             [
              0.4444444444444444,
              "#bd3786"
             ],
             [
              0.5555555555555556,
              "#d8576b"
             ],
             [
              0.6666666666666666,
              "#ed7953"
             ],
             [
              0.7777777777777778,
              "#fb9f3a"
             ],
             [
              0.8888888888888888,
              "#fdca26"
             ],
             [
              1,
              "#f0f921"
             ]
            ],
            "type": "surface"
           }
          ],
          "table": [
           {
            "cells": {
             "fill": {
              "color": "#506784"
             },
             "line": {
              "color": "rgb(17,17,17)"
             }
            },
            "header": {
             "fill": {
              "color": "#2a3f5f"
             },
             "line": {
              "color": "rgb(17,17,17)"
             }
            },
            "type": "table"
           }
          ]
         },
         "layout": {
          "annotationdefaults": {
           "arrowcolor": "#f2f5fa",
           "arrowhead": 0,
           "arrowwidth": 1
          },
          "autotypenumbers": "strict",
          "coloraxis": {
           "colorbar": {
            "outlinewidth": 0,
            "ticks": ""
           }
          },
          "colorscale": {
           "diverging": [
            [
             0,
             "#8e0152"
            ],
            [
             0.1,
             "#c51b7d"
            ],
            [
             0.2,
             "#de77ae"
            ],
            [
             0.3,
             "#f1b6da"
            ],
            [
             0.4,
             "#fde0ef"
            ],
            [
             0.5,
             "#f7f7f7"
            ],
            [
             0.6,
             "#e6f5d0"
            ],
            [
             0.7,
             "#b8e186"
            ],
            [
             0.8,
             "#7fbc41"
            ],
            [
             0.9,
             "#4d9221"
            ],
            [
             1,
             "#276419"
            ]
           ],
           "sequential": [
            [
             0,
             "#0d0887"
            ],
            [
             0.1111111111111111,
             "#46039f"
            ],
            [
             0.2222222222222222,
             "#7201a8"
            ],
            [
             0.3333333333333333,
             "#9c179e"
            ],
            [
             0.4444444444444444,
             "#bd3786"
            ],
            [
             0.5555555555555556,
             "#d8576b"
            ],
            [
             0.6666666666666666,
             "#ed7953"
            ],
            [
             0.7777777777777778,
             "#fb9f3a"
            ],
            [
             0.8888888888888888,
             "#fdca26"
            ],
            [
             1,
             "#f0f921"
            ]
           ],
           "sequentialminus": [
            [
             0,
             "#0d0887"
            ],
            [
             0.1111111111111111,
             "#46039f"
            ],
            [
             0.2222222222222222,
             "#7201a8"
            ],
            [
             0.3333333333333333,
             "#9c179e"
            ],
            [
             0.4444444444444444,
             "#bd3786"
            ],
            [
             0.5555555555555556,
             "#d8576b"
            ],
            [
             0.6666666666666666,
             "#ed7953"
            ],
            [
             0.7777777777777778,
             "#fb9f3a"
            ],
            [
             0.8888888888888888,
             "#fdca26"
            ],
            [
             1,
             "#f0f921"
            ]
           ]
          },
          "colorway": [
           "#636efa",
           "#EF553B",
           "#00cc96",
           "#ab63fa",
           "#FFA15A",
           "#19d3f3",
           "#FF6692",
           "#B6E880",
           "#FF97FF",
           "#FECB52"
          ],
          "font": {
           "color": "#f2f5fa"
          },
          "geo": {
           "bgcolor": "rgb(17,17,17)",
           "lakecolor": "rgb(17,17,17)",
           "landcolor": "rgb(17,17,17)",
           "showlakes": true,
           "showland": true,
           "subunitcolor": "#506784"
          },
          "hoverlabel": {
           "align": "left"
          },
          "hovermode": "closest",
          "mapbox": {
           "style": "dark"
          },
          "paper_bgcolor": "rgb(17,17,17)",
          "plot_bgcolor": "rgb(17,17,17)",
          "polar": {
           "angularaxis": {
            "gridcolor": "#506784",
            "linecolor": "#506784",
            "ticks": ""
           },
           "bgcolor": "rgb(17,17,17)",
           "radialaxis": {
            "gridcolor": "#506784",
            "linecolor": "#506784",
            "ticks": ""
           }
          },
          "scene": {
           "xaxis": {
            "backgroundcolor": "rgb(17,17,17)",
            "gridcolor": "#506784",
            "gridwidth": 2,
            "linecolor": "#506784",
            "showbackground": true,
            "ticks": "",
            "zerolinecolor": "#C8D4E3"
           },
           "yaxis": {
            "backgroundcolor": "rgb(17,17,17)",
            "gridcolor": "#506784",
            "gridwidth": 2,
            "linecolor": "#506784",
            "showbackground": true,
            "ticks": "",
            "zerolinecolor": "#C8D4E3"
           },
           "zaxis": {
            "backgroundcolor": "rgb(17,17,17)",
            "gridcolor": "#506784",
            "gridwidth": 2,
            "linecolor": "#506784",
            "showbackground": true,
            "ticks": "",
            "zerolinecolor": "#C8D4E3"
           }
          },
          "shapedefaults": {
           "line": {
            "color": "#f2f5fa"
           }
          },
          "sliderdefaults": {
           "bgcolor": "#C8D4E3",
           "bordercolor": "rgb(17,17,17)",
           "borderwidth": 1,
           "tickwidth": 0
          },
          "ternary": {
           "aaxis": {
            "gridcolor": "#506784",
            "linecolor": "#506784",
            "ticks": ""
           },
           "baxis": {
            "gridcolor": "#506784",
            "linecolor": "#506784",
            "ticks": ""
           },
           "bgcolor": "rgb(17,17,17)",
           "caxis": {
            "gridcolor": "#506784",
            "linecolor": "#506784",
            "ticks": ""
           }
          },
          "title": {
           "x": 0.05
          },
          "updatemenudefaults": {
           "bgcolor": "#506784",
           "borderwidth": 0
          },
          "xaxis": {
           "automargin": true,
           "gridcolor": "#283442",
           "linecolor": "#506784",
           "ticks": "",
           "title": {
            "standoff": 15
           },
           "zerolinecolor": "#283442",
           "zerolinewidth": 2
          },
          "yaxis": {
           "automargin": true,
           "gridcolor": "#283442",
           "linecolor": "#506784",
           "ticks": "",
           "title": {
            "standoff": 15
           },
           "zerolinecolor": "#283442",
           "zerolinewidth": 2
          }
         }
        },
        "title": {
         "text": "Recordings by Country"
        },
        "width": 600,
        "xaxis": {
         "anchor": "y",
         "domain": [
          0,
          1
         ],
         "title": {
          "text": "cnt"
         }
        },
        "yaxis": {
         "anchor": "x",
         "domain": [
          0,
          1
         ],
         "title": {
          "text": "count"
         }
        }
       }
      }
     },
     "metadata": {},
     "output_type": "display_data"
    }
   ],
   "source": [
    "# check statistics\n",
    "import plotly.express as px\n",
    "\n",
    "px.histogram(df[uselful_cols], x='cnt', template='plotly_dark', \n",
    "             height=400, width=600,\n",
    "             title='Recordings by Country')"
   ]
  },
  {
   "cell_type": "code",
   "execution_count": 43,
   "metadata": {},
   "outputs": [
    {
     "data": {
      "application/vnd.plotly.v1+json": {
       "config": {
        "plotlyServerURL": "https://plot.ly"
       },
       "data": [
        {
         "alignmentgroup": "True",
         "bingroup": "x",
         "histnorm": "percent",
         "hovertemplate": "q=%{x}<br>percent=%{y}<extra></extra>",
         "legendgroup": "",
         "marker": {
          "color": "#636efa",
          "pattern": {
           "shape": ""
          }
         },
         "name": "",
         "offsetgroup": "",
         "orientation": "v",
         "showlegend": false,
         "type": "histogram",
         "x": [
          "B",
          "B",
          "B",
          "B",
          "B",
          "B",
          "B",
          "B",
          "B",
          "B",
          "B",
          "B",
          "B",
          "B",
          "B",
          "B",
          "B",
          "B",
          "B",
          "C",
          "C",
          "C",
          "C",
          "C",
          "C",
          "C",
          "C",
          "C",
          "C",
          "C",
          "C",
          "C",
          "C",
          "C",
          "C",
          "C",
          "C",
          "C",
          "C",
          "C",
          "C",
          "C",
          "C",
          "C",
          "C",
          "C",
          "C",
          "C",
          "C",
          "C",
          "C",
          "C",
          "C",
          "C",
          "C",
          "C",
          "C",
          "C",
          "C",
          "C",
          "C",
          "C",
          "C",
          "C",
          "C",
          "C",
          "C",
          "C",
          "C",
          "C",
          "C",
          "C",
          "C",
          "C",
          "C",
          "C",
          "C",
          "C",
          "C",
          "C",
          "C",
          "C",
          "C",
          "C",
          "C",
          "C",
          "C",
          "C",
          "C",
          "C",
          "C",
          "C",
          "C",
          "C",
          "C",
          "C",
          "C",
          "C",
          "C",
          "C",
          "C",
          "C",
          "C",
          "C",
          "C",
          "C",
          "C",
          "C",
          "C",
          "C",
          "C",
          "C",
          "C",
          "C",
          "C",
          "C",
          "C",
          "C",
          "C",
          "C",
          "C",
          "C",
          "C",
          "C",
          "C",
          "C",
          "C",
          "C",
          "C",
          "C",
          "C",
          "C",
          "C",
          "C",
          "C",
          "C",
          "C",
          "C",
          "C",
          "C",
          "C",
          "C",
          "C",
          "C",
          "C",
          "C",
          "C",
          "C",
          "C",
          "C",
          "C",
          "C",
          "C",
          "C",
          "C",
          "C",
          "C",
          "C",
          "C",
          "C",
          "C",
          "C",
          "C",
          "C",
          "C",
          "C",
          "C",
          "C",
          "C",
          "C",
          "C",
          "C",
          "C",
          "C",
          "C",
          "C",
          "C",
          "C",
          "C",
          "C",
          "C",
          "C",
          "C",
          "C",
          "D",
          "D",
          "D",
          "D",
          "D",
          "D",
          "D",
          "D",
          "D",
          "D",
          "D",
          "D",
          "D",
          "D",
          "D",
          "D",
          "D",
          "D",
          "D",
          "D",
          "D",
          "D",
          "D",
          "D",
          "D",
          "D",
          "D",
          "D",
          "D",
          "D",
          "D",
          "D",
          "D",
          "E",
          "E",
          "E",
          "E",
          "E",
          "E",
          "E",
          "E",
          "E",
          "E",
          "E",
          "E",
          "E",
          "A",
          "A",
          "A",
          "A",
          "A",
          "A",
          "A",
          "A",
          "A",
          "A",
          "A",
          "A",
          "A",
          "A",
          "A",
          "A",
          "A",
          "A",
          "A",
          "A",
          "A",
          "A",
          "A",
          "A",
          "A",
          "A",
          "A",
          "A",
          "A",
          "A",
          "A",
          "A",
          "A",
          "A",
          "A",
          "A",
          "A",
          "A",
          "A",
          "A",
          "A",
          "A",
          "A",
          "A",
          "A",
          "A",
          "A",
          "A",
          "A",
          "A",
          "A",
          "A",
          "A",
          "A",
          "A",
          "A",
          "A",
          "A",
          "A",
          "A",
          "A",
          "A",
          "A",
          "A",
          "A",
          "A",
          "A",
          "A",
          "A",
          "A",
          "A",
          "A",
          "A",
          "A",
          "A",
          "A",
          "A",
          "A",
          "A",
          "A",
          "A",
          "A",
          "A",
          "A",
          "A",
          "A",
          "A",
          "A",
          "A",
          "A",
          "A",
          "A",
          "A",
          "A",
          "A",
          "A",
          "A",
          "A",
          "A",
          "A",
          "A",
          "A",
          "A",
          "A",
          "A",
          "A",
          "A",
          "A",
          "A",
          "A",
          "A",
          "A",
          "A",
          "A",
          "A",
          "A",
          "A",
          "A",
          "A",
          "A",
          "A",
          "A",
          "A",
          "A",
          "A",
          "A",
          "A",
          "A",
          "A",
          "A",
          "A",
          "A",
          "A",
          "A",
          "A",
          "A",
          "A",
          "A",
          "A",
          "A",
          "A",
          "A",
          "A",
          "A",
          "A",
          "A",
          "A",
          "A",
          "A",
          "A",
          "A",
          "A",
          "A",
          "A",
          "A",
          "A",
          "A",
          "A",
          "A",
          "A",
          "A",
          "A",
          "A",
          "A",
          "A",
          "A",
          "A",
          "A",
          "A",
          "A",
          "A",
          "A",
          "A",
          "A",
          "A",
          "A",
          "A",
          "A",
          "A",
          "A",
          "A",
          "A",
          "A",
          "A",
          "A",
          "A",
          "A",
          "A",
          "A",
          "A",
          "A",
          "A",
          "A",
          "A",
          "A",
          "A",
          "A",
          "A",
          "B",
          "B",
          "B",
          "B",
          "B",
          "B",
          "B",
          "B",
          "B",
          "B",
          "B",
          "B",
          "B",
          "B",
          "B",
          "B",
          "B",
          "B",
          "B",
          "B",
          "B",
          "B",
          "B",
          "B",
          "B",
          "B",
          "B",
          "B",
          "B",
          "B",
          "B",
          "B",
          "B",
          "B",
          "B",
          "B",
          "B",
          "B",
          "B",
          "B",
          "B",
          "B",
          "B",
          "B",
          "B",
          "B",
          "B",
          "B",
          "B",
          "B",
          "B",
          "B",
          "B",
          "B",
          "B",
          "B",
          "B",
          "B",
          "B",
          "B",
          "B",
          "B",
          "B",
          "B",
          "B",
          "B",
          "B",
          "B",
          "B",
          "B",
          "B",
          "B",
          "B",
          "B",
          "B",
          "B",
          "B",
          "B",
          "B",
          "B",
          "B",
          "B",
          "B",
          "B",
          "B",
          "B",
          "B",
          "B",
          "B",
          "B",
          "B",
          "B",
          "B",
          "B",
          "B",
          "B",
          "B",
          "B",
          "B",
          "B",
          "B",
          "B",
          "B",
          "B",
          "B",
          "B",
          "B",
          "B",
          "B",
          "B",
          "B",
          "B",
          "B",
          "B",
          "B",
          "B",
          "B",
          "B",
          "B",
          "B",
          "B",
          "B",
          "B",
          "B",
          "B",
          "B",
          "B",
          "B",
          "B",
          "B",
          "B",
          "B",
          "B",
          "B",
          "B",
          "B",
          "B",
          "B",
          "B",
          "B",
          "B",
          "B",
          "B",
          "B",
          "B",
          "B",
          "B",
          "B",
          "B",
          "B",
          "B",
          "B",
          "B",
          "B",
          "B",
          "B",
          "B",
          "B",
          "B",
          "B",
          "B",
          "B",
          "B",
          "B",
          "B",
          "B",
          "B",
          "B",
          "B",
          "B",
          "B",
          "B",
          "B",
          "B",
          "B",
          "B",
          "B",
          "B",
          "B",
          "B",
          "B",
          "B",
          "B",
          "B",
          "B",
          "B",
          "B",
          "B",
          "B",
          "B",
          "B",
          "B",
          "B",
          "B",
          "B",
          "B",
          "B",
          "B",
          "B",
          "B",
          "B",
          "B",
          "B",
          "B",
          "B",
          "B",
          "B",
          "B",
          "B",
          "B",
          "B",
          "B",
          "B",
          "B",
          "B",
          "B",
          "B",
          "B",
          "B",
          "B",
          "B",
          "B",
          "B",
          "B",
          "B",
          "B",
          "B",
          "B",
          "B",
          "B",
          "B",
          "B",
          "B",
          "B",
          "B",
          "B",
          "B",
          "B",
          "B",
          "B",
          "B",
          "B",
          "B",
          "B",
          "B",
          "B",
          "B",
          "B",
          "B",
          "B",
          "B",
          "B",
          "B",
          "B",
          "B",
          "B",
          "B",
          "B",
          "B",
          "B",
          "B",
          "B",
          "B",
          "B",
          "B",
          "B",
          "B",
          "B",
          "B",
          "B",
          "B",
          "B",
          "B",
          "B",
          "B",
          "B",
          "B",
          "B",
          "B",
          "B",
          "B",
          "B",
          "B",
          "B",
          "B",
          "B",
          "B",
          "B",
          "B",
          "B",
          "B",
          "B",
          "B",
          "B",
          "B",
          "B",
          "B",
          "B",
          "B",
          "B",
          "B",
          "B"
         ],
         "xaxis": "x",
         "yaxis": "y"
        }
       ],
       "layout": {
        "barmode": "relative",
        "height": 400,
        "legend": {
         "tracegroupgap": 0
        },
        "template": {
         "data": {
          "bar": [
           {
            "error_x": {
             "color": "#f2f5fa"
            },
            "error_y": {
             "color": "#f2f5fa"
            },
            "marker": {
             "line": {
              "color": "rgb(17,17,17)",
              "width": 0.5
             },
             "pattern": {
              "fillmode": "overlay",
              "size": 10,
              "solidity": 0.2
             }
            },
            "type": "bar"
           }
          ],
          "barpolar": [
           {
            "marker": {
             "line": {
              "color": "rgb(17,17,17)",
              "width": 0.5
             },
             "pattern": {
              "fillmode": "overlay",
              "size": 10,
              "solidity": 0.2
             }
            },
            "type": "barpolar"
           }
          ],
          "carpet": [
           {
            "aaxis": {
             "endlinecolor": "#A2B1C6",
             "gridcolor": "#506784",
             "linecolor": "#506784",
             "minorgridcolor": "#506784",
             "startlinecolor": "#A2B1C6"
            },
            "baxis": {
             "endlinecolor": "#A2B1C6",
             "gridcolor": "#506784",
             "linecolor": "#506784",
             "minorgridcolor": "#506784",
             "startlinecolor": "#A2B1C6"
            },
            "type": "carpet"
           }
          ],
          "choropleth": [
           {
            "colorbar": {
             "outlinewidth": 0,
             "ticks": ""
            },
            "type": "choropleth"
           }
          ],
          "contour": [
           {
            "colorbar": {
             "outlinewidth": 0,
             "ticks": ""
            },
            "colorscale": [
             [
              0,
              "#0d0887"
             ],
             [
              0.1111111111111111,
              "#46039f"
             ],
             [
              0.2222222222222222,
              "#7201a8"
             ],
             [
              0.3333333333333333,
              "#9c179e"
             ],
             [
              0.4444444444444444,
              "#bd3786"
             ],
             [
              0.5555555555555556,
              "#d8576b"
             ],
             [
              0.6666666666666666,
              "#ed7953"
             ],
             [
              0.7777777777777778,
              "#fb9f3a"
             ],
             [
              0.8888888888888888,
              "#fdca26"
             ],
             [
              1,
              "#f0f921"
             ]
            ],
            "type": "contour"
           }
          ],
          "contourcarpet": [
           {
            "colorbar": {
             "outlinewidth": 0,
             "ticks": ""
            },
            "type": "contourcarpet"
           }
          ],
          "heatmap": [
           {
            "colorbar": {
             "outlinewidth": 0,
             "ticks": ""
            },
            "colorscale": [
             [
              0,
              "#0d0887"
             ],
             [
              0.1111111111111111,
              "#46039f"
             ],
             [
              0.2222222222222222,
              "#7201a8"
             ],
             [
              0.3333333333333333,
              "#9c179e"
             ],
             [
              0.4444444444444444,
              "#bd3786"
             ],
             [
              0.5555555555555556,
              "#d8576b"
             ],
             [
              0.6666666666666666,
              "#ed7953"
             ],
             [
              0.7777777777777778,
              "#fb9f3a"
             ],
             [
              0.8888888888888888,
              "#fdca26"
             ],
             [
              1,
              "#f0f921"
             ]
            ],
            "type": "heatmap"
           }
          ],
          "heatmapgl": [
           {
            "colorbar": {
             "outlinewidth": 0,
             "ticks": ""
            },
            "colorscale": [
             [
              0,
              "#0d0887"
             ],
             [
              0.1111111111111111,
              "#46039f"
             ],
             [
              0.2222222222222222,
              "#7201a8"
             ],
             [
              0.3333333333333333,
              "#9c179e"
             ],
             [
              0.4444444444444444,
              "#bd3786"
             ],
             [
              0.5555555555555556,
              "#d8576b"
             ],
             [
              0.6666666666666666,
              "#ed7953"
             ],
             [
              0.7777777777777778,
              "#fb9f3a"
             ],
             [
              0.8888888888888888,
              "#fdca26"
             ],
             [
              1,
              "#f0f921"
             ]
            ],
            "type": "heatmapgl"
           }
          ],
          "histogram": [
           {
            "marker": {
             "pattern": {
              "fillmode": "overlay",
              "size": 10,
              "solidity": 0.2
             }
            },
            "type": "histogram"
           }
          ],
          "histogram2d": [
           {
            "colorbar": {
             "outlinewidth": 0,
             "ticks": ""
            },
            "colorscale": [
             [
              0,
              "#0d0887"
             ],
             [
              0.1111111111111111,
              "#46039f"
             ],
             [
              0.2222222222222222,
              "#7201a8"
             ],
             [
              0.3333333333333333,
              "#9c179e"
             ],
             [
              0.4444444444444444,
              "#bd3786"
             ],
             [
              0.5555555555555556,
              "#d8576b"
             ],
             [
              0.6666666666666666,
              "#ed7953"
             ],
             [
              0.7777777777777778,
              "#fb9f3a"
             ],
             [
              0.8888888888888888,
              "#fdca26"
             ],
             [
              1,
              "#f0f921"
             ]
            ],
            "type": "histogram2d"
           }
          ],
          "histogram2dcontour": [
           {
            "colorbar": {
             "outlinewidth": 0,
             "ticks": ""
            },
            "colorscale": [
             [
              0,
              "#0d0887"
             ],
             [
              0.1111111111111111,
              "#46039f"
             ],
             [
              0.2222222222222222,
              "#7201a8"
             ],
             [
              0.3333333333333333,
              "#9c179e"
             ],
             [
              0.4444444444444444,
              "#bd3786"
             ],
             [
              0.5555555555555556,
              "#d8576b"
             ],
             [
              0.6666666666666666,
              "#ed7953"
             ],
             [
              0.7777777777777778,
              "#fb9f3a"
             ],
             [
              0.8888888888888888,
              "#fdca26"
             ],
             [
              1,
              "#f0f921"
             ]
            ],
            "type": "histogram2dcontour"
           }
          ],
          "mesh3d": [
           {
            "colorbar": {
             "outlinewidth": 0,
             "ticks": ""
            },
            "type": "mesh3d"
           }
          ],
          "parcoords": [
           {
            "line": {
             "colorbar": {
              "outlinewidth": 0,
              "ticks": ""
             }
            },
            "type": "parcoords"
           }
          ],
          "pie": [
           {
            "automargin": true,
            "type": "pie"
           }
          ],
          "scatter": [
           {
            "marker": {
             "line": {
              "color": "#283442"
             }
            },
            "type": "scatter"
           }
          ],
          "scatter3d": [
           {
            "line": {
             "colorbar": {
              "outlinewidth": 0,
              "ticks": ""
             }
            },
            "marker": {
             "colorbar": {
              "outlinewidth": 0,
              "ticks": ""
             }
            },
            "type": "scatter3d"
           }
          ],
          "scattercarpet": [
           {
            "marker": {
             "colorbar": {
              "outlinewidth": 0,
              "ticks": ""
             }
            },
            "type": "scattercarpet"
           }
          ],
          "scattergeo": [
           {
            "marker": {
             "colorbar": {
              "outlinewidth": 0,
              "ticks": ""
             }
            },
            "type": "scattergeo"
           }
          ],
          "scattergl": [
           {
            "marker": {
             "line": {
              "color": "#283442"
             }
            },
            "type": "scattergl"
           }
          ],
          "scattermapbox": [
           {
            "marker": {
             "colorbar": {
              "outlinewidth": 0,
              "ticks": ""
             }
            },
            "type": "scattermapbox"
           }
          ],
          "scatterpolar": [
           {
            "marker": {
             "colorbar": {
              "outlinewidth": 0,
              "ticks": ""
             }
            },
            "type": "scatterpolar"
           }
          ],
          "scatterpolargl": [
           {
            "marker": {
             "colorbar": {
              "outlinewidth": 0,
              "ticks": ""
             }
            },
            "type": "scatterpolargl"
           }
          ],
          "scatterternary": [
           {
            "marker": {
             "colorbar": {
              "outlinewidth": 0,
              "ticks": ""
             }
            },
            "type": "scatterternary"
           }
          ],
          "surface": [
           {
            "colorbar": {
             "outlinewidth": 0,
             "ticks": ""
            },
            "colorscale": [
             [
              0,
              "#0d0887"
             ],
             [
              0.1111111111111111,
              "#46039f"
             ],
             [
              0.2222222222222222,
              "#7201a8"
             ],
             [
              0.3333333333333333,
              "#9c179e"
             ],
             [
              0.4444444444444444,
              "#bd3786"
             ],
             [
              0.5555555555555556,
              "#d8576b"
             ],
             [
              0.6666666666666666,
              "#ed7953"
             ],
             [
              0.7777777777777778,
              "#fb9f3a"
             ],
             [
              0.8888888888888888,
              "#fdca26"
             ],
             [
              1,
              "#f0f921"
             ]
            ],
            "type": "surface"
           }
          ],
          "table": [
           {
            "cells": {
             "fill": {
              "color": "#506784"
             },
             "line": {
              "color": "rgb(17,17,17)"
             }
            },
            "header": {
             "fill": {
              "color": "#2a3f5f"
             },
             "line": {
              "color": "rgb(17,17,17)"
             }
            },
            "type": "table"
           }
          ]
         },
         "layout": {
          "annotationdefaults": {
           "arrowcolor": "#f2f5fa",
           "arrowhead": 0,
           "arrowwidth": 1
          },
          "autotypenumbers": "strict",
          "coloraxis": {
           "colorbar": {
            "outlinewidth": 0,
            "ticks": ""
           }
          },
          "colorscale": {
           "diverging": [
            [
             0,
             "#8e0152"
            ],
            [
             0.1,
             "#c51b7d"
            ],
            [
             0.2,
             "#de77ae"
            ],
            [
             0.3,
             "#f1b6da"
            ],
            [
             0.4,
             "#fde0ef"
            ],
            [
             0.5,
             "#f7f7f7"
            ],
            [
             0.6,
             "#e6f5d0"
            ],
            [
             0.7,
             "#b8e186"
            ],
            [
             0.8,
             "#7fbc41"
            ],
            [
             0.9,
             "#4d9221"
            ],
            [
             1,
             "#276419"
            ]
           ],
           "sequential": [
            [
             0,
             "#0d0887"
            ],
            [
             0.1111111111111111,
             "#46039f"
            ],
            [
             0.2222222222222222,
             "#7201a8"
            ],
            [
             0.3333333333333333,
             "#9c179e"
            ],
            [
             0.4444444444444444,
             "#bd3786"
            ],
            [
             0.5555555555555556,
             "#d8576b"
            ],
            [
             0.6666666666666666,
             "#ed7953"
            ],
            [
             0.7777777777777778,
             "#fb9f3a"
            ],
            [
             0.8888888888888888,
             "#fdca26"
            ],
            [
             1,
             "#f0f921"
            ]
           ],
           "sequentialminus": [
            [
             0,
             "#0d0887"
            ],
            [
             0.1111111111111111,
             "#46039f"
            ],
            [
             0.2222222222222222,
             "#7201a8"
            ],
            [
             0.3333333333333333,
             "#9c179e"
            ],
            [
             0.4444444444444444,
             "#bd3786"
            ],
            [
             0.5555555555555556,
             "#d8576b"
            ],
            [
             0.6666666666666666,
             "#ed7953"
            ],
            [
             0.7777777777777778,
             "#fb9f3a"
            ],
            [
             0.8888888888888888,
             "#fdca26"
            ],
            [
             1,
             "#f0f921"
            ]
           ]
          },
          "colorway": [
           "#636efa",
           "#EF553B",
           "#00cc96",
           "#ab63fa",
           "#FFA15A",
           "#19d3f3",
           "#FF6692",
           "#B6E880",
           "#FF97FF",
           "#FECB52"
          ],
          "font": {
           "color": "#f2f5fa"
          },
          "geo": {
           "bgcolor": "rgb(17,17,17)",
           "lakecolor": "rgb(17,17,17)",
           "landcolor": "rgb(17,17,17)",
           "showlakes": true,
           "showland": true,
           "subunitcolor": "#506784"
          },
          "hoverlabel": {
           "align": "left"
          },
          "hovermode": "closest",
          "mapbox": {
           "style": "dark"
          },
          "paper_bgcolor": "rgb(17,17,17)",
          "plot_bgcolor": "rgb(17,17,17)",
          "polar": {
           "angularaxis": {
            "gridcolor": "#506784",
            "linecolor": "#506784",
            "ticks": ""
           },
           "bgcolor": "rgb(17,17,17)",
           "radialaxis": {
            "gridcolor": "#506784",
            "linecolor": "#506784",
            "ticks": ""
           }
          },
          "scene": {
           "xaxis": {
            "backgroundcolor": "rgb(17,17,17)",
            "gridcolor": "#506784",
            "gridwidth": 2,
            "linecolor": "#506784",
            "showbackground": true,
            "ticks": "",
            "zerolinecolor": "#C8D4E3"
           },
           "yaxis": {
            "backgroundcolor": "rgb(17,17,17)",
            "gridcolor": "#506784",
            "gridwidth": 2,
            "linecolor": "#506784",
            "showbackground": true,
            "ticks": "",
            "zerolinecolor": "#C8D4E3"
           },
           "zaxis": {
            "backgroundcolor": "rgb(17,17,17)",
            "gridcolor": "#506784",
            "gridwidth": 2,
            "linecolor": "#506784",
            "showbackground": true,
            "ticks": "",
            "zerolinecolor": "#C8D4E3"
           }
          },
          "shapedefaults": {
           "line": {
            "color": "#f2f5fa"
           }
          },
          "sliderdefaults": {
           "bgcolor": "#C8D4E3",
           "bordercolor": "rgb(17,17,17)",
           "borderwidth": 1,
           "tickwidth": 0
          },
          "ternary": {
           "aaxis": {
            "gridcolor": "#506784",
            "linecolor": "#506784",
            "ticks": ""
           },
           "baxis": {
            "gridcolor": "#506784",
            "linecolor": "#506784",
            "ticks": ""
           },
           "bgcolor": "rgb(17,17,17)",
           "caxis": {
            "gridcolor": "#506784",
            "linecolor": "#506784",
            "ticks": ""
           }
          },
          "title": {
           "x": 0.05
          },
          "updatemenudefaults": {
           "bgcolor": "#506784",
           "borderwidth": 0
          },
          "xaxis": {
           "automargin": true,
           "gridcolor": "#283442",
           "linecolor": "#506784",
           "ticks": "",
           "title": {
            "standoff": 15
           },
           "zerolinecolor": "#283442",
           "zerolinewidth": 2
          },
          "yaxis": {
           "automargin": true,
           "gridcolor": "#283442",
           "linecolor": "#506784",
           "ticks": "",
           "title": {
            "standoff": 15
           },
           "zerolinecolor": "#283442",
           "zerolinewidth": 2
          }
         }
        },
        "title": {
         "text": "Recordings by Quality"
        },
        "width": 600,
        "xaxis": {
         "anchor": "y",
         "categoryarray": [
          "A",
          "B",
          "C",
          "D"
         ],
         "categoryorder": "array",
         "domain": [
          0,
          1
         ],
         "title": {
          "text": "q"
         }
        },
        "yaxis": {
         "anchor": "x",
         "domain": [
          0,
          1
         ],
         "title": {
          "text": "percent"
         }
        }
       }
      }
     },
     "metadata": {},
     "output_type": "display_data"
    }
   ],
   "source": [
    "px.histogram(df[uselful_cols], x='q', template='plotly_dark', category_orders=dict(q=['A', 'B', 'C', 'D']),\n",
    "             height=400, width=600,\n",
    "             title='Recordings by Quality', histnorm='percent')"
   ]
  },
  {
   "cell_type": "code",
   "execution_count": 46,
   "metadata": {},
   "outputs": [
    {
     "data": {
      "application/vnd.plotly.v1+json": {
       "config": {
        "plotlyServerURL": "https://plot.ly"
       },
       "data": [
        {
         "alignmentgroup": "True",
         "bingroup": "x",
         "cumulative": {
          "enabled": true
         },
         "histnorm": "percent",
         "hovertemplate": "seconds=%{x}<br>percent=%{y}<extra></extra>",
         "legendgroup": "",
         "marker": {
          "color": "#636efa",
          "pattern": {
           "shape": ""
          }
         },
         "name": "",
         "offsetgroup": "",
         "orientation": "v",
         "showlegend": false,
         "type": "histogram",
         "x": [
          33,
          78,
          2,
          9,
          43,
          18,
          7,
          12,
          10,
          6,
          13,
          16,
          8,
          9,
          23,
          30,
          12,
          12,
          31,
          7,
          24,
          10,
          45,
          19,
          49,
          42,
          9,
          2,
          6,
          8,
          5,
          20,
          10,
          11,
          20,
          31,
          10,
          39,
          11,
          10,
          10,
          10,
          24,
          10,
          4,
          18,
          13,
          10,
          10,
          6,
          24,
          20,
          10,
          20,
          10,
          10,
          6,
          3,
          10,
          10,
          10,
          10,
          10,
          10,
          28,
          36,
          21,
          2,
          26,
          8,
          8,
          86,
          10,
          21,
          15,
          3,
          11,
          4,
          2,
          7,
          3,
          3,
          13,
          28,
          22,
          113,
          56,
          52,
          16,
          13,
          5,
          14,
          6,
          6,
          15,
          4,
          8,
          11,
          4,
          17,
          13,
          5,
          15,
          98,
          17,
          4,
          52,
          49,
          36,
          10,
          7,
          5,
          20,
          5,
          2,
          2,
          11,
          8,
          21,
          54,
          33,
          66,
          26,
          31,
          35,
          34,
          14,
          4,
          21,
          78,
          10,
          5,
          7,
          5,
          31,
          16,
          34,
          4,
          34,
          4,
          9,
          25,
          28,
          3,
          13,
          24,
          25,
          11,
          5,
          36,
          36,
          73,
          85,
          28,
          53,
          10,
          12,
          24,
          13,
          14,
          9,
          4,
          3,
          12,
          27,
          30,
          48,
          24,
          33,
          16,
          13,
          10,
          34,
          106,
          13,
          25,
          29,
          14,
          18,
          16,
          22,
          5,
          40,
          15,
          18,
          9,
          4,
          7,
          4,
          4,
          9,
          43,
          7,
          18,
          47,
          13,
          14,
          9,
          5,
          30,
          5,
          6,
          1,
          4,
          26,
          13,
          84,
          62,
          28,
          5,
          45,
          6,
          4,
          7,
          5,
          6,
          12,
          3,
          6,
          4,
          11,
          18,
          3,
          3,
          2,
          56,
          52,
          6,
          96,
          39,
          30,
          6,
          8,
          2,
          4,
          3,
          4,
          80,
          14,
          18,
          4,
          3,
          4,
          7,
          2,
          5,
          16,
          13,
          16,
          3,
          6,
          58,
          5,
          56,
          7,
          85,
          5,
          21,
          11,
          14,
          21,
          52,
          5,
          9,
          12,
          21,
          57,
          81,
          7,
          10,
          13,
          42,
          19,
          72,
          56,
          5,
          19,
          4,
          35,
          15,
          10,
          10,
          9,
          7,
          25,
          15,
          14,
          38,
          14,
          32,
          106,
          6,
          25,
          12,
          9,
          8,
          42,
          7,
          86,
          72,
          56,
          18,
          19,
          47,
          11,
          36,
          84,
          11,
          26,
          11,
          20,
          20,
          4,
          79,
          4,
          7,
          7,
          31,
          14,
          31,
          11,
          110,
          7,
          15,
          10,
          23,
          8,
          22,
          2,
          16,
          24,
          19,
          14,
          39,
          27,
          17,
          9,
          3,
          6,
          40,
          12,
          4,
          44,
          8,
          10,
          21,
          34,
          41,
          11,
          12,
          11,
          15,
          46,
          7,
          2,
          9,
          2,
          60,
          8,
          7,
          4,
          7,
          13,
          16,
          56,
          27,
          34,
          24,
          11,
          29,
          6,
          25,
          51,
          110,
          17,
          33,
          49,
          42,
          11,
          18,
          4,
          70,
          41,
          40,
          4,
          11,
          60,
          12,
          12,
          22,
          23,
          8,
          12,
          45,
          15,
          68,
          71,
          30,
          38,
          50,
          19,
          79,
          83,
          10,
          13,
          10,
          40,
          10,
          24,
          15,
          75,
          21,
          9,
          4,
          9,
          18,
          13,
          22,
          6,
          14,
          21,
          3,
          103,
          18,
          10,
          11,
          4,
          20,
          6,
          9,
          60,
          30,
          73,
          62,
          58,
          14,
          39,
          9,
          7,
          8,
          14,
          120,
          12,
          12,
          27,
          27,
          4,
          117,
          26,
          8,
          77,
          11,
          5,
          16,
          109,
          26,
          3,
          65,
          5,
          23,
          30,
          5,
          39,
          26,
          14,
          16,
          18,
          39,
          14,
          11,
          46,
          3,
          10,
          13,
          12,
          23,
          9,
          14,
          4,
          99,
          3,
          18,
          63,
          16,
          6,
          12,
          16,
          13,
          11,
          5,
          27,
          81,
          10,
          23,
          16,
          7,
          9,
          24,
          1,
          20,
          11,
          42,
          9,
          56,
          13,
          57,
          4,
          9,
          16,
          8,
          5,
          14,
          29,
          12,
          4,
          18,
          18,
          17,
          6,
          65,
          39,
          4,
          81,
          12,
          67,
          6,
          30,
          4,
          4,
          5,
          7,
          3,
          25,
          5,
          7,
          11,
          36,
          33,
          63,
          10,
          21,
          7,
          6,
          8,
          20,
          18,
          26,
          70,
          4,
          7,
          17,
          20,
          7,
          13,
          8,
          8,
          20,
          9,
          3,
          10,
          80,
          3,
          11,
          13,
          4,
          10,
          32,
          47,
          83,
          97,
          16,
          70,
          17,
          19,
          5,
          59,
          18,
          7,
          11,
          13,
          12,
          37,
          11,
          9,
          6,
          7,
          28,
          13,
          5,
          47,
          32,
          12,
          6,
          34,
          78,
          86,
          25,
          8,
          97,
          13,
          23,
          56,
          23,
          28,
          29,
          21,
          5,
          13,
          5,
          1,
          19,
          45,
          54,
          23,
          61,
          7,
          63,
          66,
          6,
          13,
          10,
          11,
          6,
          19,
          45,
          45,
          8,
          24,
          9,
          14,
          4,
          3,
          32,
          18,
          19,
          20,
          4,
          46,
          65,
          81,
          69,
          18,
          81,
          7,
          6,
          35,
          7,
          67,
          41,
          10,
          39,
          60,
          99,
          46,
          27,
          10,
          17,
          31,
          18,
          11,
          19,
          12,
          11,
          35,
          33,
          48
         ],
         "xaxis": "x",
         "yaxis": "y"
        }
       ],
       "layout": {
        "barmode": "relative",
        "height": 400,
        "legend": {
         "tracegroupgap": 0
        },
        "template": {
         "data": {
          "bar": [
           {
            "error_x": {
             "color": "#f2f5fa"
            },
            "error_y": {
             "color": "#f2f5fa"
            },
            "marker": {
             "line": {
              "color": "rgb(17,17,17)",
              "width": 0.5
             },
             "pattern": {
              "fillmode": "overlay",
              "size": 10,
              "solidity": 0.2
             }
            },
            "type": "bar"
           }
          ],
          "barpolar": [
           {
            "marker": {
             "line": {
              "color": "rgb(17,17,17)",
              "width": 0.5
             },
             "pattern": {
              "fillmode": "overlay",
              "size": 10,
              "solidity": 0.2
             }
            },
            "type": "barpolar"
           }
          ],
          "carpet": [
           {
            "aaxis": {
             "endlinecolor": "#A2B1C6",
             "gridcolor": "#506784",
             "linecolor": "#506784",
             "minorgridcolor": "#506784",
             "startlinecolor": "#A2B1C6"
            },
            "baxis": {
             "endlinecolor": "#A2B1C6",
             "gridcolor": "#506784",
             "linecolor": "#506784",
             "minorgridcolor": "#506784",
             "startlinecolor": "#A2B1C6"
            },
            "type": "carpet"
           }
          ],
          "choropleth": [
           {
            "colorbar": {
             "outlinewidth": 0,
             "ticks": ""
            },
            "type": "choropleth"
           }
          ],
          "contour": [
           {
            "colorbar": {
             "outlinewidth": 0,
             "ticks": ""
            },
            "colorscale": [
             [
              0,
              "#0d0887"
             ],
             [
              0.1111111111111111,
              "#46039f"
             ],
             [
              0.2222222222222222,
              "#7201a8"
             ],
             [
              0.3333333333333333,
              "#9c179e"
             ],
             [
              0.4444444444444444,
              "#bd3786"
             ],
             [
              0.5555555555555556,
              "#d8576b"
             ],
             [
              0.6666666666666666,
              "#ed7953"
             ],
             [
              0.7777777777777778,
              "#fb9f3a"
             ],
             [
              0.8888888888888888,
              "#fdca26"
             ],
             [
              1,
              "#f0f921"
             ]
            ],
            "type": "contour"
           }
          ],
          "contourcarpet": [
           {
            "colorbar": {
             "outlinewidth": 0,
             "ticks": ""
            },
            "type": "contourcarpet"
           }
          ],
          "heatmap": [
           {
            "colorbar": {
             "outlinewidth": 0,
             "ticks": ""
            },
            "colorscale": [
             [
              0,
              "#0d0887"
             ],
             [
              0.1111111111111111,
              "#46039f"
             ],
             [
              0.2222222222222222,
              "#7201a8"
             ],
             [
              0.3333333333333333,
              "#9c179e"
             ],
             [
              0.4444444444444444,
              "#bd3786"
             ],
             [
              0.5555555555555556,
              "#d8576b"
             ],
             [
              0.6666666666666666,
              "#ed7953"
             ],
             [
              0.7777777777777778,
              "#fb9f3a"
             ],
             [
              0.8888888888888888,
              "#fdca26"
             ],
             [
              1,
              "#f0f921"
             ]
            ],
            "type": "heatmap"
           }
          ],
          "heatmapgl": [
           {
            "colorbar": {
             "outlinewidth": 0,
             "ticks": ""
            },
            "colorscale": [
             [
              0,
              "#0d0887"
             ],
             [
              0.1111111111111111,
              "#46039f"
             ],
             [
              0.2222222222222222,
              "#7201a8"
             ],
             [
              0.3333333333333333,
              "#9c179e"
             ],
             [
              0.4444444444444444,
              "#bd3786"
             ],
             [
              0.5555555555555556,
              "#d8576b"
             ],
             [
              0.6666666666666666,
              "#ed7953"
             ],
             [
              0.7777777777777778,
              "#fb9f3a"
             ],
             [
              0.8888888888888888,
              "#fdca26"
             ],
             [
              1,
              "#f0f921"
             ]
            ],
            "type": "heatmapgl"
           }
          ],
          "histogram": [
           {
            "marker": {
             "pattern": {
              "fillmode": "overlay",
              "size": 10,
              "solidity": 0.2
             }
            },
            "type": "histogram"
           }
          ],
          "histogram2d": [
           {
            "colorbar": {
             "outlinewidth": 0,
             "ticks": ""
            },
            "colorscale": [
             [
              0,
              "#0d0887"
             ],
             [
              0.1111111111111111,
              "#46039f"
             ],
             [
              0.2222222222222222,
              "#7201a8"
             ],
             [
              0.3333333333333333,
              "#9c179e"
             ],
             [
              0.4444444444444444,
              "#bd3786"
             ],
             [
              0.5555555555555556,
              "#d8576b"
             ],
             [
              0.6666666666666666,
              "#ed7953"
             ],
             [
              0.7777777777777778,
              "#fb9f3a"
             ],
             [
              0.8888888888888888,
              "#fdca26"
             ],
             [
              1,
              "#f0f921"
             ]
            ],
            "type": "histogram2d"
           }
          ],
          "histogram2dcontour": [
           {
            "colorbar": {
             "outlinewidth": 0,
             "ticks": ""
            },
            "colorscale": [
             [
              0,
              "#0d0887"
             ],
             [
              0.1111111111111111,
              "#46039f"
             ],
             [
              0.2222222222222222,
              "#7201a8"
             ],
             [
              0.3333333333333333,
              "#9c179e"
             ],
             [
              0.4444444444444444,
              "#bd3786"
             ],
             [
              0.5555555555555556,
              "#d8576b"
             ],
             [
              0.6666666666666666,
              "#ed7953"
             ],
             [
              0.7777777777777778,
              "#fb9f3a"
             ],
             [
              0.8888888888888888,
              "#fdca26"
             ],
             [
              1,
              "#f0f921"
             ]
            ],
            "type": "histogram2dcontour"
           }
          ],
          "mesh3d": [
           {
            "colorbar": {
             "outlinewidth": 0,
             "ticks": ""
            },
            "type": "mesh3d"
           }
          ],
          "parcoords": [
           {
            "line": {
             "colorbar": {
              "outlinewidth": 0,
              "ticks": ""
             }
            },
            "type": "parcoords"
           }
          ],
          "pie": [
           {
            "automargin": true,
            "type": "pie"
           }
          ],
          "scatter": [
           {
            "marker": {
             "line": {
              "color": "#283442"
             }
            },
            "type": "scatter"
           }
          ],
          "scatter3d": [
           {
            "line": {
             "colorbar": {
              "outlinewidth": 0,
              "ticks": ""
             }
            },
            "marker": {
             "colorbar": {
              "outlinewidth": 0,
              "ticks": ""
             }
            },
            "type": "scatter3d"
           }
          ],
          "scattercarpet": [
           {
            "marker": {
             "colorbar": {
              "outlinewidth": 0,
              "ticks": ""
             }
            },
            "type": "scattercarpet"
           }
          ],
          "scattergeo": [
           {
            "marker": {
             "colorbar": {
              "outlinewidth": 0,
              "ticks": ""
             }
            },
            "type": "scattergeo"
           }
          ],
          "scattergl": [
           {
            "marker": {
             "line": {
              "color": "#283442"
             }
            },
            "type": "scattergl"
           }
          ],
          "scattermapbox": [
           {
            "marker": {
             "colorbar": {
              "outlinewidth": 0,
              "ticks": ""
             }
            },
            "type": "scattermapbox"
           }
          ],
          "scatterpolar": [
           {
            "marker": {
             "colorbar": {
              "outlinewidth": 0,
              "ticks": ""
             }
            },
            "type": "scatterpolar"
           }
          ],
          "scatterpolargl": [
           {
            "marker": {
             "colorbar": {
              "outlinewidth": 0,
              "ticks": ""
             }
            },
            "type": "scatterpolargl"
           }
          ],
          "scatterternary": [
           {
            "marker": {
             "colorbar": {
              "outlinewidth": 0,
              "ticks": ""
             }
            },
            "type": "scatterternary"
           }
          ],
          "surface": [
           {
            "colorbar": {
             "outlinewidth": 0,
             "ticks": ""
            },
            "colorscale": [
             [
              0,
              "#0d0887"
             ],
             [
              0.1111111111111111,
              "#46039f"
             ],
             [
              0.2222222222222222,
              "#7201a8"
             ],
             [
              0.3333333333333333,
              "#9c179e"
             ],
             [
              0.4444444444444444,
              "#bd3786"
             ],
             [
              0.5555555555555556,
              "#d8576b"
             ],
             [
              0.6666666666666666,
              "#ed7953"
             ],
             [
              0.7777777777777778,
              "#fb9f3a"
             ],
             [
              0.8888888888888888,
              "#fdca26"
             ],
             [
              1,
              "#f0f921"
             ]
            ],
            "type": "surface"
           }
          ],
          "table": [
           {
            "cells": {
             "fill": {
              "color": "#506784"
             },
             "line": {
              "color": "rgb(17,17,17)"
             }
            },
            "header": {
             "fill": {
              "color": "#2a3f5f"
             },
             "line": {
              "color": "rgb(17,17,17)"
             }
            },
            "type": "table"
           }
          ]
         },
         "layout": {
          "annotationdefaults": {
           "arrowcolor": "#f2f5fa",
           "arrowhead": 0,
           "arrowwidth": 1
          },
          "autotypenumbers": "strict",
          "coloraxis": {
           "colorbar": {
            "outlinewidth": 0,
            "ticks": ""
           }
          },
          "colorscale": {
           "diverging": [
            [
             0,
             "#8e0152"
            ],
            [
             0.1,
             "#c51b7d"
            ],
            [
             0.2,
             "#de77ae"
            ],
            [
             0.3,
             "#f1b6da"
            ],
            [
             0.4,
             "#fde0ef"
            ],
            [
             0.5,
             "#f7f7f7"
            ],
            [
             0.6,
             "#e6f5d0"
            ],
            [
             0.7,
             "#b8e186"
            ],
            [
             0.8,
             "#7fbc41"
            ],
            [
             0.9,
             "#4d9221"
            ],
            [
             1,
             "#276419"
            ]
           ],
           "sequential": [
            [
             0,
             "#0d0887"
            ],
            [
             0.1111111111111111,
             "#46039f"
            ],
            [
             0.2222222222222222,
             "#7201a8"
            ],
            [
             0.3333333333333333,
             "#9c179e"
            ],
            [
             0.4444444444444444,
             "#bd3786"
            ],
            [
             0.5555555555555556,
             "#d8576b"
            ],
            [
             0.6666666666666666,
             "#ed7953"
            ],
            [
             0.7777777777777778,
             "#fb9f3a"
            ],
            [
             0.8888888888888888,
             "#fdca26"
            ],
            [
             1,
             "#f0f921"
            ]
           ],
           "sequentialminus": [
            [
             0,
             "#0d0887"
            ],
            [
             0.1111111111111111,
             "#46039f"
            ],
            [
             0.2222222222222222,
             "#7201a8"
            ],
            [
             0.3333333333333333,
             "#9c179e"
            ],
            [
             0.4444444444444444,
             "#bd3786"
            ],
            [
             0.5555555555555556,
             "#d8576b"
            ],
            [
             0.6666666666666666,
             "#ed7953"
            ],
            [
             0.7777777777777778,
             "#fb9f3a"
            ],
            [
             0.8888888888888888,
             "#fdca26"
            ],
            [
             1,
             "#f0f921"
            ]
           ]
          },
          "colorway": [
           "#636efa",
           "#EF553B",
           "#00cc96",
           "#ab63fa",
           "#FFA15A",
           "#19d3f3",
           "#FF6692",
           "#B6E880",
           "#FF97FF",
           "#FECB52"
          ],
          "font": {
           "color": "#f2f5fa"
          },
          "geo": {
           "bgcolor": "rgb(17,17,17)",
           "lakecolor": "rgb(17,17,17)",
           "landcolor": "rgb(17,17,17)",
           "showlakes": true,
           "showland": true,
           "subunitcolor": "#506784"
          },
          "hoverlabel": {
           "align": "left"
          },
          "hovermode": "closest",
          "mapbox": {
           "style": "dark"
          },
          "paper_bgcolor": "rgb(17,17,17)",
          "plot_bgcolor": "rgb(17,17,17)",
          "polar": {
           "angularaxis": {
            "gridcolor": "#506784",
            "linecolor": "#506784",
            "ticks": ""
           },
           "bgcolor": "rgb(17,17,17)",
           "radialaxis": {
            "gridcolor": "#506784",
            "linecolor": "#506784",
            "ticks": ""
           }
          },
          "scene": {
           "xaxis": {
            "backgroundcolor": "rgb(17,17,17)",
            "gridcolor": "#506784",
            "gridwidth": 2,
            "linecolor": "#506784",
            "showbackground": true,
            "ticks": "",
            "zerolinecolor": "#C8D4E3"
           },
           "yaxis": {
            "backgroundcolor": "rgb(17,17,17)",
            "gridcolor": "#506784",
            "gridwidth": 2,
            "linecolor": "#506784",
            "showbackground": true,
            "ticks": "",
            "zerolinecolor": "#C8D4E3"
           },
           "zaxis": {
            "backgroundcolor": "rgb(17,17,17)",
            "gridcolor": "#506784",
            "gridwidth": 2,
            "linecolor": "#506784",
            "showbackground": true,
            "ticks": "",
            "zerolinecolor": "#C8D4E3"
           }
          },
          "shapedefaults": {
           "line": {
            "color": "#f2f5fa"
           }
          },
          "sliderdefaults": {
           "bgcolor": "#C8D4E3",
           "bordercolor": "rgb(17,17,17)",
           "borderwidth": 1,
           "tickwidth": 0
          },
          "ternary": {
           "aaxis": {
            "gridcolor": "#506784",
            "linecolor": "#506784",
            "ticks": ""
           },
           "baxis": {
            "gridcolor": "#506784",
            "linecolor": "#506784",
            "ticks": ""
           },
           "bgcolor": "rgb(17,17,17)",
           "caxis": {
            "gridcolor": "#506784",
            "linecolor": "#506784",
            "ticks": ""
           }
          },
          "title": {
           "x": 0.05
          },
          "updatemenudefaults": {
           "bgcolor": "#506784",
           "borderwidth": 0
          },
          "xaxis": {
           "automargin": true,
           "gridcolor": "#283442",
           "linecolor": "#506784",
           "ticks": "",
           "title": {
            "standoff": 15
           },
           "zerolinecolor": "#283442",
           "zerolinewidth": 2
          },
          "yaxis": {
           "automargin": true,
           "gridcolor": "#283442",
           "linecolor": "#506784",
           "ticks": "",
           "title": {
            "standoff": 15
           },
           "zerolinecolor": "#283442",
           "zerolinewidth": 2
          }
         }
        },
        "title": {
         "text": "Recordings by Duration [s] (Cumulative)"
        },
        "width": 600,
        "xaxis": {
         "anchor": "y",
         "domain": [
          0,
          1
         ],
         "title": {
          "text": "seconds"
         }
        },
        "yaxis": {
         "anchor": "x",
         "domain": [
          0,
          1
         ],
         "title": {
          "text": "percent"
         }
        }
       }
      }
     },
     "metadata": {},
     "output_type": "display_data"
    }
   ],
   "source": [
    "# clean by seconds\n",
    "def time_to_seconds(time_str):\n",
    "    minutes, seconds = map(int, time_str.split(':'))\n",
    "    return minutes * 60 + seconds\n",
    "\n",
    "df['seconds'] = df['length'].apply(time_to_seconds)\n",
    "px.histogram(df[df.seconds <= 120], x='seconds', cumulative=True,\n",
    "             height=400, width=600,\n",
    "             template='plotly_dark', title='Recordings by Duration [s] (Cumulative)', histnorm='percent')"
   ]
  },
  {
   "attachments": {},
   "cell_type": "markdown",
   "metadata": {},
   "source": [
    "So if we use recordings that are 20 seconds or less we have 60% of data, and of at least C quality we have 80% of data. If these values are not correlated in some way we should expect to have around 48% of data as a available to process (being picky).\n",
    "\n",
    "We also take only sample rates of 44khz because it makes our life easier."
   ]
  },
  {
   "cell_type": "code",
   "execution_count": 47,
   "metadata": {},
   "outputs": [
    {
     "data": {
      "text/html": [
       "<div>\n",
       "<style scoped>\n",
       "    .dataframe tbody tr th:only-of-type {\n",
       "        vertical-align: middle;\n",
       "    }\n",
       "\n",
       "    .dataframe tbody tr th {\n",
       "        vertical-align: top;\n",
       "    }\n",
       "\n",
       "    .dataframe thead th {\n",
       "        text-align: right;\n",
       "    }\n",
       "</style>\n",
       "<table border=\"1\" class=\"dataframe\">\n",
       "  <thead>\n",
       "    <tr style=\"text-align: right;\">\n",
       "      <th></th>\n",
       "      <th>id</th>\n",
       "      <th>cnt</th>\n",
       "      <th>lat</th>\n",
       "      <th>lng</th>\n",
       "      <th>type</th>\n",
       "      <th>q</th>\n",
       "      <th>length</th>\n",
       "      <th>time</th>\n",
       "      <th>date</th>\n",
       "      <th>bird-seen</th>\n",
       "      <th>smp</th>\n",
       "      <th>seconds</th>\n",
       "    </tr>\n",
       "  </thead>\n",
       "  <tbody>\n",
       "    <tr>\n",
       "      <th>0</th>\n",
       "      <td>184143</td>\n",
       "      <td>Switzerland</td>\n",
       "      <td>46.9509</td>\n",
       "      <td>7.4339</td>\n",
       "      <td>flight call</td>\n",
       "      <td>B</td>\n",
       "      <td>0:02</td>\n",
       "      <td>11:30</td>\n",
       "      <td>2014-06-28</td>\n",
       "      <td>yes</td>\n",
       "      <td>44100</td>\n",
       "      <td>2</td>\n",
       "    </tr>\n",
       "    <tr>\n",
       "      <th>1</th>\n",
       "      <td>182340</td>\n",
       "      <td>Germany</td>\n",
       "      <td>None</td>\n",
       "      <td>None</td>\n",
       "      <td>flight call</td>\n",
       "      <td>B</td>\n",
       "      <td>0:09</td>\n",
       "      <td>?</td>\n",
       "      <td>2014-06-16</td>\n",
       "      <td>yes</td>\n",
       "      <td>44100</td>\n",
       "      <td>9</td>\n",
       "    </tr>\n",
       "    <tr>\n",
       "      <th>2</th>\n",
       "      <td>179334</td>\n",
       "      <td>Spain</td>\n",
       "      <td>37.3811</td>\n",
       "      <td>-5.947</td>\n",
       "      <td>flight call</td>\n",
       "      <td>B</td>\n",
       "      <td>0:18</td>\n",
       "      <td>?</td>\n",
       "      <td>2014-05-12</td>\n",
       "      <td>yes</td>\n",
       "      <td>44100</td>\n",
       "      <td>18</td>\n",
       "    </tr>\n",
       "    <tr>\n",
       "      <th>3</th>\n",
       "      <td>144363</td>\n",
       "      <td>Israel</td>\n",
       "      <td>31.7833</td>\n",
       "      <td>35.2167</td>\n",
       "      <td>call</td>\n",
       "      <td>B</td>\n",
       "      <td>0:07</td>\n",
       "      <td>11:00</td>\n",
       "      <td>2011-04-14</td>\n",
       "      <td>no</td>\n",
       "      <td>44100</td>\n",
       "      <td>7</td>\n",
       "    </tr>\n",
       "    <tr>\n",
       "      <th>4</th>\n",
       "      <td>140595</td>\n",
       "      <td>Spain</td>\n",
       "      <td>42.0029</td>\n",
       "      <td>-5.6742</td>\n",
       "      <td>flight call</td>\n",
       "      <td>B</td>\n",
       "      <td>0:12</td>\n",
       "      <td>08:30</td>\n",
       "      <td>2013-06-25</td>\n",
       "      <td>yes</td>\n",
       "      <td>44100</td>\n",
       "      <td>12</td>\n",
       "    </tr>\n",
       "    <tr>\n",
       "      <th>...</th>\n",
       "      <td>...</td>\n",
       "      <td>...</td>\n",
       "      <td>...</td>\n",
       "      <td>...</td>\n",
       "      <td>...</td>\n",
       "      <td>...</td>\n",
       "      <td>...</td>\n",
       "      <td>...</td>\n",
       "      <td>...</td>\n",
       "      <td>...</td>\n",
       "      <td>...</td>\n",
       "      <td>...</td>\n",
       "    </tr>\n",
       "    <tr>\n",
       "      <th>300</th>\n",
       "      <td>199124</td>\n",
       "      <td>Russian Federation</td>\n",
       "      <td>56.0818</td>\n",
       "      <td>47.2859</td>\n",
       "      <td>flight call</td>\n",
       "      <td>B</td>\n",
       "      <td>0:18</td>\n",
       "      <td>19:00</td>\n",
       "      <td>2014-05-29</td>\n",
       "      <td>yes</td>\n",
       "      <td>44100</td>\n",
       "      <td>18</td>\n",
       "    </tr>\n",
       "    <tr>\n",
       "      <th>301</th>\n",
       "      <td>198310</td>\n",
       "      <td>Russian Federation</td>\n",
       "      <td>56.1545</td>\n",
       "      <td>47.2399</td>\n",
       "      <td>call</td>\n",
       "      <td>B</td>\n",
       "      <td>0:11</td>\n",
       "      <td>09:30</td>\n",
       "      <td>2014-06-01</td>\n",
       "      <td>yes</td>\n",
       "      <td>44100</td>\n",
       "      <td>11</td>\n",
       "    </tr>\n",
       "    <tr>\n",
       "      <th>302</th>\n",
       "      <td>198309</td>\n",
       "      <td>Russian Federation</td>\n",
       "      <td>56.0814</td>\n",
       "      <td>47.3027</td>\n",
       "      <td>call</td>\n",
       "      <td>B</td>\n",
       "      <td>0:19</td>\n",
       "      <td>09:30</td>\n",
       "      <td>2014-06-01</td>\n",
       "      <td>yes</td>\n",
       "      <td>44100</td>\n",
       "      <td>19</td>\n",
       "    </tr>\n",
       "    <tr>\n",
       "      <th>303</th>\n",
       "      <td>198308</td>\n",
       "      <td>Russian Federation</td>\n",
       "      <td>56.0814</td>\n",
       "      <td>47.3027</td>\n",
       "      <td>call</td>\n",
       "      <td>B</td>\n",
       "      <td>0:12</td>\n",
       "      <td>09:30</td>\n",
       "      <td>2014-06-01</td>\n",
       "      <td>yes</td>\n",
       "      <td>44100</td>\n",
       "      <td>12</td>\n",
       "    </tr>\n",
       "    <tr>\n",
       "      <th>304</th>\n",
       "      <td>198306</td>\n",
       "      <td>Russian Federation</td>\n",
       "      <td>56.1283</td>\n",
       "      <td>47.4026</td>\n",
       "      <td>call</td>\n",
       "      <td>B</td>\n",
       "      <td>0:11</td>\n",
       "      <td>09:30</td>\n",
       "      <td>2014-06-01</td>\n",
       "      <td>yes</td>\n",
       "      <td>44100</td>\n",
       "      <td>11</td>\n",
       "    </tr>\n",
       "  </tbody>\n",
       "</table>\n",
       "<p>305 rows × 12 columns</p>\n",
       "</div>"
      ],
      "text/plain": [
       "         id                 cnt      lat      lng         type  q length  \\\n",
       "0    184143         Switzerland  46.9509   7.4339  flight call  B   0:02   \n",
       "1    182340             Germany     None     None  flight call  B   0:09   \n",
       "2    179334               Spain  37.3811   -5.947  flight call  B   0:18   \n",
       "3    144363              Israel  31.7833  35.2167         call  B   0:07   \n",
       "4    140595               Spain  42.0029  -5.6742  flight call  B   0:12   \n",
       "..      ...                 ...      ...      ...          ... ..    ...   \n",
       "300  199124  Russian Federation  56.0818  47.2859  flight call  B   0:18   \n",
       "301  198310  Russian Federation  56.1545  47.2399         call  B   0:11   \n",
       "302  198309  Russian Federation  56.0814  47.3027         call  B   0:19   \n",
       "303  198308  Russian Federation  56.0814  47.3027         call  B   0:12   \n",
       "304  198306  Russian Federation  56.1283  47.4026         call  B   0:11   \n",
       "\n",
       "      time        date bird-seen    smp  seconds  \n",
       "0    11:30  2014-06-28       yes  44100        2  \n",
       "1        ?  2014-06-16       yes  44100        9  \n",
       "2        ?  2014-05-12       yes  44100       18  \n",
       "3    11:00  2011-04-14        no  44100        7  \n",
       "4    08:30  2013-06-25       yes  44100       12  \n",
       "..     ...         ...       ...    ...      ...  \n",
       "300  19:00  2014-05-29       yes  44100       18  \n",
       "301  09:30  2014-06-01       yes  44100       11  \n",
       "302  09:30  2014-06-01       yes  44100       19  \n",
       "303  09:30  2014-06-01       yes  44100       12  \n",
       "304  09:30  2014-06-01       yes  44100       11  \n",
       "\n",
       "[305 rows x 12 columns]"
      ]
     },
     "execution_count": 47,
     "metadata": {},
     "output_type": "execute_result"
    }
   ],
   "source": [
    "# create a sub dataset with the picky data\n",
    "dataset = df[uselful_cols + ['seconds']][(df.seconds <= 20) & ((df.q != 'D') | (df.q != 'E')) & (df.smp == '44100')].copy().reset_index(drop=True)\n",
    "dataset"
   ]
  },
  {
   "attachments": {},
   "cell_type": "markdown",
   "metadata": {},
   "source": [
    "### Frequency Spectrum of recordings\n",
    "\n",
    "We will observe some frequency spectra first to have an idea of the data, first we test the spectrogram. "
   ]
  },
  {
   "cell_type": "code",
   "execution_count": 53,
   "metadata": {},
   "outputs": [
    {
     "data": {
      "application/vnd.plotly.v1+json": {
       "config": {
        "plotlyServerURL": "https://plot.ly"
       },
       "data": [
        {
         "colorscale": [
          [
           0,
           "#440154"
          ],
          [
           0.1111111111111111,
           "#482878"
          ],
          [
           0.2222222222222222,
           "#3e4989"
          ],
          [
           0.3333333333333333,
           "#31688e"
          ],
          [
           0.4444444444444444,
           "#26828e"
          ],
          [
           0.5555555555555556,
           "#1f9e89"
          ],
          [
           0.6666666666666666,
           "#35b779"
          ],
          [
           0.7777777777777778,
           "#6ece58"
          ],
          [
           0.8888888888888888,
           "#b5de2b"
          ],
          [
           1,
           "#fde725"
          ]
         ],
         "type": "heatmap",
         "x": [
          2.56,
          7.04,
          11.52,
          16
         ],
         "y": [
          0,
          0.1953125,
          0.390625,
          0.5859375,
          0.78125,
          0.9765625,
          1.171875,
          1.3671875,
          1.5625,
          1.7578125,
          1.953125,
          2.1484375,
          2.34375,
          2.5390625,
          2.734375,
          2.9296875,
          3.125,
          3.3203125,
          3.515625,
          3.7109375,
          3.90625,
          4.1015625,
          4.296875,
          4.4921875,
          4.6875,
          4.8828125,
          5.078125,
          5.2734375,
          5.46875,
          5.6640625,
          5.859375,
          6.0546875,
          6.25,
          6.4453125,
          6.640625,
          6.8359375,
          7.03125,
          7.2265625,
          7.421875,
          7.6171875,
          7.8125,
          8.0078125,
          8.203125,
          8.3984375,
          8.59375,
          8.7890625,
          8.984375,
          9.1796875,
          9.375,
          9.5703125,
          9.765625,
          9.9609375,
          10.15625,
          10.3515625,
          10.546875,
          10.7421875,
          10.9375,
          11.1328125,
          11.328125,
          11.5234375,
          11.71875,
          11.9140625,
          12.109375,
          12.3046875,
          12.5,
          12.6953125,
          12.890625,
          13.0859375,
          13.28125,
          13.4765625,
          13.671875,
          13.8671875,
          14.0625,
          14.2578125,
          14.453125,
          14.6484375,
          14.84375,
          15.0390625,
          15.234375,
          15.4296875,
          15.625,
          15.8203125,
          16.015625,
          16.2109375,
          16.40625,
          16.6015625,
          16.796875,
          16.9921875,
          17.1875,
          17.3828125,
          17.578125,
          17.7734375,
          17.96875,
          18.1640625,
          18.359375,
          18.5546875,
          18.75,
          18.9453125,
          19.140625,
          19.3359375,
          19.53125,
          19.7265625,
          19.921875,
          20.1171875,
          20.3125,
          20.5078125,
          20.703125,
          20.8984375,
          21.09375,
          21.2890625,
          21.484375,
          21.6796875,
          21.875,
          22.0703125,
          22.265625,
          22.4609375,
          22.65625,
          22.8515625,
          23.046875,
          23.2421875,
          23.4375,
          23.6328125,
          23.828125,
          24.0234375,
          24.21875,
          24.4140625,
          24.609375,
          24.8046875,
          25
         ],
         "z": [
          [
           0.0000017203221784708885,
           2.9619827075158953e-7,
           8.406972928606289e-8,
           0.0000011849154579612072
          ],
          [
           6.659254408857157e-8,
           1.3011247320723119e-8,
           2.3447898865744315e-9,
           3.967069305033288e-8
          ],
          [
           5.2667651531561816e-8,
           1.0645812077703659e-8,
           2.0960167190375375e-9,
           3.108819851440808e-8
          ],
          [
           3.413763749010956e-8,
           6.7181763830256435e-9,
           1.3813403313463503e-9,
           2.066760715493714e-8
          ],
          [
           1.7686368194677528e-8,
           3.167922441441694e-9,
           7.471168455256152e-10,
           1.1576320126750733e-8
          ],
          [
           7.636440804600507e-9,
           1.5490870301070414e-9,
           6.168297900100782e-10,
           5.283448659649889e-9
          ],
          [
           2.9753157832238238e-9,
           1.0514498657454488e-9,
           5.410605391652604e-10,
           1.687106880144172e-9
          ],
          [
           7.184318241328927e-10,
           3.9057280192828264e-10,
           1.7181724683460188e-10,
           1.6629870013218308e-10
          ],
          [
           2.8180754153781063e-11,
           6.065820883644458e-11,
           1.0776872899792183e-10,
           1.4708643746700858e-10
          ],
          [
           9.061887298907226e-10,
           7.596274127739595e-10,
           7.138608525801334e-10,
           7.906751641186312e-10
          ],
          [
           1.629175555223377e-9,
           1.3349928034402667e-9,
           1.0866127221847953e-9,
           1.0022709240940869e-9
          ],
          [
           8.244735536620979e-10,
           6.81582672555061e-10,
           5.340857467790759e-10,
           4.5219528945943525e-10
          ],
          [
           1.28056755617547e-12,
           1.9629902430514543e-12,
           2.952885821056738e-12,
           3.779037253081229e-12
          ],
          [
           7.112321426539625e-10,
           5.716086856912599e-10,
           3.9375783280095856e-10,
           2.6234138402957136e-10
          ],
          [
           1.3900027526683422e-9,
           1.1153269159245748e-9,
           7.531759144133947e-10,
           4.759433859099689e-10
          ],
          [
           5.087860470395766e-10,
           3.916542729561639e-10,
           2.2984880527036588e-10,
           1.0039340849369285e-10
          ],
          [
           1.3139033802391669e-10,
           1.6802415149139918e-10,
           2.2116372233440915e-10,
           2.655131822102572e-10
          ],
          [
           2.056927773405638e-9,
           1.9346453138506334e-9,
           1.7853515063311766e-9,
           1.6801142287003275e-9
          ],
          [
           3.4936648564077815e-9,
           3.1985915215453537e-9,
           2.8108619270805405e-9,
           2.5150458121957895e-9
          ],
          [
           1.7878170602706498e-9,
           1.63336730199372e-9,
           1.4263761414396472e-9,
           1.2653769499958789e-9
          ],
          [
           5.164781774876313e-12,
           5.969297984774941e-12,
           7.1362976075602806e-12,
           8.110257338119618e-12
          ],
          [
           1.4735390678502466e-9,
           1.3111791608475758e-9,
           1.0861174512045073e-9,
           9.054893789781382e-10
          ],
          [
           2.9049334815110795e-9,
           2.578740017750791e-9,
           2.123374640538467e-9,
           1.7556035438758202e-9
          ],
          [
           9.468190225087156e-10,
           8.052637881035638e-10,
           6.05286354989761e-10,
           4.4208137236423743e-10
          ],
          [
           5.062707359338874e-10,
           5.515863475944169e-10,
           6.173193941054668e-10,
           6.721791719884209e-10
          ],
          [
           5.96281978579655e-9,
           5.81114528401283e-9,
           5.606548287942462e-9,
           5.446422482299961e-9
          ],
          [
           1.0007968267431217e-8,
           9.635461357459188e-9,
           9.119495956171483e-9,
           8.70568549617228e-9
          ],
          [
           5.2397137866123596e-9,
           5.0417557299262634e-9,
           4.7657000562109425e-9,
           4.542956712252878e-9
          ],
          [
           2.0380224992694036e-11,
           2.1430301212471948e-11,
           2.295350037527939e-11,
           2.422473921803492e-11
          ],
          [
           4.391087806234652e-9,
           4.1765088232335625e-9,
           3.8731950867146815e-9,
           3.625532110995874e-9
          ],
          [
           8.891034474273988e-9,
           8.453163547188861e-9,
           7.832408386959982e-9,
           7.324265180166122e-9
          ],
          [
           2.7748181809220044e-9,
           2.5816963058955263e-9,
           2.306441576589821e-9,
           2.0800826676407264e-9
          ],
          [
           2.1641159336471924e-9,
           2.227027242616018e-9,
           2.3182839166997773e-9,
           2.3944453179826185e-9
          ],
          [
           2.3225220980124837e-8,
           2.3011479160080178e-8,
           2.271491378560316e-8,
           2.2476697965299058e-8
          ],
          [
           3.9945965861421434e-8,
           3.941112643374526e-8,
           3.865794096204987e-8,
           3.804494603797451e-8
          ],
          [
           2.1822620125481232e-8,
           2.1532950941647635e-8,
           2.1123600902057937e-8,
           2.0789431660826353e-8
          ],
          [
           9.97226026921042e-11,
           1.0129128602772691e-10,
           1.0356675648653174e-10,
           1.0546582880787589e-10
          ],
          [
           1.9790760700608805e-8,
           1.9463675038227113e-8,
           1.899786991065814e-8,
           1.8615081116268194e-8
          ],
          [
           4.2219062536284804e-8,
           4.1536735929442114e-8,
           4.056347345678137e-8,
           3.976257429021392e-8
          ],
          [
           1.3483709291682537e-8,
           1.3175643053694271e-8,
           1.2734777032567318e-8,
           1.2370975339079252e-8
          ],
          [
           1.2935431187902252e-8,
           1.303833630898924e-8,
           1.3187606434831024e-8,
           1.3312184962650717e-8
          ],
          [
           1.409846448101922e-7,
           1.4062591514776642e-7,
           1.4012296026096726e-7,
           1.3971520023575192e-7
          ],
          [
           2.591415080112287e-7,
           2.582178014964633e-7,
           2.56908857216959e-7,
           2.5583776794211546e-7
          ],
          [
           1.5321089413936532e-7,
           1.526950671856591e-7,
           1.51962499552609e-7,
           1.5136191315853972e-7
          ],
          [
           7.964176524900761e-10,
           7.993058047570745e-10,
           8.034952456563443e-10,
           8.06991688064612e-10
          ],
          [
           1.6555750285043958e-7,
           1.6493342016476408e-7,
           1.6404232346745825e-7,
           1.633083987941057e-7
          ],
          [
           3.9202389268329377e-7,
           3.9066989531305875e-7,
           3.887347042530378e-7,
           3.8713952257395045e-7
          ],
          [
           1.38896428477092e-7,
           1.3825813751583736e-7,
           1.3734360910611912e-7,
           1.3658818342236205e-7
          ],
          [
           1.5919812895436312e-7,
           1.5942178974820055e-7,
           1.5974622332090383e-7,
           1.6001699053037618e-7
          ],
          [
           0.0000019707959132241784,
           0.0000019699736223745546,
           0.00000196881881098573,
           0.0000019678812003770934
          ],
          [
           0.000004255268363136508,
           0.0000042530197024535195,
           0.000004249832047702672,
           0.000004247222808490049
          ],
          [
           0.0000030299164061720294,
           0.0000030285716498667066,
           0.0000030266626556425163,
           0.000003025098156215874
          ],
          [
           1.9747172202656934e-8,
           1.97553203123272e-8,
           1.976713964093071e-8,
           1.9777003867576934e-8
          ],
          [
           0.000005207052622102845,
           0.000005205120837811805,
           0.00000520236720725887,
           0.000005200102532822202
          ],
          [
           0.000016622000019121065,
           0.0000166173174186917,
           0.00001661064084405315,
           0.000016605148524557942
          ],
          [
           0.000008448020319215404,
           0.000008445490932239756,
           0.000008441877080810951,
           0.000008438899055668944
          ],
          [
           0.000015440589440052338,
           0.000015441643286219764,
           0.00001544317195408383,
           0.000015444447756482783
          ],
          [
           0.00034671839317303177,
           0.0003467134986478955,
           0.0003467067156158854,
           0.00034670127298312475
          ],
          [
           0.0017515338234563138,
           0.0017515149816346627,
           0.0017514886045577884,
           0.0017514672484269082
          ],
          [
           0.005181842080634087,
           0.00518182143514095,
           0.005181792588126024,
           0.0051817692715444424
          ],
          [
           0.010950308301284723,
           0.01095031025064865,
           0.010950313078323316,
           0.01095031543825405
          ],
          [
           0.01757608398290417,
           0.017576113508096073,
           0.017576154509124108,
           0.017576187468397102
          ],
          [
           0.02084477036001771,
           0.02084480215359369,
           0.020844845597679452,
           0.020844880011734443
          ],
          [
           0.012130639754446103,
           0.01213064969198291,
           0.01213066273492472,
           0.012130672674460146
          ],
          [
           2.298772334414141,
           2.298772337655064,
           2.298772342356237,
           2.2987723462797423
          ],
          [
           0.09923723438722999,
           0.09923724676578272,
           0.09923726827812714,
           0.09923728868386589
          ],
          [
           0.04939966501075732,
           0.049399699347952464,
           0.0493997525374051,
           0.04939979925947396
          ],
          [
           0.026328211061465333,
           0.026328239712559823,
           0.026328282936757756,
           0.026328320158169025
          ],
          [
           0.012054892666457716,
           0.012054890554119646,
           0.012054887490041345,
           0.01205488493281057
          ],
          [
           0.0042326660719473694,
           0.004232641096363388,
           0.004232604260438183,
           0.004232573099066555
          ],
          [
           0.0009388463324343724,
           0.0009388251587539086,
           0.0009387940588526507,
           0.0009387678371209811
          ],
          [
           0.00006123056058765385,
           0.00006122521741378688,
           0.00006121740021130314,
           0.00006121083017948222
          ],
          [
           0.000017365110853490033,
           0.000017366246958342762,
           0.00001736789494744724,
           0.00001736927033352484
          ],
          [
           0.00006108261958924095,
           0.00006107992751107524,
           0.00006107596171546149,
           0.00006107261002797746
          ],
          [
           0.00004114852540260386,
           0.00004114357879470267,
           0.0000411363359927295,
           0.00004113024476588721
          ],
          [
           0.000009634659550157226,
           0.00000963263070763528,
           0.000009629665676623757,
           0.000009627175891730327
          ],
          [
           2.116682580914162e-8,
           2.1175357521681637e-8,
           2.1187733288783785e-8,
           2.1198061911532036e-8
          ],
          [
           0.0000018846158416685069,
           0.000001883215635502312,
           0.0000018811756203009438,
           0.0000018794668982814707
          ],
          [
           0.000001988683908603632,
           0.0000019863501038809156,
           0.0000019829523674661002,
           0.0000019801081134836723
          ],
          [
           3.189819219249815e-7,
           3.1813127587966793e-7,
           3.168940066930644e-7,
           3.1585908784505083e-7
          ],
          [
           1.6739957921386458e-7,
           1.6763096129948792e-7,
           1.6796659506030308e-7,
           1.6824670979133504e-7
          ],
          [
           9.462141083108341e-7,
           9.455559127857777e-7,
           9.445958361119736e-7,
           9.437909006763979e-7
          ],
          [
           9.269222232760439e-7,
           9.255285002092932e-7,
           9.234996921046777e-7,
           9.218015662998107e-7
          ],
          [
           2.948985055340019e-7,
           2.94257128107387e-7,
           2.933240507865329e-7,
           2.925434435019721e-7
          ],
          [
           8.28592517193121e-10,
           8.315603658852345e-10,
           8.358654105697757e-10,
           8.394583341678816e-10
          ],
          [
           9.325149727805211e-8,
           9.272291591486402e-8,
           9.19547818042567e-8,
           9.131274748772009e-8
          ],
          [
           1.1930959504888342e-7,
           1.1836422518946793e-7,
           1.169907807176221e-7,
           1.1584305822396605e-7
          ],
          [
           2.2886159373503584e-8,
           2.251963622462869e-8,
           2.1987351386683527e-8,
           2.1542686792640438e-8
          ],
          [
           1.3366917330415818e-8,
           1.3472211326638742e-8,
           1.362494666141843e-8,
           1.375241719896126e-8
          ],
          [
           8.764661786261042e-8,
           8.733200764929745e-8,
           8.687450130004037e-8,
           8.64918841677116e-8
          ],
          [
           9.704360596643265e-8,
           9.634742553180424e-8,
           9.533595309422756e-8,
           9.44906768027506e-8
          ],
          [
           3.4439143856763084e-8,
           3.4105680101368355e-8,
           3.362132028874774e-8,
           3.32166327411712e-8
          ],
          [
           1.0256540458438273e-10,
           1.0416581247775747e-10,
           1.0648730122081783e-10,
           1.0842477980923829e-10
          ],
          [
           1.3325901867309135e-8,
           1.303109114128888e-8,
           1.2603089244430788e-8,
           1.22456366141958e-8
          ],
          [
           1.866368310391503e-8,
           1.8119771297145172e-8,
           1.733022500250808e-8,
           1.6670889541270387e-8
          ],
          [
           4.009535037931353e-9,
           3.792489478132246e-9,
           3.477483832867968e-9,
           3.214469280882836e-9
          ],
          [
           2.218197206377107e-9,
           2.2822460435057513e-9,
           2.375152770445749e-9,
           2.4526912815138055e-9
          ],
          [
           1.6372473037425676e-8,
           1.6176207105902483e-8,
           1.5891168997814427e-8,
           1.565304453724452e-8
          ],
          [
           1.9511704888322456e-8,
           1.906703258113276e-8,
           1.842151511897811e-8,
           1.7882436219120043e-8
          ],
          [
           7.379316838250042e-9,
           7.161530768650539e-9,
           6.845417172361944e-9,
           6.581454643374991e-9
          ],
          [
           2.08358127286025e-11,
           2.1903215706525752e-11,
           2.3451548546998282e-11,
           2.474376287351247e-11
          ],
          [
           3.29735669997083e-9,
           3.0967635605701736e-9,
           2.805677647159225e-9,
           2.5626637047190268e-9
          ],
          [
           4.94371113823725e-9,
           4.5665447004418055e-9,
           4.019262868763585e-9,
           3.5623865482204387e-9
          ],
          [
           1.2115665468342695e-9,
           1.0583167321422897e-9,
           8.359685358262684e-10,
           6.503656917433256e-10
          ],
          [
           5.165680498698685e-10,
           5.625776395681538e-10,
           6.29317343287194e-10,
           6.850172628731492e-10
          ],
          [
           4.552569963855905e-9,
           4.409225579851063e-9,
           4.201178686306785e-9,
           4.027465213126468e-9
          ],
          [
           5.8177740086323356e-9,
           5.487814740440256e-9,
           5.0090220444187915e-9,
           4.609314151156538e-9
          ],
          [
           2.320034158425541e-9,
           2.1559462180201563e-9,
           1.9178589100349775e-9,
           1.7191082097589515e-9
          ],
          [
           5.2617858567959616e-12,
           6.077903638355622e-12,
           7.261731999798912e-12,
           8.249736781056387e-12
          ],
          [
           1.2118518915982822e-9,
           1.0562852023954387e-9,
           8.305905460700083e-10,
           6.422046627420737e-10
          ],
          [
           1.9559306710114026e-9,
           1.659378145913267e-9,
           1.2291566312199582e-9,
           8.700631651342126e-10
          ],
          [
           5.800379099221147e-10,
           4.579274469428986e-10,
           2.8078681880575465e-10,
           1.3293973939193998e-10
          ],
          [
           1.3369840381423423e-10,
           1.7083605782527853e-10,
           2.247064798584808e-10,
           2.6966589701649167e-10
          ],
          [
           1.6779201002605271e-9,
           1.560748927501526e-9,
           1.390745531703063e-9,
           1.2488361113823628e-9
          ],
          [
           2.355998588368582e-9,
           2.082962204155027e-9,
           1.6868535671349898e-9,
           1.3562310652446582e-9
          ],
          [
           9.979141629552947e-10,
           8.605002535616179e-10,
           6.611525654147629e-10,
           4.947659714609927e-10
          ],
          [
           1.3018109943858172e-12,
           1.993289401076794e-12,
           2.9963208057874216e-12,
           3.8334352527279475e-12
          ],
          [
           6.43829554967802e-10,
           5.105033508911788e-10,
           3.1709732631481077e-10,
           1.5567796179907072e-10
          ],
          [
           1.1397818999506018e-9,
           8.827590130075435e-10,
           5.099214666274915e-10,
           1.9874998173501457e-10
          ],
          [
           4.3490353378022546e-10,
           3.2789831651312636e-10,
           1.726810769492354e-10,
           4.3139403758226355e-11
          ],
          [
           2.862269111548065e-11,
           6.152046696418921e-11,
           1.0924068784625989e-10,
           1.490672429072276e-10
          ],
          [
           7.937312259242249e-10,
           6.88823609497245e-10,
           5.366389078824428e-10,
           4.0962113955235755e-10
          ],
          [
           1.2893003497256885e-9,
           1.0422595645829658e-9,
           6.839014205568228e-10,
           3.8481405406585104e-10
          ],
          [
           5.915108135392315e-10,
           4.658836237876091e-10,
           2.8365047118100745e-10,
           1.3155924832945176e-10
          ],
          [
           2.1456391215250963e-13,
           8.532431004625303e-13,
           1.7796860476770068e-12,
           2.5528809428084522e-12
          ],
          [
           5.05426915691685e-10,
           3.8102434860068113e-10,
           2.0057080581366823e-10,
           4.996703753647352e-11
          ],
          [
           9.956912779469375e-10,
           7.534464171041844e-10,
           4.020562394775113e-10,
           1.0879194167587852e-10
          ],
          [
           4.946284349854109e-10,
           3.9276387421234036e-10,
           2.4500379606148353e-10,
           1.2168598125795115e-10
          ],
          [
           2.674129173614574e-12,
           1.8488920778595713e-11,
           4.1429236307810906e-11,
           6.057486708904831e-11
          ]
         ]
        }
       ],
       "layout": {
        "font": {
         "color": "white"
        },
        "height": 400,
        "paper_bgcolor": "black",
        "plot_bgcolor": "black",
        "template": {
         "data": {
          "bar": [
           {
            "error_x": {
             "color": "#2a3f5f"
            },
            "error_y": {
             "color": "#2a3f5f"
            },
            "marker": {
             "line": {
              "color": "#E5ECF6",
              "width": 0.5
             },
             "pattern": {
              "fillmode": "overlay",
              "size": 10,
              "solidity": 0.2
             }
            },
            "type": "bar"
           }
          ],
          "barpolar": [
           {
            "marker": {
             "line": {
              "color": "#E5ECF6",
              "width": 0.5
             },
             "pattern": {
              "fillmode": "overlay",
              "size": 10,
              "solidity": 0.2
             }
            },
            "type": "barpolar"
           }
          ],
          "carpet": [
           {
            "aaxis": {
             "endlinecolor": "#2a3f5f",
             "gridcolor": "white",
             "linecolor": "white",
             "minorgridcolor": "white",
             "startlinecolor": "#2a3f5f"
            },
            "baxis": {
             "endlinecolor": "#2a3f5f",
             "gridcolor": "white",
             "linecolor": "white",
             "minorgridcolor": "white",
             "startlinecolor": "#2a3f5f"
            },
            "type": "carpet"
           }
          ],
          "choropleth": [
           {
            "colorbar": {
             "outlinewidth": 0,
             "ticks": ""
            },
            "type": "choropleth"
           }
          ],
          "contour": [
           {
            "colorbar": {
             "outlinewidth": 0,
             "ticks": ""
            },
            "colorscale": [
             [
              0,
              "#0d0887"
             ],
             [
              0.1111111111111111,
              "#46039f"
             ],
             [
              0.2222222222222222,
              "#7201a8"
             ],
             [
              0.3333333333333333,
              "#9c179e"
             ],
             [
              0.4444444444444444,
              "#bd3786"
             ],
             [
              0.5555555555555556,
              "#d8576b"
             ],
             [
              0.6666666666666666,
              "#ed7953"
             ],
             [
              0.7777777777777778,
              "#fb9f3a"
             ],
             [
              0.8888888888888888,
              "#fdca26"
             ],
             [
              1,
              "#f0f921"
             ]
            ],
            "type": "contour"
           }
          ],
          "contourcarpet": [
           {
            "colorbar": {
             "outlinewidth": 0,
             "ticks": ""
            },
            "type": "contourcarpet"
           }
          ],
          "heatmap": [
           {
            "colorbar": {
             "outlinewidth": 0,
             "ticks": ""
            },
            "colorscale": [
             [
              0,
              "#0d0887"
             ],
             [
              0.1111111111111111,
              "#46039f"
             ],
             [
              0.2222222222222222,
              "#7201a8"
             ],
             [
              0.3333333333333333,
              "#9c179e"
             ],
             [
              0.4444444444444444,
              "#bd3786"
             ],
             [
              0.5555555555555556,
              "#d8576b"
             ],
             [
              0.6666666666666666,
              "#ed7953"
             ],
             [
              0.7777777777777778,
              "#fb9f3a"
             ],
             [
              0.8888888888888888,
              "#fdca26"
             ],
             [
              1,
              "#f0f921"
             ]
            ],
            "type": "heatmap"
           }
          ],
          "heatmapgl": [
           {
            "colorbar": {
             "outlinewidth": 0,
             "ticks": ""
            },
            "colorscale": [
             [
              0,
              "#0d0887"
             ],
             [
              0.1111111111111111,
              "#46039f"
             ],
             [
              0.2222222222222222,
              "#7201a8"
             ],
             [
              0.3333333333333333,
              "#9c179e"
             ],
             [
              0.4444444444444444,
              "#bd3786"
             ],
             [
              0.5555555555555556,
              "#d8576b"
             ],
             [
              0.6666666666666666,
              "#ed7953"
             ],
             [
              0.7777777777777778,
              "#fb9f3a"
             ],
             [
              0.8888888888888888,
              "#fdca26"
             ],
             [
              1,
              "#f0f921"
             ]
            ],
            "type": "heatmapgl"
           }
          ],
          "histogram": [
           {
            "marker": {
             "pattern": {
              "fillmode": "overlay",
              "size": 10,
              "solidity": 0.2
             }
            },
            "type": "histogram"
           }
          ],
          "histogram2d": [
           {
            "colorbar": {
             "outlinewidth": 0,
             "ticks": ""
            },
            "colorscale": [
             [
              0,
              "#0d0887"
             ],
             [
              0.1111111111111111,
              "#46039f"
             ],
             [
              0.2222222222222222,
              "#7201a8"
             ],
             [
              0.3333333333333333,
              "#9c179e"
             ],
             [
              0.4444444444444444,
              "#bd3786"
             ],
             [
              0.5555555555555556,
              "#d8576b"
             ],
             [
              0.6666666666666666,
              "#ed7953"
             ],
             [
              0.7777777777777778,
              "#fb9f3a"
             ],
             [
              0.8888888888888888,
              "#fdca26"
             ],
             [
              1,
              "#f0f921"
             ]
            ],
            "type": "histogram2d"
           }
          ],
          "histogram2dcontour": [
           {
            "colorbar": {
             "outlinewidth": 0,
             "ticks": ""
            },
            "colorscale": [
             [
              0,
              "#0d0887"
             ],
             [
              0.1111111111111111,
              "#46039f"
             ],
             [
              0.2222222222222222,
              "#7201a8"
             ],
             [
              0.3333333333333333,
              "#9c179e"
             ],
             [
              0.4444444444444444,
              "#bd3786"
             ],
             [
              0.5555555555555556,
              "#d8576b"
             ],
             [
              0.6666666666666666,
              "#ed7953"
             ],
             [
              0.7777777777777778,
              "#fb9f3a"
             ],
             [
              0.8888888888888888,
              "#fdca26"
             ],
             [
              1,
              "#f0f921"
             ]
            ],
            "type": "histogram2dcontour"
           }
          ],
          "mesh3d": [
           {
            "colorbar": {
             "outlinewidth": 0,
             "ticks": ""
            },
            "type": "mesh3d"
           }
          ],
          "parcoords": [
           {
            "line": {
             "colorbar": {
              "outlinewidth": 0,
              "ticks": ""
             }
            },
            "type": "parcoords"
           }
          ],
          "pie": [
           {
            "automargin": true,
            "type": "pie"
           }
          ],
          "scatter": [
           {
            "fillpattern": {
             "fillmode": "overlay",
             "size": 10,
             "solidity": 0.2
            },
            "type": "scatter"
           }
          ],
          "scatter3d": [
           {
            "line": {
             "colorbar": {
              "outlinewidth": 0,
              "ticks": ""
             }
            },
            "marker": {
             "colorbar": {
              "outlinewidth": 0,
              "ticks": ""
             }
            },
            "type": "scatter3d"
           }
          ],
          "scattercarpet": [
           {
            "marker": {
             "colorbar": {
              "outlinewidth": 0,
              "ticks": ""
             }
            },
            "type": "scattercarpet"
           }
          ],
          "scattergeo": [
           {
            "marker": {
             "colorbar": {
              "outlinewidth": 0,
              "ticks": ""
             }
            },
            "type": "scattergeo"
           }
          ],
          "scattergl": [
           {
            "marker": {
             "colorbar": {
              "outlinewidth": 0,
              "ticks": ""
             }
            },
            "type": "scattergl"
           }
          ],
          "scattermapbox": [
           {
            "marker": {
             "colorbar": {
              "outlinewidth": 0,
              "ticks": ""
             }
            },
            "type": "scattermapbox"
           }
          ],
          "scatterpolar": [
           {
            "marker": {
             "colorbar": {
              "outlinewidth": 0,
              "ticks": ""
             }
            },
            "type": "scatterpolar"
           }
          ],
          "scatterpolargl": [
           {
            "marker": {
             "colorbar": {
              "outlinewidth": 0,
              "ticks": ""
             }
            },
            "type": "scatterpolargl"
           }
          ],
          "scatterternary": [
           {
            "marker": {
             "colorbar": {
              "outlinewidth": 0,
              "ticks": ""
             }
            },
            "type": "scatterternary"
           }
          ],
          "surface": [
           {
            "colorbar": {
             "outlinewidth": 0,
             "ticks": ""
            },
            "colorscale": [
             [
              0,
              "#0d0887"
             ],
             [
              0.1111111111111111,
              "#46039f"
             ],
             [
              0.2222222222222222,
              "#7201a8"
             ],
             [
              0.3333333333333333,
              "#9c179e"
             ],
             [
              0.4444444444444444,
              "#bd3786"
             ],
             [
              0.5555555555555556,
              "#d8576b"
             ],
             [
              0.6666666666666666,
              "#ed7953"
             ],
             [
              0.7777777777777778,
              "#fb9f3a"
             ],
             [
              0.8888888888888888,
              "#fdca26"
             ],
             [
              1,
              "#f0f921"
             ]
            ],
            "type": "surface"
           }
          ],
          "table": [
           {
            "cells": {
             "fill": {
              "color": "#EBF0F8"
             },
             "line": {
              "color": "white"
             }
            },
            "header": {
             "fill": {
              "color": "#C8D4E3"
             },
             "line": {
              "color": "white"
             }
            },
            "type": "table"
           }
          ]
         },
         "layout": {
          "annotationdefaults": {
           "arrowcolor": "#2a3f5f",
           "arrowhead": 0,
           "arrowwidth": 1
          },
          "autotypenumbers": "strict",
          "coloraxis": {
           "colorbar": {
            "outlinewidth": 0,
            "ticks": ""
           }
          },
          "colorscale": {
           "diverging": [
            [
             0,
             "#8e0152"
            ],
            [
             0.1,
             "#c51b7d"
            ],
            [
             0.2,
             "#de77ae"
            ],
            [
             0.3,
             "#f1b6da"
            ],
            [
             0.4,
             "#fde0ef"
            ],
            [
             0.5,
             "#f7f7f7"
            ],
            [
             0.6,
             "#e6f5d0"
            ],
            [
             0.7,
             "#b8e186"
            ],
            [
             0.8,
             "#7fbc41"
            ],
            [
             0.9,
             "#4d9221"
            ],
            [
             1,
             "#276419"
            ]
           ],
           "sequential": [
            [
             0,
             "#0d0887"
            ],
            [
             0.1111111111111111,
             "#46039f"
            ],
            [
             0.2222222222222222,
             "#7201a8"
            ],
            [
             0.3333333333333333,
             "#9c179e"
            ],
            [
             0.4444444444444444,
             "#bd3786"
            ],
            [
             0.5555555555555556,
             "#d8576b"
            ],
            [
             0.6666666666666666,
             "#ed7953"
            ],
            [
             0.7777777777777778,
             "#fb9f3a"
            ],
            [
             0.8888888888888888,
             "#fdca26"
            ],
            [
             1,
             "#f0f921"
            ]
           ],
           "sequentialminus": [
            [
             0,
             "#0d0887"
            ],
            [
             0.1111111111111111,
             "#46039f"
            ],
            [
             0.2222222222222222,
             "#7201a8"
            ],
            [
             0.3333333333333333,
             "#9c179e"
            ],
            [
             0.4444444444444444,
             "#bd3786"
            ],
            [
             0.5555555555555556,
             "#d8576b"
            ],
            [
             0.6666666666666666,
             "#ed7953"
            ],
            [
             0.7777777777777778,
             "#fb9f3a"
            ],
            [
             0.8888888888888888,
             "#fdca26"
            ],
            [
             1,
             "#f0f921"
            ]
           ]
          },
          "colorway": [
           "#636efa",
           "#EF553B",
           "#00cc96",
           "#ab63fa",
           "#FFA15A",
           "#19d3f3",
           "#FF6692",
           "#B6E880",
           "#FF97FF",
           "#FECB52"
          ],
          "font": {
           "color": "#2a3f5f"
          },
          "geo": {
           "bgcolor": "white",
           "lakecolor": "white",
           "landcolor": "#E5ECF6",
           "showlakes": true,
           "showland": true,
           "subunitcolor": "white"
          },
          "hoverlabel": {
           "align": "left"
          },
          "hovermode": "closest",
          "mapbox": {
           "style": "light"
          },
          "paper_bgcolor": "white",
          "plot_bgcolor": "#E5ECF6",
          "polar": {
           "angularaxis": {
            "gridcolor": "white",
            "linecolor": "white",
            "ticks": ""
           },
           "bgcolor": "#E5ECF6",
           "radialaxis": {
            "gridcolor": "white",
            "linecolor": "white",
            "ticks": ""
           }
          },
          "scene": {
           "xaxis": {
            "backgroundcolor": "#E5ECF6",
            "gridcolor": "white",
            "gridwidth": 2,
            "linecolor": "white",
            "showbackground": true,
            "ticks": "",
            "zerolinecolor": "white"
           },
           "yaxis": {
            "backgroundcolor": "#E5ECF6",
            "gridcolor": "white",
            "gridwidth": 2,
            "linecolor": "white",
            "showbackground": true,
            "ticks": "",
            "zerolinecolor": "white"
           },
           "zaxis": {
            "backgroundcolor": "#E5ECF6",
            "gridcolor": "white",
            "gridwidth": 2,
            "linecolor": "white",
            "showbackground": true,
            "ticks": "",
            "zerolinecolor": "white"
           }
          },
          "shapedefaults": {
           "line": {
            "color": "#2a3f5f"
           }
          },
          "ternary": {
           "aaxis": {
            "gridcolor": "white",
            "linecolor": "white",
            "ticks": ""
           },
           "baxis": {
            "gridcolor": "white",
            "linecolor": "white",
            "ticks": ""
           },
           "bgcolor": "#E5ECF6",
           "caxis": {
            "gridcolor": "white",
            "linecolor": "white",
            "ticks": ""
           }
          },
          "title": {
           "x": 0.05
          },
          "xaxis": {
           "automargin": true,
           "gridcolor": "white",
           "linecolor": "white",
           "ticks": "",
           "title": {
            "standoff": 15
           },
           "zerolinecolor": "white",
           "zerolinewidth": 2
          },
          "yaxis": {
           "automargin": true,
           "gridcolor": "white",
           "linecolor": "white",
           "ticks": "",
           "title": {
            "standoff": 15
           },
           "zerolinecolor": "white",
           "zerolinewidth": 2
          }
         }
        },
        "title": {
         "text": "Test heatmap with a Sin wave (1 frequency)"
        },
        "width": 600,
        "xaxis": {
         "gridcolor": "gray",
         "showgrid": true,
         "title": {
          "text": "X Axis Title"
         }
        },
        "yaxis": {
         "gridcolor": "gray",
         "showgrid": true,
         "title": {
          "text": "Y Axis Title"
         }
        }
       }
      }
     },
     "metadata": {},
     "output_type": "display_data"
    }
   ],
   "source": [
    "# test spectrogram function from scipy\n",
    "from scipy.signal import spectrogram\n",
    "import numpy as np\n",
    "import plotly.graph_objects as go\n",
    "\n",
    "\n",
    "N = 1000\n",
    "f = 50 # 50 hz -> wave = 2*pi*f*t\n",
    "t = np.linspace(0, 5, N)\n",
    "y = np.sin(2 * np.pi * f * t)\n",
    "\n",
    "_f, _t, _S = spectrogram(y, f)\n",
    "\n",
    "# Create the heatmap\n",
    "fig = go.Figure(data=go.Heatmap(\n",
    "    x=_t,\n",
    "    y=_f,\n",
    "    z=_S,\n",
    "    colorscale='Viridis',  # You can choose any other color scale\n",
    "))\n",
    "\n",
    "# Add labels to the axes (optional)\n",
    "fig.update_xaxes(title='X Axis Title')\n",
    "fig.update_yaxes(title='Y Axis Title')\n",
    "\n",
    "# Set the title of the heatmap\n",
    "fig.update_layout(\n",
    "    title='Test heatmap with a Sin wave (1 frequency)',\n",
    "    # dark mode, a mess beacuse it's not plotly express\n",
    "    paper_bgcolor='black',\n",
    "    plot_bgcolor='black',\n",
    "    # Change font color to white\n",
    "    font=dict(color='white'),\n",
    "    # Change grid color to gray\n",
    "    xaxis=dict(showgrid=True, gridcolor='gray'),\n",
    "    yaxis=dict(showgrid=True, gridcolor='gray'),\n",
    "    width=600,\n",
    "    height=400\n",
    ")\n",
    "\n",
    "# Show the plot\n",
    "fig.show()\n"
   ]
  },
  {
   "attachments": {},
   "cell_type": "markdown",
   "metadata": {},
   "source": [
    "Now let's test loading a sound file!"
   ]
  },
  {
   "cell_type": "code",
   "execution_count": 55,
   "metadata": {},
   "outputs": [],
   "source": [
    "# TODO using librosa"
   ]
  }
 ],
 "metadata": {
  "kernelspec": {
   "display_name": "birdenv",
   "language": "python",
   "name": "python3"
  },
  "language_info": {
   "codemirror_mode": {
    "name": "ipython",
    "version": 3
   },
   "file_extension": ".py",
   "mimetype": "text/x-python",
   "name": "python",
   "nbconvert_exporter": "python",
   "pygments_lexer": "ipython3",
   "version": "3.9.6"
  },
  "orig_nbformat": 4
 },
 "nbformat": 4,
 "nbformat_minor": 2
}
