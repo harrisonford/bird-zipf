{
 "cells": [
  {
   "attachments": {},
   "cell_type": "markdown",
   "metadata": {},
   "source": [
    "# Does the Common Swift's tune behave in a Zipf-like pattern? \n",
    "\n",
    "## A vague concept and analysis"
   ]
  },
  {
   "attachments": {},
   "cell_type": "markdown",
   "metadata": {},
   "source": [
    "## The Common Swift\n",
    "\n",
    "The common swift (_Apus apus_), is a medium-sized bird resembling the barn swallow and house martin but larger, belonging to the order Apodiformes. These resemblances result from convergent evolution, as their closest relatives are New World hummingbirds and Southeast Asian treeswifts. Its scientific name \"Apus\" is derived from Latin, meaning swift, reflecting the ancient belief that swifts had no feet. Swifts have short legs used for clinging to vertical surfaces, and they avoid settling on the ground to minimize vulnerability, with non-breeding individuals often in continuous flight for up to ten months.\n",
    "\n",
    "![Swift Pretty](images/swift-flying.webp)\n",
    "\n",
    "### Taxonomy and Physiology\n",
    "\n",
    "The common swift, was classified by Carl Linnaeus in 1758 as _Hirundo apus_ and later categorized under the _genus Apus_ by Giovanni Antonio Scopoli in 1777. Its name \"apus\" is derived from the Latin word for swift, reflecting the belief that these birds were footless swallows. These birds measure 16–17 cm in length with a wingspan of 38–40 cm. They are primarily blackish-brown, with a small white or pale grey chin patch that is not easily visible from a distance.\n",
    "\n",
    "![Swift Anatomy](images/commonswift-topography.jpg)\n",
    "\n",
    "\n",
    "### Language Behavior\n",
    "Common swifts are known for their distinctive loud screaming calls, often forming groups during summer evenings. These gatherings may serve various purposes, including ascending to sleep in flight, with radar tracking revealing flocking behavior during specific times, possibly for social interaction or information exchange. \n",
    "\n",
    "### Final Motivations\n",
    "As the name would led you to believe, the Common Swift is a fairly popular recorded species, specifically in the Xenocanto bird dataset there are thousands of high quality recordings that can be obtained through a wrapped API (see _example_download.py_) therefore this is a good starter specie to test if Zipf's law is present after some preprocessing.\n",
    "\n",
    "The main focus of this work will be to explore a novel way to synthetize bird sounds into a codified language and thus allowing possible languange analysis in the future."
   ]
  },
  {
   "attachments": {},
   "cell_type": "markdown",
   "metadata": {},
   "source": [
    "### Xenocanto Dataset \n",
    "\n",
    "_To download the dataset using the wrapped API (pypi xenocanto) run example_download.py_\n",
    "\n",
    "\n",
    "#### Check Metadata"
   ]
  },
  {
   "cell_type": "code",
   "execution_count": 1,
   "metadata": {},
   "outputs": [],
   "source": [
    "# check metadata files in the dataset\n",
    "import os \n",
    "import json\n",
    "\n",
    "\n",
    "bird = \"CommonSwift\"\n",
    "\n",
    "# check a metadata file's content\n",
    "path = f\"./dataset/metadata/{bird}/\"\n",
    "metalist = os.listdir(path)\n",
    "\n",
    "# open and read the JSON file\n",
    "chosen_meta = metalist[0]\n",
    "with open(f\"./dataset/metadata/CommonSwift/{chosen_meta}\", 'r') as json_file:\n",
    "    metadata = json.load(json_file)\n",
    "\n",
    "#print(metadata)\n"
   ]
  },
  {
   "attachments": {},
   "cell_type": "markdown",
   "metadata": {},
   "source": [
    "So each metadata file has a ton of recordings with fields that _could_ be interesting if data's rich enough, let's visualize\n",
    "how rich is our data by merging both metadata files to a pandas dataframe and getting some statistics."
   ]
  },
  {
   "cell_type": "code",
   "execution_count": 2,
   "metadata": {},
   "outputs": [
    {
     "data": {
      "text/html": [
       "<div>\n",
       "<style scoped>\n",
       "    .dataframe tbody tr th:only-of-type {\n",
       "        vertical-align: middle;\n",
       "    }\n",
       "\n",
       "    .dataframe tbody tr th {\n",
       "        vertical-align: top;\n",
       "    }\n",
       "\n",
       "    .dataframe thead th {\n",
       "        text-align: right;\n",
       "    }\n",
       "</style>\n",
       "<table border=\"1\" class=\"dataframe\">\n",
       "  <thead>\n",
       "    <tr style=\"text-align: right;\">\n",
       "      <th></th>\n",
       "      <th>id</th>\n",
       "      <th>gen</th>\n",
       "      <th>sp</th>\n",
       "      <th>ssp</th>\n",
       "      <th>group</th>\n",
       "      <th>en</th>\n",
       "      <th>rec</th>\n",
       "      <th>cnt</th>\n",
       "      <th>loc</th>\n",
       "      <th>lat</th>\n",
       "      <th>...</th>\n",
       "      <th>rmk</th>\n",
       "      <th>bird-seen</th>\n",
       "      <th>animal-seen</th>\n",
       "      <th>playback-used</th>\n",
       "      <th>temp</th>\n",
       "      <th>regnr</th>\n",
       "      <th>auto</th>\n",
       "      <th>dvc</th>\n",
       "      <th>mic</th>\n",
       "      <th>smp</th>\n",
       "    </tr>\n",
       "  </thead>\n",
       "  <tbody>\n",
       "    <tr>\n",
       "      <th>314</th>\n",
       "      <td>663446</td>\n",
       "      <td>Apus</td>\n",
       "      <td>apus</td>\n",
       "      <td></td>\n",
       "      <td>birds</td>\n",
       "      <td>Common Swift</td>\n",
       "      <td>Michael John O Mahony</td>\n",
       "      <td>Ireland</td>\n",
       "      <td>Ireland (near  Buttevant), Cork, County Cork</td>\n",
       "      <td>52.2341</td>\n",
       "      <td>...</td>\n",
       "      <td></td>\n",
       "      <td>yes</td>\n",
       "      <td>yes</td>\n",
       "      <td>unknown</td>\n",
       "      <td></td>\n",
       "      <td></td>\n",
       "      <td>no</td>\n",
       "      <td></td>\n",
       "      <td></td>\n",
       "      <td>44100</td>\n",
       "    </tr>\n",
       "    <tr>\n",
       "      <th>187</th>\n",
       "      <td>813246</td>\n",
       "      <td>Apus</td>\n",
       "      <td>apus</td>\n",
       "      <td></td>\n",
       "      <td>birds</td>\n",
       "      <td>Common Swift</td>\n",
       "      <td>Peter Boesman</td>\n",
       "      <td>Kazakhstan</td>\n",
       "      <td>Sharyn canyon area</td>\n",
       "      <td>43.4936</td>\n",
       "      <td>...</td>\n",
       "      <td></td>\n",
       "      <td>unknown</td>\n",
       "      <td>unknown</td>\n",
       "      <td>unknown</td>\n",
       "      <td></td>\n",
       "      <td></td>\n",
       "      <td>no</td>\n",
       "      <td>Olympus LS-05</td>\n",
       "      <td>Telinga Pro-X</td>\n",
       "      <td>48000</td>\n",
       "    </tr>\n",
       "    <tr>\n",
       "      <th>492</th>\n",
       "      <td>736481</td>\n",
       "      <td>Apus</td>\n",
       "      <td>apus</td>\n",
       "      <td></td>\n",
       "      <td>birds</td>\n",
       "      <td>Common Swift</td>\n",
       "      <td>Cedric Mroczko</td>\n",
       "      <td>France</td>\n",
       "      <td>Cordes-sur-Ciel, Tarn, Occitanie, France</td>\n",
       "      <td>44.0632</td>\n",
       "      <td>...</td>\n",
       "      <td>High-pass filtered. ls-5 + stereo esm aom5024</td>\n",
       "      <td>no</td>\n",
       "      <td>no</td>\n",
       "      <td>no</td>\n",
       "      <td></td>\n",
       "      <td></td>\n",
       "      <td>no</td>\n",
       "      <td></td>\n",
       "      <td></td>\n",
       "      <td>44100</td>\n",
       "    </tr>\n",
       "    <tr>\n",
       "      <th>655</th>\n",
       "      <td>418453</td>\n",
       "      <td>Apus</td>\n",
       "      <td>apus</td>\n",
       "      <td></td>\n",
       "      <td>birds</td>\n",
       "      <td>Common Swift</td>\n",
       "      <td>Stanislas Wroza</td>\n",
       "      <td>France</td>\n",
       "      <td>Cap Leucate, Leucate, Langeudoc-Rousillon</td>\n",
       "      <td>42.913</td>\n",
       "      <td>...</td>\n",
       "      <td></td>\n",
       "      <td>yes</td>\n",
       "      <td>yes</td>\n",
       "      <td>no</td>\n",
       "      <td></td>\n",
       "      <td></td>\n",
       "      <td>no</td>\n",
       "      <td></td>\n",
       "      <td></td>\n",
       "      <td>44100</td>\n",
       "    </tr>\n",
       "    <tr>\n",
       "      <th>44</th>\n",
       "      <td>723217</td>\n",
       "      <td>Apus</td>\n",
       "      <td>apus</td>\n",
       "      <td></td>\n",
       "      <td>birds</td>\n",
       "      <td>Common Swift</td>\n",
       "      <td>Ad Hilders</td>\n",
       "      <td>Portugal</td>\n",
       "      <td>São Nicolau (near  Lisboa), Lisbon, Lisboa</td>\n",
       "      <td>38.712</td>\n",
       "      <td>...</td>\n",
       "      <td></td>\n",
       "      <td>no</td>\n",
       "      <td>no</td>\n",
       "      <td>no</td>\n",
       "      <td></td>\n",
       "      <td></td>\n",
       "      <td>no</td>\n",
       "      <td></td>\n",
       "      <td></td>\n",
       "      <td>44100</td>\n",
       "    </tr>\n",
       "  </tbody>\n",
       "</table>\n",
       "<p>5 rows × 38 columns</p>\n",
       "</div>"
      ],
      "text/plain": [
       "         id   gen    sp ssp  group            en                    rec  \\\n",
       "314  663446  Apus  apus      birds  Common Swift  Michael John O Mahony   \n",
       "187  813246  Apus  apus      birds  Common Swift          Peter Boesman   \n",
       "492  736481  Apus  apus      birds  Common Swift         Cedric Mroczko   \n",
       "655  418453  Apus  apus      birds  Common Swift        Stanislas Wroza   \n",
       "44   723217  Apus  apus      birds  Common Swift             Ad Hilders   \n",
       "\n",
       "            cnt                                           loc      lat  ...  \\\n",
       "314     Ireland  Ireland (near  Buttevant), Cork, County Cork  52.2341  ...   \n",
       "187  Kazakhstan                            Sharyn canyon area  43.4936  ...   \n",
       "492      France      Cordes-sur-Ciel, Tarn, Occitanie, France  44.0632  ...   \n",
       "655      France     Cap Leucate, Leucate, Langeudoc-Rousillon   42.913  ...   \n",
       "44     Portugal    São Nicolau (near  Lisboa), Lisbon, Lisboa   38.712  ...   \n",
       "\n",
       "                                               rmk bird-seen animal-seen  \\\n",
       "314                                                      yes         yes   \n",
       "187                                                  unknown     unknown   \n",
       "492  High-pass filtered. ls-5 + stereo esm aom5024        no          no   \n",
       "655                                                      yes         yes   \n",
       "44                                                        no          no   \n",
       "\n",
       "    playback-used temp regnr auto            dvc            mic    smp  \n",
       "314       unknown              no                                44100  \n",
       "187       unknown              no  Olympus LS-05  Telinga Pro-X  48000  \n",
       "492            no              no                                44100  \n",
       "655            no              no                                44100  \n",
       "44             no              no                                44100  \n",
       "\n",
       "[5 rows x 38 columns]"
      ]
     },
     "execution_count": 2,
     "metadata": {},
     "output_type": "execute_result"
    }
   ],
   "source": [
    "# uses: metalist from cell 9 and imports\n",
    "# merge metadata files into one and then dataframe it\n",
    "import pandas as pd\n",
    "\n",
    "\n",
    "records = []\n",
    "\n",
    "for meta in metalist:\n",
    "    # open each metadata file and load dict\n",
    "    with open(f\"./dataset/metadata/CommonSwift/{meta}\", 'r') as json_file:\n",
    "        metadata = json.load(json_file)\n",
    "        # we need only the recordings from json\n",
    "        sub_records = metadata['recordings']\n",
    "        for record in sub_records:\n",
    "            records.append(record)\n",
    "\n",
    "# now we create the dataframe\n",
    "df = pd.DataFrame(records)\n",
    "df.sample(5)"
   ]
  },
  {
   "attachments": {},
   "cell_type": "markdown",
   "metadata": {},
   "source": [
    "Clearly, there are some useless columns so let's ignore those. Some columns that could be interesting may not be rich enough.\n",
    "\n",
    "TODO: Check later if we can separate by male and female."
   ]
  },
  {
   "cell_type": "code",
   "execution_count": 24,
   "metadata": {},
   "outputs": [
    {
     "data": {
      "text/html": [
       "<div>\n",
       "<style scoped>\n",
       "    .dataframe tbody tr th:only-of-type {\n",
       "        vertical-align: middle;\n",
       "    }\n",
       "\n",
       "    .dataframe tbody tr th {\n",
       "        vertical-align: top;\n",
       "    }\n",
       "\n",
       "    .dataframe thead th {\n",
       "        text-align: right;\n",
       "    }\n",
       "</style>\n",
       "<table border=\"1\" class=\"dataframe\">\n",
       "  <thead>\n",
       "    <tr style=\"text-align: right;\">\n",
       "      <th></th>\n",
       "      <th>id</th>\n",
       "      <th>cnt</th>\n",
       "      <th>lat</th>\n",
       "      <th>lng</th>\n",
       "      <th>type</th>\n",
       "      <th>q</th>\n",
       "      <th>length</th>\n",
       "      <th>time</th>\n",
       "      <th>date</th>\n",
       "      <th>bird-seen</th>\n",
       "      <th>smp</th>\n",
       "    </tr>\n",
       "  </thead>\n",
       "  <tbody>\n",
       "    <tr>\n",
       "      <th>108</th>\n",
       "      <td>500246</td>\n",
       "      <td>United Kingdom</td>\n",
       "      <td>53.9299</td>\n",
       "      <td>-2.9833</td>\n",
       "      <td>song</td>\n",
       "      <td>C</td>\n",
       "      <td>0:04</td>\n",
       "      <td>08:44</td>\n",
       "      <td>2016-05-07</td>\n",
       "      <td>no</td>\n",
       "      <td>22050</td>\n",
       "    </tr>\n",
       "    <tr>\n",
       "      <th>243</th>\n",
       "      <td>817639</td>\n",
       "      <td>Portugal</td>\n",
       "      <td>41.5176</td>\n",
       "      <td>-7.7929</td>\n",
       "      <td>flight call</td>\n",
       "      <td>A</td>\n",
       "      <td>0:04</td>\n",
       "      <td>06:30</td>\n",
       "      <td>2023-07-19</td>\n",
       "      <td>no</td>\n",
       "      <td>44100</td>\n",
       "    </tr>\n",
       "    <tr>\n",
       "      <th>281</th>\n",
       "      <td>733547</td>\n",
       "      <td>Poland</td>\n",
       "      <td>51.6578</td>\n",
       "      <td>19.3281</td>\n",
       "      <td>call, flight call</td>\n",
       "      <td>A</td>\n",
       "      <td>0:19</td>\n",
       "      <td>21:00</td>\n",
       "      <td>2022-06-22</td>\n",
       "      <td>yes</td>\n",
       "      <td>44100</td>\n",
       "    </tr>\n",
       "    <tr>\n",
       "      <th>49</th>\n",
       "      <td>663911</td>\n",
       "      <td>Netherlands</td>\n",
       "      <td>51.5121</td>\n",
       "      <td>4.4359</td>\n",
       "      <td>call</td>\n",
       "      <td>C</td>\n",
       "      <td>0:10</td>\n",
       "      <td>07:18</td>\n",
       "      <td>2021-07-18</td>\n",
       "      <td>yes</td>\n",
       "      <td>44100</td>\n",
       "    </tr>\n",
       "    <tr>\n",
       "      <th>582</th>\n",
       "      <td>570979</td>\n",
       "      <td>Poland</td>\n",
       "      <td>50.1191</td>\n",
       "      <td>18.9721</td>\n",
       "      <td>flight call</td>\n",
       "      <td>B</td>\n",
       "      <td>0:07</td>\n",
       "      <td>05:37</td>\n",
       "      <td>2020-06-23</td>\n",
       "      <td>no</td>\n",
       "      <td>48000</td>\n",
       "    </tr>\n",
       "    <tr>\n",
       "      <th>127</th>\n",
       "      <td>380253</td>\n",
       "      <td>Switzerland</td>\n",
       "      <td>46.9377</td>\n",
       "      <td>7.4678</td>\n",
       "      <td>flight call</td>\n",
       "      <td>C</td>\n",
       "      <td>0:31</td>\n",
       "      <td>21:00</td>\n",
       "      <td>2017-07-03</td>\n",
       "      <td>yes</td>\n",
       "      <td>48000</td>\n",
       "    </tr>\n",
       "    <tr>\n",
       "      <th>139</th>\n",
       "      <td>376874</td>\n",
       "      <td>France</td>\n",
       "      <td>42.9922</td>\n",
       "      <td>6.1862</td>\n",
       "      <td>flight call</td>\n",
       "      <td>C</td>\n",
       "      <td>0:31</td>\n",
       "      <td>20:00</td>\n",
       "      <td>2017-06-18</td>\n",
       "      <td>yes</td>\n",
       "      <td>44100</td>\n",
       "    </tr>\n",
       "    <tr>\n",
       "      <th>620</th>\n",
       "      <td>486195</td>\n",
       "      <td>Portugal</td>\n",
       "      <td>37.1866</td>\n",
       "      <td>-7.4373</td>\n",
       "      <td>flight call</td>\n",
       "      <td>B</td>\n",
       "      <td>0:17</td>\n",
       "      <td>11:45</td>\n",
       "      <td>2019-06-28</td>\n",
       "      <td>yes</td>\n",
       "      <td>48000</td>\n",
       "    </tr>\n",
       "    <tr>\n",
       "      <th>297</th>\n",
       "      <td>724477</td>\n",
       "      <td>France</td>\n",
       "      <td>48.2016</td>\n",
       "      <td>-2.9861</td>\n",
       "      <td>flight call</td>\n",
       "      <td>A</td>\n",
       "      <td>0:38</td>\n",
       "      <td>10:30</td>\n",
       "      <td>2022-05-15</td>\n",
       "      <td>unknown</td>\n",
       "      <td>48000</td>\n",
       "    </tr>\n",
       "    <tr>\n",
       "      <th>326</th>\n",
       "      <td>657329</td>\n",
       "      <td>Netherlands</td>\n",
       "      <td>51.9892</td>\n",
       "      <td>4.4694</td>\n",
       "      <td>call, flight call</td>\n",
       "      <td>A</td>\n",
       "      <td>0:04</td>\n",
       "      <td>05:51</td>\n",
       "      <td>2021-06-17</td>\n",
       "      <td>no</td>\n",
       "      <td>44100</td>\n",
       "    </tr>\n",
       "  </tbody>\n",
       "</table>\n",
       "</div>"
      ],
      "text/plain": [
       "         id             cnt      lat      lng               type  q length  \\\n",
       "108  500246  United Kingdom  53.9299  -2.9833               song  C   0:04   \n",
       "243  817639        Portugal  41.5176  -7.7929        flight call  A   0:04   \n",
       "281  733547          Poland  51.6578  19.3281  call, flight call  A   0:19   \n",
       "49   663911     Netherlands  51.5121   4.4359               call  C   0:10   \n",
       "582  570979          Poland  50.1191  18.9721        flight call  B   0:07   \n",
       "127  380253     Switzerland  46.9377   7.4678        flight call  C   0:31   \n",
       "139  376874          France  42.9922   6.1862        flight call  C   0:31   \n",
       "620  486195        Portugal  37.1866  -7.4373        flight call  B   0:17   \n",
       "297  724477          France  48.2016  -2.9861        flight call  A   0:38   \n",
       "326  657329     Netherlands  51.9892   4.4694  call, flight call  A   0:04   \n",
       "\n",
       "      time        date bird-seen    smp  \n",
       "108  08:44  2016-05-07        no  22050  \n",
       "243  06:30  2023-07-19        no  44100  \n",
       "281  21:00  2022-06-22       yes  44100  \n",
       "49   07:18  2021-07-18       yes  44100  \n",
       "582  05:37  2020-06-23        no  48000  \n",
       "127  21:00  2017-07-03       yes  48000  \n",
       "139  20:00  2017-06-18       yes  44100  \n",
       "620  11:45  2019-06-28       yes  48000  \n",
       "297  10:30  2022-05-15   unknown  48000  \n",
       "326  05:51  2021-06-17        no  44100  "
      ]
     },
     "execution_count": 24,
     "metadata": {},
     "output_type": "execute_result"
    }
   ],
   "source": [
    "# clean a bit\n",
    "uselful_cols = ['id', 'cnt', 'lat', 'lng', 'type', 'q', 'length', 'time', 'date', 'bird-seen', 'smp']\n",
    "\n",
    "df[uselful_cols].sample(10)"
   ]
  },
  {
   "cell_type": "code",
   "execution_count": 6,
   "metadata": {},
   "outputs": [
    {
     "data": {
      "application/vnd.plotly.v1+json": {
       "config": {
        "plotlyServerURL": "https://plot.ly"
       },
       "data": [
        {
         "alignmentgroup": "True",
         "bingroup": "x",
         "hovertemplate": "cnt=%{x}<br>count=%{y}<extra></extra>",
         "legendgroup": "",
         "marker": {
          "color": "#636efa",
          "pattern": {
           "shape": ""
          }
         },
         "name": "",
         "offsetgroup": "",
         "orientation": "v",
         "showlegend": false,
         "type": "histogram",
         "x": [
          "Uzbekistan",
          "Uzbekistan",
          "Switzerland",
          "Germany",
          "Sweden",
          "Spain",
          "Israel",
          "Spain",
          "Portugal",
          "Russian Federation",
          "Italy",
          "Poland",
          "France",
          "France",
          "Spain",
          "Spain",
          "Germany",
          "Germany",
          "United Kingdom",
          "Germany",
          "Sweden",
          "Sweden",
          "Sweden",
          "Sweden",
          "Estonia",
          "Sweden",
          "France",
          "United Kingdom",
          "Germany",
          "Spain",
          "Cyprus",
          "Sweden",
          "Netherlands",
          "Netherlands",
          "Netherlands",
          "Netherlands",
          "Kazakhstan",
          "Denmark",
          "Spain",
          "Netherlands",
          "Netherlands",
          "Netherlands",
          "Netherlands",
          "France",
          "Portugal",
          "Portugal",
          "Slovakia",
          "Sweden",
          "France",
          "Netherlands",
          "Netherlands",
          "Netherlands",
          "Poland",
          "Poland",
          "Netherlands",
          "Netherlands",
          "Netherlands",
          "Netherlands",
          "United Kingdom",
          "Netherlands",
          "Netherlands",
          "Netherlands",
          "Netherlands",
          "Netherlands",
          "Netherlands",
          "Netherlands",
          "Austria",
          "Portugal",
          "United Kingdom",
          "United Kingdom",
          "Sweden",
          "United Kingdom",
          "Poland",
          "Netherlands",
          "France",
          "United Kingdom",
          "Spain",
          "Spain",
          "Spain",
          "Spain",
          "Spain",
          "Spain",
          "Ireland",
          "Spain",
          "Netherlands",
          "Poland",
          "Poland",
          "Portugal",
          "Spain",
          "Spain",
          "Spain",
          "France",
          "Portugal",
          "France",
          "Netherlands",
          "Netherlands",
          "Netherlands",
          "Belgium",
          "Poland",
          "Netherlands",
          "Netherlands",
          "United Kingdom",
          "United Kingdom",
          "United Kingdom",
          "United Kingdom",
          "United Kingdom",
          "United Kingdom",
          "United Kingdom",
          "United Kingdom",
          "Estonia",
          "Estonia",
          "Poland",
          "United Kingdom",
          "Italy",
          "Portugal",
          "Spain",
          "France",
          "France",
          "Germany",
          "Germany",
          "Italy",
          "United Kingdom",
          "United Kingdom",
          "United Kingdom",
          "Switzerland",
          "Switzerland",
          "Switzerland",
          "Switzerland",
          "Switzerland",
          "Switzerland",
          "Switzerland",
          "Switzerland",
          "Italy",
          "Spain",
          "Ukraine",
          "Switzerland",
          "France",
          "France",
          "France",
          "France",
          "France",
          "Germany",
          "Switzerland",
          "Italy",
          "France",
          "Italy",
          "France",
          "United Kingdom",
          "Ireland",
          "Ukraine",
          "Spain",
          "Namibia",
          "United Kingdom",
          "Russian Federation",
          "Greece",
          "United Kingdom",
          "Kenya",
          "Spain",
          "Russian Federation",
          "Russian Federation",
          "France",
          "France",
          "Russian Federation",
          "Germany",
          "Uzbekistan",
          "Uzbekistan",
          "Switzerland",
          "Spain",
          "Spain",
          "Poland",
          "Belgium",
          "France",
          "France",
          "Italy",
          "Russian Federation",
          "Russian Federation",
          "Netherlands",
          "Spain",
          "Italy",
          "Italy",
          "Turkey",
          "Czech Republic",
          "Spain",
          "Sweden",
          "France",
          "Sweden",
          "Kazakhstan",
          "Kazakhstan",
          "United Kingdom",
          "France",
          "Netherlands",
          "Sweden",
          "United Kingdom",
          "Uzbekistan",
          "United Kingdom",
          "United Kingdom",
          "Spain",
          "Poland",
          "United Kingdom",
          "France",
          "Spain",
          "Netherlands",
          "Spain",
          "Denmark",
          "Italy",
          "Italy",
          "Italy",
          "Italy",
          "Portugal",
          "United Kingdom",
          "France",
          "Germany",
          "France",
          "Russian Federation",
          "France",
          "Romania",
          "Spain",
          "Portugal",
          "United Kingdom",
          "Estonia",
          "Spain",
          "Poland",
          "Poland",
          "Poland",
          "Spain",
          "Spain",
          "Spain",
          "Spain",
          "Finland",
          "Russian Federation",
          "Poland",
          "Poland",
          "Poland",
          "China",
          "Estonia",
          "Estonia",
          "Germany",
          "Sweden",
          "Sweden",
          "France",
          "Portugal",
          "Portugal",
          "Portugal",
          "Portugal",
          "Portugal",
          "Portugal",
          "Italy",
          "France",
          "France",
          "France",
          "Poland",
          "Poland",
          "Poland",
          "Poland",
          "Sweden",
          "Netherlands",
          "Netherlands",
          "Netherlands",
          "Netherlands",
          "Spain",
          "Spain",
          "Netherlands",
          "Portugal",
          "Netherlands",
          "Spain",
          "Netherlands",
          "Sweden",
          "Slovakia",
          "Germany",
          "Portugal",
          "Sweden",
          "Estonia",
          "Germany",
          "Ireland",
          "Sweden",
          "Spain",
          "Spain",
          "Netherlands",
          "Netherlands",
          "Belgium",
          "United Kingdom",
          "Poland",
          "Switzerland",
          "Portugal",
          "Netherlands",
          "Netherlands",
          "Netherlands",
          "Sweden",
          "Italy",
          "Netherlands",
          "Netherlands",
          "Italy",
          "Germany",
          "Germany",
          "Sweden",
          "France",
          "Spain",
          "France",
          "Netherlands",
          "Spain",
          "United Kingdom",
          "Italy",
          "Ireland",
          "Ireland",
          "Ireland",
          "Ireland",
          "Estonia",
          "Estonia",
          "Estonia",
          "Estonia",
          "Estonia",
          "Netherlands",
          "Netherlands",
          "Netherlands",
          "Ireland",
          "Netherlands",
          "Netherlands",
          "Spain",
          "Netherlands",
          "Netherlands",
          "France",
          "Netherlands",
          "France",
          "Netherlands",
          "Sweden",
          "Sweden",
          "Netherlands",
          "Poland",
          "Netherlands",
          "France",
          "Croatia",
          "Spain",
          "Spain",
          "Spain",
          "United Kingdom",
          "United Kingdom",
          "Germany",
          "United Kingdom",
          "Poland",
          "Germany",
          "France",
          "Portugal",
          "United Kingdom",
          "France",
          "Portugal",
          "Portugal",
          "Portugal",
          "Portugal",
          "Portugal",
          "Portugal",
          "Poland",
          "Poland",
          "Italy",
          "Poland",
          "Poland",
          "France",
          "India",
          "Spain",
          "Czech Republic",
          "France",
          "Italy",
          "Russian Federation",
          "Russian Federation",
          "Russian Federation",
          "Russian Federation",
          "Russian Federation",
          "Sweden",
          "Sweden",
          "Germany",
          "Netherlands",
          "Germany",
          "Poland",
          "Germany",
          "Spain",
          "Spain",
          "Spain",
          "Spain",
          "Spain",
          "Spain",
          "Spain",
          "Portugal",
          "Portugal",
          "Sweden",
          "Portugal",
          "Netherlands",
          "Spain",
          "Poland",
          "Lithuania",
          "Germany",
          "Switzerland",
          "Switzerland",
          "Spain",
          "France",
          "France",
          "Spain",
          "France",
          "Netherlands",
          "Germany",
          "Spain",
          "France",
          "Germany",
          "Netherlands",
          "Netherlands",
          "Germany",
          "Italy",
          "Germany",
          "Spain",
          "Poland",
          "Finland",
          "France",
          "Spain",
          "Switzerland",
          "Netherlands",
          "France",
          "Poland",
          "Italy",
          "Norway",
          "Germany",
          "Germany",
          "Germany",
          "Estonia",
          "Poland",
          "Poland",
          "Germany",
          "Netherlands",
          "Sweden",
          "Sweden",
          "Sweden",
          "Denmark",
          "Sweden",
          "Sweden",
          "Sweden",
          "Ukraine",
          "Denmark",
          "Estonia",
          "Estonia",
          "Sweden",
          "Sweden",
          "Sweden",
          "France",
          "Belgium",
          "France",
          "Switzerland",
          "France",
          "Ukraine",
          "Italy",
          "Germany",
          "Sweden",
          "Italy",
          "Sweden",
          "France",
          "Spain",
          "Slovakia",
          "Turkey",
          "Italy",
          "Austria",
          "Spain",
          "Spain",
          "France",
          "France",
          "France",
          "Spain",
          "Portugal",
          "Portugal",
          "Portugal",
          "Slovakia",
          "United Kingdom",
          "Netherlands",
          "Netherlands",
          "Belgium",
          "France",
          "Finland",
          "Finland",
          "Finland",
          "Finland",
          "United Kingdom",
          "Spain",
          "Poland",
          "China",
          "Mongolia",
          "Ireland",
          "United Kingdom",
          "Spain",
          "Ireland",
          "Ireland",
          "France",
          "France",
          "France",
          "Sweden",
          "France",
          "France",
          "France",
          "France",
          "France",
          "Portugal",
          "France",
          "France",
          "France",
          "Sweden",
          "France",
          "France",
          "France",
          "France",
          "France",
          "France",
          "France",
          "France",
          "Spain",
          "Italy",
          "Portugal",
          "United Kingdom",
          "France",
          "France",
          "Netherlands",
          "Poland",
          "Sweden",
          "Sweden",
          "Estonia",
          "United Kingdom",
          "Italy",
          "Portugal",
          "Germany",
          "Portugal",
          "Sweden",
          "Poland",
          "Spain",
          "Spain",
          "United Kingdom",
          "Italy",
          "Sweden",
          "Poland",
          "Poland",
          "Poland",
          "United Kingdom",
          "Germany",
          "Poland",
          "Poland",
          "Poland",
          "Spain",
          "Poland",
          "Latvia",
          "Croatia",
          "France",
          "Spain",
          "Spain",
          "United Kingdom",
          "Estonia",
          "Sweden",
          "Sweden",
          "Spain",
          "Poland",
          "Poland",
          "Poland",
          "Poland",
          "France",
          "France",
          "Spain",
          "Sweden",
          "Poland",
          "United Kingdom",
          "United Kingdom",
          "Spain",
          "Spain",
          "United Kingdom",
          "Poland",
          "Poland",
          "France",
          "United Kingdom",
          "Spain",
          "Ireland",
          "United Kingdom",
          "United Kingdom",
          "Estonia",
          "Spain",
          "Spain",
          "Italy",
          "Poland",
          "Spain",
          "Poland",
          "Netherlands",
          "United Kingdom",
          "Poland",
          "Poland",
          "France",
          "Spain",
          "France",
          "France",
          "United Kingdom",
          "Spain",
          "Poland",
          "Spain",
          "Spain",
          "Spain",
          "Poland",
          "Poland",
          "France",
          "Spain",
          "Poland",
          "Portugal",
          "Poland",
          "Poland",
          "Russian Federation",
          "Poland",
          "Poland",
          "Poland",
          "Poland",
          "Poland",
          "Spain",
          "Spain",
          "France",
          "Spain",
          "France",
          "France",
          "Zambia",
          "Russian Federation",
          "Russian Federation",
          "Russian Federation",
          "Russian Federation",
          "China",
          "Germany",
          "Portugal",
          "Portugal",
          "Portugal",
          "Portugal",
          "Portugal",
          "Portugal",
          "Croatia",
          "Norway",
          "Poland",
          "Spain",
          "Poland",
          "Poland",
          "Poland",
          "Poland",
          "Poland",
          "Azerbaijan",
          "Poland",
          "France",
          "Uzbekistan",
          "Germany",
          "Germany",
          "Spain",
          "Germany",
          "Germany",
          "Germany",
          "Germany",
          "Sweden",
          "United Kingdom",
          "United Kingdom",
          "United Kingdom",
          "France",
          "Slovakia",
          "Russian Federation",
          "Spain",
          "Italy",
          "France",
          "Ireland",
          "Greece",
          "United Kingdom",
          "Germany",
          "Germany",
          "Germany",
          "United Kingdom",
          "Spain",
          "Spain",
          "Spain",
          "Germany",
          "France",
          "France",
          "France",
          "France",
          "France",
          "France",
          "France",
          "France",
          "France",
          "France",
          "France",
          "France",
          "Switzerland",
          "Germany",
          "Switzerland",
          "France",
          "Italy",
          "Namibia",
          "Namibia",
          "Namibia",
          "Switzerland",
          "Sweden",
          "Netherlands",
          "United Kingdom",
          "United Kingdom",
          "United Kingdom",
          "United Kingdom",
          "United Kingdom",
          "United Kingdom",
          "United Kingdom",
          "Germany",
          "Germany",
          "Estonia",
          "United Kingdom",
          "France",
          "France",
          "France",
          "France",
          "Russian Federation",
          "Russian Federation",
          "Russian Federation",
          "Netherlands",
          "Russian Federation",
          "Russian Federation",
          "Russian Federation",
          "Russian Federation",
          "United Kingdom",
          "Spain",
          "Italy",
          "Germany",
          "Israel",
          "Russian Federation",
          "Russian Federation",
          "Russian Federation",
          "Russian Federation",
          "Russian Federation",
          "Russian Federation",
          "Russian Federation",
          "Russian Federation",
          "Germany",
          "Russian Federation",
          "Russian Federation",
          "Uzbekistan"
         ],
         "xaxis": "x",
         "yaxis": "y"
        }
       ],
       "layout": {
        "barmode": "relative",
        "legend": {
         "tracegroupgap": 0
        },
        "template": {
         "data": {
          "bar": [
           {
            "error_x": {
             "color": "#f2f5fa"
            },
            "error_y": {
             "color": "#f2f5fa"
            },
            "marker": {
             "line": {
              "color": "rgb(17,17,17)",
              "width": 0.5
             },
             "pattern": {
              "fillmode": "overlay",
              "size": 10,
              "solidity": 0.2
             }
            },
            "type": "bar"
           }
          ],
          "barpolar": [
           {
            "marker": {
             "line": {
              "color": "rgb(17,17,17)",
              "width": 0.5
             },
             "pattern": {
              "fillmode": "overlay",
              "size": 10,
              "solidity": 0.2
             }
            },
            "type": "barpolar"
           }
          ],
          "carpet": [
           {
            "aaxis": {
             "endlinecolor": "#A2B1C6",
             "gridcolor": "#506784",
             "linecolor": "#506784",
             "minorgridcolor": "#506784",
             "startlinecolor": "#A2B1C6"
            },
            "baxis": {
             "endlinecolor": "#A2B1C6",
             "gridcolor": "#506784",
             "linecolor": "#506784",
             "minorgridcolor": "#506784",
             "startlinecolor": "#A2B1C6"
            },
            "type": "carpet"
           }
          ],
          "choropleth": [
           {
            "colorbar": {
             "outlinewidth": 0,
             "ticks": ""
            },
            "type": "choropleth"
           }
          ],
          "contour": [
           {
            "colorbar": {
             "outlinewidth": 0,
             "ticks": ""
            },
            "colorscale": [
             [
              0,
              "#0d0887"
             ],
             [
              0.1111111111111111,
              "#46039f"
             ],
             [
              0.2222222222222222,
              "#7201a8"
             ],
             [
              0.3333333333333333,
              "#9c179e"
             ],
             [
              0.4444444444444444,
              "#bd3786"
             ],
             [
              0.5555555555555556,
              "#d8576b"
             ],
             [
              0.6666666666666666,
              "#ed7953"
             ],
             [
              0.7777777777777778,
              "#fb9f3a"
             ],
             [
              0.8888888888888888,
              "#fdca26"
             ],
             [
              1,
              "#f0f921"
             ]
            ],
            "type": "contour"
           }
          ],
          "contourcarpet": [
           {
            "colorbar": {
             "outlinewidth": 0,
             "ticks": ""
            },
            "type": "contourcarpet"
           }
          ],
          "heatmap": [
           {
            "colorbar": {
             "outlinewidth": 0,
             "ticks": ""
            },
            "colorscale": [
             [
              0,
              "#0d0887"
             ],
             [
              0.1111111111111111,
              "#46039f"
             ],
             [
              0.2222222222222222,
              "#7201a8"
             ],
             [
              0.3333333333333333,
              "#9c179e"
             ],
             [
              0.4444444444444444,
              "#bd3786"
             ],
             [
              0.5555555555555556,
              "#d8576b"
             ],
             [
              0.6666666666666666,
              "#ed7953"
             ],
             [
              0.7777777777777778,
              "#fb9f3a"
             ],
             [
              0.8888888888888888,
              "#fdca26"
             ],
             [
              1,
              "#f0f921"
             ]
            ],
            "type": "heatmap"
           }
          ],
          "heatmapgl": [
           {
            "colorbar": {
             "outlinewidth": 0,
             "ticks": ""
            },
            "colorscale": [
             [
              0,
              "#0d0887"
             ],
             [
              0.1111111111111111,
              "#46039f"
             ],
             [
              0.2222222222222222,
              "#7201a8"
             ],
             [
              0.3333333333333333,
              "#9c179e"
             ],
             [
              0.4444444444444444,
              "#bd3786"
             ],
             [
              0.5555555555555556,
              "#d8576b"
             ],
             [
              0.6666666666666666,
              "#ed7953"
             ],
             [
              0.7777777777777778,
              "#fb9f3a"
             ],
             [
              0.8888888888888888,
              "#fdca26"
             ],
             [
              1,
              "#f0f921"
             ]
            ],
            "type": "heatmapgl"
           }
          ],
          "histogram": [
           {
            "marker": {
             "pattern": {
              "fillmode": "overlay",
              "size": 10,
              "solidity": 0.2
             }
            },
            "type": "histogram"
           }
          ],
          "histogram2d": [
           {
            "colorbar": {
             "outlinewidth": 0,
             "ticks": ""
            },
            "colorscale": [
             [
              0,
              "#0d0887"
             ],
             [
              0.1111111111111111,
              "#46039f"
             ],
             [
              0.2222222222222222,
              "#7201a8"
             ],
             [
              0.3333333333333333,
              "#9c179e"
             ],
             [
              0.4444444444444444,
              "#bd3786"
             ],
             [
              0.5555555555555556,
              "#d8576b"
             ],
             [
              0.6666666666666666,
              "#ed7953"
             ],
             [
              0.7777777777777778,
              "#fb9f3a"
             ],
             [
              0.8888888888888888,
              "#fdca26"
             ],
             [
              1,
              "#f0f921"
             ]
            ],
            "type": "histogram2d"
           }
          ],
          "histogram2dcontour": [
           {
            "colorbar": {
             "outlinewidth": 0,
             "ticks": ""
            },
            "colorscale": [
             [
              0,
              "#0d0887"
             ],
             [
              0.1111111111111111,
              "#46039f"
             ],
             [
              0.2222222222222222,
              "#7201a8"
             ],
             [
              0.3333333333333333,
              "#9c179e"
             ],
             [
              0.4444444444444444,
              "#bd3786"
             ],
             [
              0.5555555555555556,
              "#d8576b"
             ],
             [
              0.6666666666666666,
              "#ed7953"
             ],
             [
              0.7777777777777778,
              "#fb9f3a"
             ],
             [
              0.8888888888888888,
              "#fdca26"
             ],
             [
              1,
              "#f0f921"
             ]
            ],
            "type": "histogram2dcontour"
           }
          ],
          "mesh3d": [
           {
            "colorbar": {
             "outlinewidth": 0,
             "ticks": ""
            },
            "type": "mesh3d"
           }
          ],
          "parcoords": [
           {
            "line": {
             "colorbar": {
              "outlinewidth": 0,
              "ticks": ""
             }
            },
            "type": "parcoords"
           }
          ],
          "pie": [
           {
            "automargin": true,
            "type": "pie"
           }
          ],
          "scatter": [
           {
            "marker": {
             "line": {
              "color": "#283442"
             }
            },
            "type": "scatter"
           }
          ],
          "scatter3d": [
           {
            "line": {
             "colorbar": {
              "outlinewidth": 0,
              "ticks": ""
             }
            },
            "marker": {
             "colorbar": {
              "outlinewidth": 0,
              "ticks": ""
             }
            },
            "type": "scatter3d"
           }
          ],
          "scattercarpet": [
           {
            "marker": {
             "colorbar": {
              "outlinewidth": 0,
              "ticks": ""
             }
            },
            "type": "scattercarpet"
           }
          ],
          "scattergeo": [
           {
            "marker": {
             "colorbar": {
              "outlinewidth": 0,
              "ticks": ""
             }
            },
            "type": "scattergeo"
           }
          ],
          "scattergl": [
           {
            "marker": {
             "line": {
              "color": "#283442"
             }
            },
            "type": "scattergl"
           }
          ],
          "scattermapbox": [
           {
            "marker": {
             "colorbar": {
              "outlinewidth": 0,
              "ticks": ""
             }
            },
            "type": "scattermapbox"
           }
          ],
          "scatterpolar": [
           {
            "marker": {
             "colorbar": {
              "outlinewidth": 0,
              "ticks": ""
             }
            },
            "type": "scatterpolar"
           }
          ],
          "scatterpolargl": [
           {
            "marker": {
             "colorbar": {
              "outlinewidth": 0,
              "ticks": ""
             }
            },
            "type": "scatterpolargl"
           }
          ],
          "scatterternary": [
           {
            "marker": {
             "colorbar": {
              "outlinewidth": 0,
              "ticks": ""
             }
            },
            "type": "scatterternary"
           }
          ],
          "surface": [
           {
            "colorbar": {
             "outlinewidth": 0,
             "ticks": ""
            },
            "colorscale": [
             [
              0,
              "#0d0887"
             ],
             [
              0.1111111111111111,
              "#46039f"
             ],
             [
              0.2222222222222222,
              "#7201a8"
             ],
             [
              0.3333333333333333,
              "#9c179e"
             ],
             [
              0.4444444444444444,
              "#bd3786"
             ],
             [
              0.5555555555555556,
              "#d8576b"
             ],
             [
              0.6666666666666666,
              "#ed7953"
             ],
             [
              0.7777777777777778,
              "#fb9f3a"
             ],
             [
              0.8888888888888888,
              "#fdca26"
             ],
             [
              1,
              "#f0f921"
             ]
            ],
            "type": "surface"
           }
          ],
          "table": [
           {
            "cells": {
             "fill": {
              "color": "#506784"
             },
             "line": {
              "color": "rgb(17,17,17)"
             }
            },
            "header": {
             "fill": {
              "color": "#2a3f5f"
             },
             "line": {
              "color": "rgb(17,17,17)"
             }
            },
            "type": "table"
           }
          ]
         },
         "layout": {
          "annotationdefaults": {
           "arrowcolor": "#f2f5fa",
           "arrowhead": 0,
           "arrowwidth": 1
          },
          "autotypenumbers": "strict",
          "coloraxis": {
           "colorbar": {
            "outlinewidth": 0,
            "ticks": ""
           }
          },
          "colorscale": {
           "diverging": [
            [
             0,
             "#8e0152"
            ],
            [
             0.1,
             "#c51b7d"
            ],
            [
             0.2,
             "#de77ae"
            ],
            [
             0.3,
             "#f1b6da"
            ],
            [
             0.4,
             "#fde0ef"
            ],
            [
             0.5,
             "#f7f7f7"
            ],
            [
             0.6,
             "#e6f5d0"
            ],
            [
             0.7,
             "#b8e186"
            ],
            [
             0.8,
             "#7fbc41"
            ],
            [
             0.9,
             "#4d9221"
            ],
            [
             1,
             "#276419"
            ]
           ],
           "sequential": [
            [
             0,
             "#0d0887"
            ],
            [
             0.1111111111111111,
             "#46039f"
            ],
            [
             0.2222222222222222,
             "#7201a8"
            ],
            [
             0.3333333333333333,
             "#9c179e"
            ],
            [
             0.4444444444444444,
             "#bd3786"
            ],
            [
             0.5555555555555556,
             "#d8576b"
            ],
            [
             0.6666666666666666,
             "#ed7953"
            ],
            [
             0.7777777777777778,
             "#fb9f3a"
            ],
            [
             0.8888888888888888,
             "#fdca26"
            ],
            [
             1,
             "#f0f921"
            ]
           ],
           "sequentialminus": [
            [
             0,
             "#0d0887"
            ],
            [
             0.1111111111111111,
             "#46039f"
            ],
            [
             0.2222222222222222,
             "#7201a8"
            ],
            [
             0.3333333333333333,
             "#9c179e"
            ],
            [
             0.4444444444444444,
             "#bd3786"
            ],
            [
             0.5555555555555556,
             "#d8576b"
            ],
            [
             0.6666666666666666,
             "#ed7953"
            ],
            [
             0.7777777777777778,
             "#fb9f3a"
            ],
            [
             0.8888888888888888,
             "#fdca26"
            ],
            [
             1,
             "#f0f921"
            ]
           ]
          },
          "colorway": [
           "#636efa",
           "#EF553B",
           "#00cc96",
           "#ab63fa",
           "#FFA15A",
           "#19d3f3",
           "#FF6692",
           "#B6E880",
           "#FF97FF",
           "#FECB52"
          ],
          "font": {
           "color": "#f2f5fa"
          },
          "geo": {
           "bgcolor": "rgb(17,17,17)",
           "lakecolor": "rgb(17,17,17)",
           "landcolor": "rgb(17,17,17)",
           "showlakes": true,
           "showland": true,
           "subunitcolor": "#506784"
          },
          "hoverlabel": {
           "align": "left"
          },
          "hovermode": "closest",
          "mapbox": {
           "style": "dark"
          },
          "paper_bgcolor": "rgb(17,17,17)",
          "plot_bgcolor": "rgb(17,17,17)",
          "polar": {
           "angularaxis": {
            "gridcolor": "#506784",
            "linecolor": "#506784",
            "ticks": ""
           },
           "bgcolor": "rgb(17,17,17)",
           "radialaxis": {
            "gridcolor": "#506784",
            "linecolor": "#506784",
            "ticks": ""
           }
          },
          "scene": {
           "xaxis": {
            "backgroundcolor": "rgb(17,17,17)",
            "gridcolor": "#506784",
            "gridwidth": 2,
            "linecolor": "#506784",
            "showbackground": true,
            "ticks": "",
            "zerolinecolor": "#C8D4E3"
           },
           "yaxis": {
            "backgroundcolor": "rgb(17,17,17)",
            "gridcolor": "#506784",
            "gridwidth": 2,
            "linecolor": "#506784",
            "showbackground": true,
            "ticks": "",
            "zerolinecolor": "#C8D4E3"
           },
           "zaxis": {
            "backgroundcolor": "rgb(17,17,17)",
            "gridcolor": "#506784",
            "gridwidth": 2,
            "linecolor": "#506784",
            "showbackground": true,
            "ticks": "",
            "zerolinecolor": "#C8D4E3"
           }
          },
          "shapedefaults": {
           "line": {
            "color": "#f2f5fa"
           }
          },
          "sliderdefaults": {
           "bgcolor": "#C8D4E3",
           "bordercolor": "rgb(17,17,17)",
           "borderwidth": 1,
           "tickwidth": 0
          },
          "ternary": {
           "aaxis": {
            "gridcolor": "#506784",
            "linecolor": "#506784",
            "ticks": ""
           },
           "baxis": {
            "gridcolor": "#506784",
            "linecolor": "#506784",
            "ticks": ""
           },
           "bgcolor": "rgb(17,17,17)",
           "caxis": {
            "gridcolor": "#506784",
            "linecolor": "#506784",
            "ticks": ""
           }
          },
          "title": {
           "x": 0.05
          },
          "updatemenudefaults": {
           "bgcolor": "#506784",
           "borderwidth": 0
          },
          "xaxis": {
           "automargin": true,
           "gridcolor": "#283442",
           "linecolor": "#506784",
           "ticks": "",
           "title": {
            "standoff": 15
           },
           "zerolinecolor": "#283442",
           "zerolinewidth": 2
          },
          "yaxis": {
           "automargin": true,
           "gridcolor": "#283442",
           "linecolor": "#506784",
           "ticks": "",
           "title": {
            "standoff": 15
           },
           "zerolinecolor": "#283442",
           "zerolinewidth": 2
          }
         }
        },
        "title": {
         "text": "Recordings by Country"
        },
        "xaxis": {
         "anchor": "y",
         "domain": [
          0,
          1
         ],
         "title": {
          "text": "cnt"
         }
        },
        "yaxis": {
         "anchor": "x",
         "domain": [
          0,
          1
         ],
         "title": {
          "text": "count"
         }
        }
       }
      }
     },
     "metadata": {},
     "output_type": "display_data"
    }
   ],
   "source": [
    "# check statistics\n",
    "import plotly.express as px\n",
    "\n",
    "px.histogram(df[uselful_cols], x='cnt', template='plotly_dark', title='Recordings by Country')"
   ]
  },
  {
   "cell_type": "code",
   "execution_count": 19,
   "metadata": {},
   "outputs": [
    {
     "data": {
      "application/vnd.plotly.v1+json": {
       "config": {
        "plotlyServerURL": "https://plot.ly"
       },
       "data": [
        {
         "alignmentgroup": "True",
         "bingroup": "x",
         "histnorm": "percent",
         "hovertemplate": "q=%{x}<br>percent=%{y}<extra></extra>",
         "legendgroup": "",
         "marker": {
          "color": "#636efa",
          "pattern": {
           "shape": ""
          }
         },
         "name": "",
         "offsetgroup": "",
         "orientation": "v",
         "showlegend": false,
         "type": "histogram",
         "x": [
          "B",
          "B",
          "B",
          "B",
          "B",
          "B",
          "B",
          "B",
          "B",
          "B",
          "B",
          "B",
          "B",
          "B",
          "B",
          "B",
          "B",
          "B",
          "B",
          "C",
          "C",
          "C",
          "C",
          "C",
          "C",
          "C",
          "C",
          "C",
          "C",
          "C",
          "C",
          "C",
          "C",
          "C",
          "C",
          "C",
          "C",
          "C",
          "C",
          "C",
          "C",
          "C",
          "C",
          "C",
          "C",
          "C",
          "C",
          "C",
          "C",
          "C",
          "C",
          "C",
          "C",
          "C",
          "C",
          "C",
          "C",
          "C",
          "C",
          "C",
          "C",
          "C",
          "C",
          "C",
          "C",
          "C",
          "C",
          "C",
          "C",
          "C",
          "C",
          "C",
          "C",
          "C",
          "C",
          "C",
          "C",
          "C",
          "C",
          "C",
          "C",
          "C",
          "C",
          "C",
          "C",
          "C",
          "C",
          "C",
          "C",
          "C",
          "C",
          "C",
          "C",
          "C",
          "C",
          "C",
          "C",
          "C",
          "C",
          "C",
          "C",
          "C",
          "C",
          "C",
          "C",
          "C",
          "C",
          "C",
          "C",
          "C",
          "C",
          "C",
          "C",
          "C",
          "C",
          "C",
          "C",
          "C",
          "C",
          "C",
          "C",
          "C",
          "C",
          "C",
          "C",
          "C",
          "C",
          "C",
          "C",
          "C",
          "C",
          "C",
          "C",
          "C",
          "C",
          "C",
          "C",
          "C",
          "C",
          "C",
          "C",
          "C",
          "C",
          "C",
          "C",
          "C",
          "C",
          "C",
          "C",
          "C",
          "C",
          "C",
          "C",
          "C",
          "C",
          "C",
          "C",
          "C",
          "C",
          "C",
          "C",
          "C",
          "C",
          "C",
          "C",
          "C",
          "C",
          "C",
          "C",
          "C",
          "C",
          "C",
          "C",
          "C",
          "C",
          "C",
          "C",
          "C",
          "C",
          "C",
          "C",
          "C",
          "C",
          "C",
          "D",
          "D",
          "D",
          "D",
          "D",
          "D",
          "D",
          "D",
          "D",
          "D",
          "D",
          "D",
          "D",
          "D",
          "D",
          "D",
          "D",
          "D",
          "D",
          "D",
          "D",
          "D",
          "D",
          "D",
          "D",
          "D",
          "D",
          "D",
          "D",
          "D",
          "D",
          "D",
          "D",
          "E",
          "E",
          "E",
          "E",
          "E",
          "E",
          "E",
          "E",
          "E",
          "E",
          "E",
          "E",
          "E",
          "A",
          "A",
          "A",
          "A",
          "A",
          "A",
          "A",
          "A",
          "A",
          "A",
          "A",
          "A",
          "A",
          "A",
          "A",
          "A",
          "A",
          "A",
          "A",
          "A",
          "A",
          "A",
          "A",
          "A",
          "A",
          "A",
          "A",
          "A",
          "A",
          "A",
          "A",
          "A",
          "A",
          "A",
          "A",
          "A",
          "A",
          "A",
          "A",
          "A",
          "A",
          "A",
          "A",
          "A",
          "A",
          "A",
          "A",
          "A",
          "A",
          "A",
          "A",
          "A",
          "A",
          "A",
          "A",
          "A",
          "A",
          "A",
          "A",
          "A",
          "A",
          "A",
          "A",
          "A",
          "A",
          "A",
          "A",
          "A",
          "A",
          "A",
          "A",
          "A",
          "A",
          "A",
          "A",
          "A",
          "A",
          "A",
          "A",
          "A",
          "A",
          "A",
          "A",
          "A",
          "A",
          "A",
          "A",
          "A",
          "A",
          "A",
          "A",
          "A",
          "A",
          "A",
          "A",
          "A",
          "A",
          "A",
          "A",
          "A",
          "A",
          "A",
          "A",
          "A",
          "A",
          "A",
          "A",
          "A",
          "A",
          "A",
          "A",
          "A",
          "A",
          "A",
          "A",
          "A",
          "A",
          "A",
          "A",
          "A",
          "A",
          "A",
          "A",
          "A",
          "A",
          "A",
          "A",
          "A",
          "A",
          "A",
          "A",
          "A",
          "A",
          "A",
          "A",
          "A",
          "A",
          "A",
          "A",
          "A",
          "A",
          "A",
          "A",
          "A",
          "A",
          "A",
          "A",
          "A",
          "A",
          "A",
          "A",
          "A",
          "A",
          "A",
          "A",
          "A",
          "A",
          "A",
          "A",
          "A",
          "A",
          "A",
          "A",
          "A",
          "A",
          "A",
          "A",
          "A",
          "A",
          "A",
          "A",
          "A",
          "A",
          "A",
          "A",
          "A",
          "A",
          "A",
          "A",
          "A",
          "A",
          "A",
          "A",
          "A",
          "A",
          "A",
          "A",
          "A",
          "A",
          "A",
          "A",
          "A",
          "A",
          "A",
          "A",
          "A",
          "A",
          "A",
          "B",
          "B",
          "B",
          "B",
          "B",
          "B",
          "B",
          "B",
          "B",
          "B",
          "B",
          "B",
          "B",
          "B",
          "B",
          "B",
          "B",
          "B",
          "B",
          "B",
          "B",
          "B",
          "B",
          "B",
          "B",
          "B",
          "B",
          "B",
          "B",
          "B",
          "B",
          "B",
          "B",
          "B",
          "B",
          "B",
          "B",
          "B",
          "B",
          "B",
          "B",
          "B",
          "B",
          "B",
          "B",
          "B",
          "B",
          "B",
          "B",
          "B",
          "B",
          "B",
          "B",
          "B",
          "B",
          "B",
          "B",
          "B",
          "B",
          "B",
          "B",
          "B",
          "B",
          "B",
          "B",
          "B",
          "B",
          "B",
          "B",
          "B",
          "B",
          "B",
          "B",
          "B",
          "B",
          "B",
          "B",
          "B",
          "B",
          "B",
          "B",
          "B",
          "B",
          "B",
          "B",
          "B",
          "B",
          "B",
          "B",
          "B",
          "B",
          "B",
          "B",
          "B",
          "B",
          "B",
          "B",
          "B",
          "B",
          "B",
          "B",
          "B",
          "B",
          "B",
          "B",
          "B",
          "B",
          "B",
          "B",
          "B",
          "B",
          "B",
          "B",
          "B",
          "B",
          "B",
          "B",
          "B",
          "B",
          "B",
          "B",
          "B",
          "B",
          "B",
          "B",
          "B",
          "B",
          "B",
          "B",
          "B",
          "B",
          "B",
          "B",
          "B",
          "B",
          "B",
          "B",
          "B",
          "B",
          "B",
          "B",
          "B",
          "B",
          "B",
          "B",
          "B",
          "B",
          "B",
          "B",
          "B",
          "B",
          "B",
          "B",
          "B",
          "B",
          "B",
          "B",
          "B",
          "B",
          "B",
          "B",
          "B",
          "B",
          "B",
          "B",
          "B",
          "B",
          "B",
          "B",
          "B",
          "B",
          "B",
          "B",
          "B",
          "B",
          "B",
          "B",
          "B",
          "B",
          "B",
          "B",
          "B",
          "B",
          "B",
          "B",
          "B",
          "B",
          "B",
          "B",
          "B",
          "B",
          "B",
          "B",
          "B",
          "B",
          "B",
          "B",
          "B",
          "B",
          "B",
          "B",
          "B",
          "B",
          "B",
          "B",
          "B",
          "B",
          "B",
          "B",
          "B",
          "B",
          "B",
          "B",
          "B",
          "B",
          "B",
          "B",
          "B",
          "B",
          "B",
          "B",
          "B",
          "B",
          "B",
          "B",
          "B",
          "B",
          "B",
          "B",
          "B",
          "B",
          "B",
          "B",
          "B",
          "B",
          "B",
          "B",
          "B",
          "B",
          "B",
          "B",
          "B",
          "B",
          "B",
          "B",
          "B",
          "B",
          "B",
          "B",
          "B",
          "B",
          "B",
          "B",
          "B",
          "B",
          "B",
          "B",
          "B",
          "B",
          "B",
          "B",
          "B",
          "B",
          "B",
          "B",
          "B",
          "B",
          "B",
          "B",
          "B",
          "B",
          "B",
          "B",
          "B",
          "B",
          "B",
          "B",
          "B",
          "B",
          "B",
          "B",
          "B",
          "B",
          "B",
          "B",
          "B",
          "B",
          "B",
          "B",
          "B",
          "B",
          "B",
          "B",
          "B",
          "B",
          "B",
          "B",
          "B",
          "B",
          "B",
          "B",
          "B"
         ],
         "xaxis": "x",
         "yaxis": "y"
        }
       ],
       "layout": {
        "barmode": "relative",
        "legend": {
         "tracegroupgap": 0
        },
        "template": {
         "data": {
          "bar": [
           {
            "error_x": {
             "color": "#f2f5fa"
            },
            "error_y": {
             "color": "#f2f5fa"
            },
            "marker": {
             "line": {
              "color": "rgb(17,17,17)",
              "width": 0.5
             },
             "pattern": {
              "fillmode": "overlay",
              "size": 10,
              "solidity": 0.2
             }
            },
            "type": "bar"
           }
          ],
          "barpolar": [
           {
            "marker": {
             "line": {
              "color": "rgb(17,17,17)",
              "width": 0.5
             },
             "pattern": {
              "fillmode": "overlay",
              "size": 10,
              "solidity": 0.2
             }
            },
            "type": "barpolar"
           }
          ],
          "carpet": [
           {
            "aaxis": {
             "endlinecolor": "#A2B1C6",
             "gridcolor": "#506784",
             "linecolor": "#506784",
             "minorgridcolor": "#506784",
             "startlinecolor": "#A2B1C6"
            },
            "baxis": {
             "endlinecolor": "#A2B1C6",
             "gridcolor": "#506784",
             "linecolor": "#506784",
             "minorgridcolor": "#506784",
             "startlinecolor": "#A2B1C6"
            },
            "type": "carpet"
           }
          ],
          "choropleth": [
           {
            "colorbar": {
             "outlinewidth": 0,
             "ticks": ""
            },
            "type": "choropleth"
           }
          ],
          "contour": [
           {
            "colorbar": {
             "outlinewidth": 0,
             "ticks": ""
            },
            "colorscale": [
             [
              0,
              "#0d0887"
             ],
             [
              0.1111111111111111,
              "#46039f"
             ],
             [
              0.2222222222222222,
              "#7201a8"
             ],
             [
              0.3333333333333333,
              "#9c179e"
             ],
             [
              0.4444444444444444,
              "#bd3786"
             ],
             [
              0.5555555555555556,
              "#d8576b"
             ],
             [
              0.6666666666666666,
              "#ed7953"
             ],
             [
              0.7777777777777778,
              "#fb9f3a"
             ],
             [
              0.8888888888888888,
              "#fdca26"
             ],
             [
              1,
              "#f0f921"
             ]
            ],
            "type": "contour"
           }
          ],
          "contourcarpet": [
           {
            "colorbar": {
             "outlinewidth": 0,
             "ticks": ""
            },
            "type": "contourcarpet"
           }
          ],
          "heatmap": [
           {
            "colorbar": {
             "outlinewidth": 0,
             "ticks": ""
            },
            "colorscale": [
             [
              0,
              "#0d0887"
             ],
             [
              0.1111111111111111,
              "#46039f"
             ],
             [
              0.2222222222222222,
              "#7201a8"
             ],
             [
              0.3333333333333333,
              "#9c179e"
             ],
             [
              0.4444444444444444,
              "#bd3786"
             ],
             [
              0.5555555555555556,
              "#d8576b"
             ],
             [
              0.6666666666666666,
              "#ed7953"
             ],
             [
              0.7777777777777778,
              "#fb9f3a"
             ],
             [
              0.8888888888888888,
              "#fdca26"
             ],
             [
              1,
              "#f0f921"
             ]
            ],
            "type": "heatmap"
           }
          ],
          "heatmapgl": [
           {
            "colorbar": {
             "outlinewidth": 0,
             "ticks": ""
            },
            "colorscale": [
             [
              0,
              "#0d0887"
             ],
             [
              0.1111111111111111,
              "#46039f"
             ],
             [
              0.2222222222222222,
              "#7201a8"
             ],
             [
              0.3333333333333333,
              "#9c179e"
             ],
             [
              0.4444444444444444,
              "#bd3786"
             ],
             [
              0.5555555555555556,
              "#d8576b"
             ],
             [
              0.6666666666666666,
              "#ed7953"
             ],
             [
              0.7777777777777778,
              "#fb9f3a"
             ],
             [
              0.8888888888888888,
              "#fdca26"
             ],
             [
              1,
              "#f0f921"
             ]
            ],
            "type": "heatmapgl"
           }
          ],
          "histogram": [
           {
            "marker": {
             "pattern": {
              "fillmode": "overlay",
              "size": 10,
              "solidity": 0.2
             }
            },
            "type": "histogram"
           }
          ],
          "histogram2d": [
           {
            "colorbar": {
             "outlinewidth": 0,
             "ticks": ""
            },
            "colorscale": [
             [
              0,
              "#0d0887"
             ],
             [
              0.1111111111111111,
              "#46039f"
             ],
             [
              0.2222222222222222,
              "#7201a8"
             ],
             [
              0.3333333333333333,
              "#9c179e"
             ],
             [
              0.4444444444444444,
              "#bd3786"
             ],
             [
              0.5555555555555556,
              "#d8576b"
             ],
             [
              0.6666666666666666,
              "#ed7953"
             ],
             [
              0.7777777777777778,
              "#fb9f3a"
             ],
             [
              0.8888888888888888,
              "#fdca26"
             ],
             [
              1,
              "#f0f921"
             ]
            ],
            "type": "histogram2d"
           }
          ],
          "histogram2dcontour": [
           {
            "colorbar": {
             "outlinewidth": 0,
             "ticks": ""
            },
            "colorscale": [
             [
              0,
              "#0d0887"
             ],
             [
              0.1111111111111111,
              "#46039f"
             ],
             [
              0.2222222222222222,
              "#7201a8"
             ],
             [
              0.3333333333333333,
              "#9c179e"
             ],
             [
              0.4444444444444444,
              "#bd3786"
             ],
             [
              0.5555555555555556,
              "#d8576b"
             ],
             [
              0.6666666666666666,
              "#ed7953"
             ],
             [
              0.7777777777777778,
              "#fb9f3a"
             ],
             [
              0.8888888888888888,
              "#fdca26"
             ],
             [
              1,
              "#f0f921"
             ]
            ],
            "type": "histogram2dcontour"
           }
          ],
          "mesh3d": [
           {
            "colorbar": {
             "outlinewidth": 0,
             "ticks": ""
            },
            "type": "mesh3d"
           }
          ],
          "parcoords": [
           {
            "line": {
             "colorbar": {
              "outlinewidth": 0,
              "ticks": ""
             }
            },
            "type": "parcoords"
           }
          ],
          "pie": [
           {
            "automargin": true,
            "type": "pie"
           }
          ],
          "scatter": [
           {
            "marker": {
             "line": {
              "color": "#283442"
             }
            },
            "type": "scatter"
           }
          ],
          "scatter3d": [
           {
            "line": {
             "colorbar": {
              "outlinewidth": 0,
              "ticks": ""
             }
            },
            "marker": {
             "colorbar": {
              "outlinewidth": 0,
              "ticks": ""
             }
            },
            "type": "scatter3d"
           }
          ],
          "scattercarpet": [
           {
            "marker": {
             "colorbar": {
              "outlinewidth": 0,
              "ticks": ""
             }
            },
            "type": "scattercarpet"
           }
          ],
          "scattergeo": [
           {
            "marker": {
             "colorbar": {
              "outlinewidth": 0,
              "ticks": ""
             }
            },
            "type": "scattergeo"
           }
          ],
          "scattergl": [
           {
            "marker": {
             "line": {
              "color": "#283442"
             }
            },
            "type": "scattergl"
           }
          ],
          "scattermapbox": [
           {
            "marker": {
             "colorbar": {
              "outlinewidth": 0,
              "ticks": ""
             }
            },
            "type": "scattermapbox"
           }
          ],
          "scatterpolar": [
           {
            "marker": {
             "colorbar": {
              "outlinewidth": 0,
              "ticks": ""
             }
            },
            "type": "scatterpolar"
           }
          ],
          "scatterpolargl": [
           {
            "marker": {
             "colorbar": {
              "outlinewidth": 0,
              "ticks": ""
             }
            },
            "type": "scatterpolargl"
           }
          ],
          "scatterternary": [
           {
            "marker": {
             "colorbar": {
              "outlinewidth": 0,
              "ticks": ""
             }
            },
            "type": "scatterternary"
           }
          ],
          "surface": [
           {
            "colorbar": {
             "outlinewidth": 0,
             "ticks": ""
            },
            "colorscale": [
             [
              0,
              "#0d0887"
             ],
             [
              0.1111111111111111,
              "#46039f"
             ],
             [
              0.2222222222222222,
              "#7201a8"
             ],
             [
              0.3333333333333333,
              "#9c179e"
             ],
             [
              0.4444444444444444,
              "#bd3786"
             ],
             [
              0.5555555555555556,
              "#d8576b"
             ],
             [
              0.6666666666666666,
              "#ed7953"
             ],
             [
              0.7777777777777778,
              "#fb9f3a"
             ],
             [
              0.8888888888888888,
              "#fdca26"
             ],
             [
              1,
              "#f0f921"
             ]
            ],
            "type": "surface"
           }
          ],
          "table": [
           {
            "cells": {
             "fill": {
              "color": "#506784"
             },
             "line": {
              "color": "rgb(17,17,17)"
             }
            },
            "header": {
             "fill": {
              "color": "#2a3f5f"
             },
             "line": {
              "color": "rgb(17,17,17)"
             }
            },
            "type": "table"
           }
          ]
         },
         "layout": {
          "annotationdefaults": {
           "arrowcolor": "#f2f5fa",
           "arrowhead": 0,
           "arrowwidth": 1
          },
          "autotypenumbers": "strict",
          "coloraxis": {
           "colorbar": {
            "outlinewidth": 0,
            "ticks": ""
           }
          },
          "colorscale": {
           "diverging": [
            [
             0,
             "#8e0152"
            ],
            [
             0.1,
             "#c51b7d"
            ],
            [
             0.2,
             "#de77ae"
            ],
            [
             0.3,
             "#f1b6da"
            ],
            [
             0.4,
             "#fde0ef"
            ],
            [
             0.5,
             "#f7f7f7"
            ],
            [
             0.6,
             "#e6f5d0"
            ],
            [
             0.7,
             "#b8e186"
            ],
            [
             0.8,
             "#7fbc41"
            ],
            [
             0.9,
             "#4d9221"
            ],
            [
             1,
             "#276419"
            ]
           ],
           "sequential": [
            [
             0,
             "#0d0887"
            ],
            [
             0.1111111111111111,
             "#46039f"
            ],
            [
             0.2222222222222222,
             "#7201a8"
            ],
            [
             0.3333333333333333,
             "#9c179e"
            ],
            [
             0.4444444444444444,
             "#bd3786"
            ],
            [
             0.5555555555555556,
             "#d8576b"
            ],
            [
             0.6666666666666666,
             "#ed7953"
            ],
            [
             0.7777777777777778,
             "#fb9f3a"
            ],
            [
             0.8888888888888888,
             "#fdca26"
            ],
            [
             1,
             "#f0f921"
            ]
           ],
           "sequentialminus": [
            [
             0,
             "#0d0887"
            ],
            [
             0.1111111111111111,
             "#46039f"
            ],
            [
             0.2222222222222222,
             "#7201a8"
            ],
            [
             0.3333333333333333,
             "#9c179e"
            ],
            [
             0.4444444444444444,
             "#bd3786"
            ],
            [
             0.5555555555555556,
             "#d8576b"
            ],
            [
             0.6666666666666666,
             "#ed7953"
            ],
            [
             0.7777777777777778,
             "#fb9f3a"
            ],
            [
             0.8888888888888888,
             "#fdca26"
            ],
            [
             1,
             "#f0f921"
            ]
           ]
          },
          "colorway": [
           "#636efa",
           "#EF553B",
           "#00cc96",
           "#ab63fa",
           "#FFA15A",
           "#19d3f3",
           "#FF6692",
           "#B6E880",
           "#FF97FF",
           "#FECB52"
          ],
          "font": {
           "color": "#f2f5fa"
          },
          "geo": {
           "bgcolor": "rgb(17,17,17)",
           "lakecolor": "rgb(17,17,17)",
           "landcolor": "rgb(17,17,17)",
           "showlakes": true,
           "showland": true,
           "subunitcolor": "#506784"
          },
          "hoverlabel": {
           "align": "left"
          },
          "hovermode": "closest",
          "mapbox": {
           "style": "dark"
          },
          "paper_bgcolor": "rgb(17,17,17)",
          "plot_bgcolor": "rgb(17,17,17)",
          "polar": {
           "angularaxis": {
            "gridcolor": "#506784",
            "linecolor": "#506784",
            "ticks": ""
           },
           "bgcolor": "rgb(17,17,17)",
           "radialaxis": {
            "gridcolor": "#506784",
            "linecolor": "#506784",
            "ticks": ""
           }
          },
          "scene": {
           "xaxis": {
            "backgroundcolor": "rgb(17,17,17)",
            "gridcolor": "#506784",
            "gridwidth": 2,
            "linecolor": "#506784",
            "showbackground": true,
            "ticks": "",
            "zerolinecolor": "#C8D4E3"
           },
           "yaxis": {
            "backgroundcolor": "rgb(17,17,17)",
            "gridcolor": "#506784",
            "gridwidth": 2,
            "linecolor": "#506784",
            "showbackground": true,
            "ticks": "",
            "zerolinecolor": "#C8D4E3"
           },
           "zaxis": {
            "backgroundcolor": "rgb(17,17,17)",
            "gridcolor": "#506784",
            "gridwidth": 2,
            "linecolor": "#506784",
            "showbackground": true,
            "ticks": "",
            "zerolinecolor": "#C8D4E3"
           }
          },
          "shapedefaults": {
           "line": {
            "color": "#f2f5fa"
           }
          },
          "sliderdefaults": {
           "bgcolor": "#C8D4E3",
           "bordercolor": "rgb(17,17,17)",
           "borderwidth": 1,
           "tickwidth": 0
          },
          "ternary": {
           "aaxis": {
            "gridcolor": "#506784",
            "linecolor": "#506784",
            "ticks": ""
           },
           "baxis": {
            "gridcolor": "#506784",
            "linecolor": "#506784",
            "ticks": ""
           },
           "bgcolor": "rgb(17,17,17)",
           "caxis": {
            "gridcolor": "#506784",
            "linecolor": "#506784",
            "ticks": ""
           }
          },
          "title": {
           "x": 0.05
          },
          "updatemenudefaults": {
           "bgcolor": "#506784",
           "borderwidth": 0
          },
          "xaxis": {
           "automargin": true,
           "gridcolor": "#283442",
           "linecolor": "#506784",
           "ticks": "",
           "title": {
            "standoff": 15
           },
           "zerolinecolor": "#283442",
           "zerolinewidth": 2
          },
          "yaxis": {
           "automargin": true,
           "gridcolor": "#283442",
           "linecolor": "#506784",
           "ticks": "",
           "title": {
            "standoff": 15
           },
           "zerolinecolor": "#283442",
           "zerolinewidth": 2
          }
         }
        },
        "title": {
         "text": "Recordings by Quality"
        },
        "xaxis": {
         "anchor": "y",
         "categoryarray": [
          "A",
          "B",
          "C",
          "D"
         ],
         "categoryorder": "array",
         "domain": [
          0,
          1
         ],
         "title": {
          "text": "q"
         }
        },
        "yaxis": {
         "anchor": "x",
         "domain": [
          0,
          1
         ],
         "title": {
          "text": "percent"
         }
        }
       }
      }
     },
     "metadata": {},
     "output_type": "display_data"
    }
   ],
   "source": [
    "px.histogram(df[uselful_cols], x='q', template='plotly_dark', category_orders=dict(q=['A', 'B', 'C', 'D']),\n",
    "             title='Recordings by Quality', histnorm='percent')"
   ]
  },
  {
   "cell_type": "code",
   "execution_count": 28,
   "metadata": {},
   "outputs": [
    {
     "data": {
      "application/vnd.plotly.v1+json": {
       "config": {
        "plotlyServerURL": "https://plot.ly"
       },
       "data": [
        {
         "alignmentgroup": "True",
         "bingroup": "x",
         "cumulative": {
          "enabled": true
         },
         "histnorm": "percent",
         "hovertemplate": "seconds=%{x}<br>percent=%{y}<extra></extra>",
         "legendgroup": "",
         "marker": {
          "color": "#636efa",
          "pattern": {
           "shape": ""
          }
         },
         "name": "",
         "offsetgroup": "",
         "orientation": "v",
         "showlegend": false,
         "type": "histogram",
         "x": [
          33,
          78,
          2,
          9,
          43,
          18,
          7,
          12,
          10,
          6,
          13,
          16,
          8,
          9,
          23,
          30,
          12,
          12,
          31,
          7,
          24,
          10,
          45,
          19,
          49,
          42,
          9,
          2,
          6,
          8,
          5,
          20,
          10,
          11,
          20,
          31,
          10,
          39,
          11,
          10,
          10,
          10,
          24,
          10,
          4,
          18,
          13,
          10,
          10,
          6,
          24,
          20,
          10,
          20,
          10,
          10,
          6,
          3,
          10,
          10,
          10,
          10,
          10,
          10,
          28,
          36,
          21,
          2,
          26,
          8,
          8,
          86,
          10,
          21,
          15,
          3,
          11,
          4,
          2,
          7,
          3,
          3,
          13,
          28,
          22,
          113,
          56,
          52,
          16,
          13,
          5,
          14,
          6,
          6,
          15,
          4,
          8,
          11,
          4,
          17,
          13,
          5,
          15,
          98,
          17,
          4,
          52,
          49,
          36,
          10,
          7,
          5,
          20,
          5,
          2,
          2,
          11,
          8,
          21,
          54,
          33,
          66,
          26,
          31,
          35,
          34,
          14,
          4,
          21,
          78,
          10,
          5,
          7,
          5,
          31,
          16,
          34,
          4,
          34,
          4,
          9,
          25,
          28,
          3,
          13,
          24,
          25,
          11,
          5,
          36,
          36,
          73,
          85,
          28,
          53,
          10,
          12,
          24,
          13,
          14,
          9,
          4,
          3,
          12,
          27,
          30,
          48,
          24,
          33,
          16,
          13,
          10,
          34,
          106,
          13,
          25,
          29,
          14,
          18,
          16,
          22,
          5,
          40,
          15,
          18,
          9,
          4,
          7,
          4,
          4,
          9,
          43,
          7,
          18,
          47,
          13,
          14,
          9,
          5,
          30,
          5,
          6,
          1,
          4,
          26,
          13,
          84,
          62,
          28,
          5,
          45,
          6,
          4,
          7,
          5,
          6,
          12,
          3,
          6,
          4,
          11,
          18,
          3,
          3,
          2,
          56,
          52,
          6,
          96,
          39,
          30,
          6,
          8,
          2,
          4,
          3,
          4,
          80,
          14,
          18,
          4,
          3,
          4,
          7,
          2,
          5,
          16,
          13,
          16,
          3,
          6,
          58,
          5,
          56,
          7,
          85,
          5,
          21,
          11,
          14,
          21,
          52,
          5,
          9,
          12,
          21,
          57,
          81,
          7,
          10,
          13,
          42,
          19,
          72,
          56,
          5,
          19,
          4,
          35,
          15,
          10,
          10,
          9,
          7,
          25,
          15,
          14,
          38,
          14,
          32,
          106,
          6,
          25,
          12,
          9,
          8,
          42,
          7,
          86,
          72,
          56,
          18,
          19,
          47,
          11,
          36,
          84,
          11,
          26,
          11,
          20,
          20,
          4,
          79,
          4,
          7,
          7,
          31,
          14,
          31,
          11,
          110,
          7,
          15,
          10,
          23,
          8,
          22,
          2,
          16,
          24,
          19,
          14,
          39,
          27,
          17,
          9,
          3,
          6,
          40,
          12,
          4,
          44,
          8,
          10,
          21,
          34,
          41,
          11,
          12,
          11,
          15,
          46,
          7,
          2,
          9,
          2,
          60,
          8,
          7,
          4,
          7,
          13,
          16,
          56,
          27,
          34,
          24,
          11,
          29,
          6,
          25,
          51,
          110,
          17,
          33,
          49,
          42,
          11,
          18,
          4,
          70,
          41,
          40,
          4,
          11,
          60,
          12,
          12,
          22,
          23,
          8,
          12,
          45,
          15,
          68,
          71,
          30,
          38,
          50,
          19,
          79,
          83,
          10,
          13,
          10,
          40,
          10,
          24,
          15,
          75,
          21,
          9,
          4,
          9,
          18,
          13,
          22,
          6,
          14,
          21,
          3,
          103,
          18,
          10,
          11,
          4,
          20,
          6,
          9,
          60,
          30,
          73,
          62,
          58,
          14,
          39,
          9,
          7,
          8,
          14,
          120,
          12,
          12,
          27,
          27,
          4,
          117,
          26,
          8,
          77,
          11,
          5,
          16,
          109,
          26,
          3,
          65,
          5,
          23,
          30,
          5,
          39,
          26,
          14,
          16,
          18,
          39,
          14,
          11,
          46,
          3,
          10,
          13,
          12,
          23,
          9,
          14,
          4,
          99,
          3,
          18,
          63,
          16,
          6,
          12,
          16,
          13,
          11,
          5,
          27,
          81,
          10,
          23,
          16,
          7,
          9,
          24,
          1,
          20,
          11,
          42,
          9,
          56,
          13,
          57,
          4,
          9,
          16,
          8,
          5,
          14,
          29,
          12,
          4,
          18,
          18,
          17,
          6,
          65,
          39,
          4,
          81,
          12,
          67,
          6,
          30,
          4,
          4,
          5,
          7,
          3,
          25,
          5,
          7,
          11,
          36,
          33,
          63,
          10,
          21,
          7,
          6,
          8,
          20,
          18,
          26,
          70,
          4,
          7,
          17,
          20,
          7,
          13,
          8,
          8,
          20,
          9,
          3,
          10,
          80,
          3,
          11,
          13,
          4,
          10,
          32,
          47,
          83,
          97,
          16,
          70,
          17,
          19,
          5,
          59,
          18,
          7,
          11,
          13,
          12,
          37,
          11,
          9,
          6,
          7,
          28,
          13,
          5,
          47,
          32,
          12,
          6,
          34,
          78,
          86,
          25,
          8,
          97,
          13,
          23,
          56,
          23,
          28,
          29,
          21,
          5,
          13,
          5,
          1,
          19,
          45,
          54,
          23,
          61,
          7,
          63,
          66,
          6,
          13,
          10,
          11,
          6,
          19,
          45,
          45,
          8,
          24,
          9,
          14,
          4,
          3,
          32,
          18,
          19,
          20,
          4,
          46,
          65,
          81,
          69,
          18,
          81,
          7,
          6,
          35,
          7,
          67,
          41,
          10,
          39,
          60,
          99,
          46,
          27,
          10,
          17,
          31,
          18,
          11,
          19,
          12,
          11,
          35,
          33,
          48
         ],
         "xaxis": "x",
         "yaxis": "y"
        }
       ],
       "layout": {
        "barmode": "relative",
        "legend": {
         "tracegroupgap": 0
        },
        "template": {
         "data": {
          "bar": [
           {
            "error_x": {
             "color": "#f2f5fa"
            },
            "error_y": {
             "color": "#f2f5fa"
            },
            "marker": {
             "line": {
              "color": "rgb(17,17,17)",
              "width": 0.5
             },
             "pattern": {
              "fillmode": "overlay",
              "size": 10,
              "solidity": 0.2
             }
            },
            "type": "bar"
           }
          ],
          "barpolar": [
           {
            "marker": {
             "line": {
              "color": "rgb(17,17,17)",
              "width": 0.5
             },
             "pattern": {
              "fillmode": "overlay",
              "size": 10,
              "solidity": 0.2
             }
            },
            "type": "barpolar"
           }
          ],
          "carpet": [
           {
            "aaxis": {
             "endlinecolor": "#A2B1C6",
             "gridcolor": "#506784",
             "linecolor": "#506784",
             "minorgridcolor": "#506784",
             "startlinecolor": "#A2B1C6"
            },
            "baxis": {
             "endlinecolor": "#A2B1C6",
             "gridcolor": "#506784",
             "linecolor": "#506784",
             "minorgridcolor": "#506784",
             "startlinecolor": "#A2B1C6"
            },
            "type": "carpet"
           }
          ],
          "choropleth": [
           {
            "colorbar": {
             "outlinewidth": 0,
             "ticks": ""
            },
            "type": "choropleth"
           }
          ],
          "contour": [
           {
            "colorbar": {
             "outlinewidth": 0,
             "ticks": ""
            },
            "colorscale": [
             [
              0,
              "#0d0887"
             ],
             [
              0.1111111111111111,
              "#46039f"
             ],
             [
              0.2222222222222222,
              "#7201a8"
             ],
             [
              0.3333333333333333,
              "#9c179e"
             ],
             [
              0.4444444444444444,
              "#bd3786"
             ],
             [
              0.5555555555555556,
              "#d8576b"
             ],
             [
              0.6666666666666666,
              "#ed7953"
             ],
             [
              0.7777777777777778,
              "#fb9f3a"
             ],
             [
              0.8888888888888888,
              "#fdca26"
             ],
             [
              1,
              "#f0f921"
             ]
            ],
            "type": "contour"
           }
          ],
          "contourcarpet": [
           {
            "colorbar": {
             "outlinewidth": 0,
             "ticks": ""
            },
            "type": "contourcarpet"
           }
          ],
          "heatmap": [
           {
            "colorbar": {
             "outlinewidth": 0,
             "ticks": ""
            },
            "colorscale": [
             [
              0,
              "#0d0887"
             ],
             [
              0.1111111111111111,
              "#46039f"
             ],
             [
              0.2222222222222222,
              "#7201a8"
             ],
             [
              0.3333333333333333,
              "#9c179e"
             ],
             [
              0.4444444444444444,
              "#bd3786"
             ],
             [
              0.5555555555555556,
              "#d8576b"
             ],
             [
              0.6666666666666666,
              "#ed7953"
             ],
             [
              0.7777777777777778,
              "#fb9f3a"
             ],
             [
              0.8888888888888888,
              "#fdca26"
             ],
             [
              1,
              "#f0f921"
             ]
            ],
            "type": "heatmap"
           }
          ],
          "heatmapgl": [
           {
            "colorbar": {
             "outlinewidth": 0,
             "ticks": ""
            },
            "colorscale": [
             [
              0,
              "#0d0887"
             ],
             [
              0.1111111111111111,
              "#46039f"
             ],
             [
              0.2222222222222222,
              "#7201a8"
             ],
             [
              0.3333333333333333,
              "#9c179e"
             ],
             [
              0.4444444444444444,
              "#bd3786"
             ],
             [
              0.5555555555555556,
              "#d8576b"
             ],
             [
              0.6666666666666666,
              "#ed7953"
             ],
             [
              0.7777777777777778,
              "#fb9f3a"
             ],
             [
              0.8888888888888888,
              "#fdca26"
             ],
             [
              1,
              "#f0f921"
             ]
            ],
            "type": "heatmapgl"
           }
          ],
          "histogram": [
           {
            "marker": {
             "pattern": {
              "fillmode": "overlay",
              "size": 10,
              "solidity": 0.2
             }
            },
            "type": "histogram"
           }
          ],
          "histogram2d": [
           {
            "colorbar": {
             "outlinewidth": 0,
             "ticks": ""
            },
            "colorscale": [
             [
              0,
              "#0d0887"
             ],
             [
              0.1111111111111111,
              "#46039f"
             ],
             [
              0.2222222222222222,
              "#7201a8"
             ],
             [
              0.3333333333333333,
              "#9c179e"
             ],
             [
              0.4444444444444444,
              "#bd3786"
             ],
             [
              0.5555555555555556,
              "#d8576b"
             ],
             [
              0.6666666666666666,
              "#ed7953"
             ],
             [
              0.7777777777777778,
              "#fb9f3a"
             ],
             [
              0.8888888888888888,
              "#fdca26"
             ],
             [
              1,
              "#f0f921"
             ]
            ],
            "type": "histogram2d"
           }
          ],
          "histogram2dcontour": [
           {
            "colorbar": {
             "outlinewidth": 0,
             "ticks": ""
            },
            "colorscale": [
             [
              0,
              "#0d0887"
             ],
             [
              0.1111111111111111,
              "#46039f"
             ],
             [
              0.2222222222222222,
              "#7201a8"
             ],
             [
              0.3333333333333333,
              "#9c179e"
             ],
             [
              0.4444444444444444,
              "#bd3786"
             ],
             [
              0.5555555555555556,
              "#d8576b"
             ],
             [
              0.6666666666666666,
              "#ed7953"
             ],
             [
              0.7777777777777778,
              "#fb9f3a"
             ],
             [
              0.8888888888888888,
              "#fdca26"
             ],
             [
              1,
              "#f0f921"
             ]
            ],
            "type": "histogram2dcontour"
           }
          ],
          "mesh3d": [
           {
            "colorbar": {
             "outlinewidth": 0,
             "ticks": ""
            },
            "type": "mesh3d"
           }
          ],
          "parcoords": [
           {
            "line": {
             "colorbar": {
              "outlinewidth": 0,
              "ticks": ""
             }
            },
            "type": "parcoords"
           }
          ],
          "pie": [
           {
            "automargin": true,
            "type": "pie"
           }
          ],
          "scatter": [
           {
            "marker": {
             "line": {
              "color": "#283442"
             }
            },
            "type": "scatter"
           }
          ],
          "scatter3d": [
           {
            "line": {
             "colorbar": {
              "outlinewidth": 0,
              "ticks": ""
             }
            },
            "marker": {
             "colorbar": {
              "outlinewidth": 0,
              "ticks": ""
             }
            },
            "type": "scatter3d"
           }
          ],
          "scattercarpet": [
           {
            "marker": {
             "colorbar": {
              "outlinewidth": 0,
              "ticks": ""
             }
            },
            "type": "scattercarpet"
           }
          ],
          "scattergeo": [
           {
            "marker": {
             "colorbar": {
              "outlinewidth": 0,
              "ticks": ""
             }
            },
            "type": "scattergeo"
           }
          ],
          "scattergl": [
           {
            "marker": {
             "line": {
              "color": "#283442"
             }
            },
            "type": "scattergl"
           }
          ],
          "scattermapbox": [
           {
            "marker": {
             "colorbar": {
              "outlinewidth": 0,
              "ticks": ""
             }
            },
            "type": "scattermapbox"
           }
          ],
          "scatterpolar": [
           {
            "marker": {
             "colorbar": {
              "outlinewidth": 0,
              "ticks": ""
             }
            },
            "type": "scatterpolar"
           }
          ],
          "scatterpolargl": [
           {
            "marker": {
             "colorbar": {
              "outlinewidth": 0,
              "ticks": ""
             }
            },
            "type": "scatterpolargl"
           }
          ],
          "scatterternary": [
           {
            "marker": {
             "colorbar": {
              "outlinewidth": 0,
              "ticks": ""
             }
            },
            "type": "scatterternary"
           }
          ],
          "surface": [
           {
            "colorbar": {
             "outlinewidth": 0,
             "ticks": ""
            },
            "colorscale": [
             [
              0,
              "#0d0887"
             ],
             [
              0.1111111111111111,
              "#46039f"
             ],
             [
              0.2222222222222222,
              "#7201a8"
             ],
             [
              0.3333333333333333,
              "#9c179e"
             ],
             [
              0.4444444444444444,
              "#bd3786"
             ],
             [
              0.5555555555555556,
              "#d8576b"
             ],
             [
              0.6666666666666666,
              "#ed7953"
             ],
             [
              0.7777777777777778,
              "#fb9f3a"
             ],
             [
              0.8888888888888888,
              "#fdca26"
             ],
             [
              1,
              "#f0f921"
             ]
            ],
            "type": "surface"
           }
          ],
          "table": [
           {
            "cells": {
             "fill": {
              "color": "#506784"
             },
             "line": {
              "color": "rgb(17,17,17)"
             }
            },
            "header": {
             "fill": {
              "color": "#2a3f5f"
             },
             "line": {
              "color": "rgb(17,17,17)"
             }
            },
            "type": "table"
           }
          ]
         },
         "layout": {
          "annotationdefaults": {
           "arrowcolor": "#f2f5fa",
           "arrowhead": 0,
           "arrowwidth": 1
          },
          "autotypenumbers": "strict",
          "coloraxis": {
           "colorbar": {
            "outlinewidth": 0,
            "ticks": ""
           }
          },
          "colorscale": {
           "diverging": [
            [
             0,
             "#8e0152"
            ],
            [
             0.1,
             "#c51b7d"
            ],
            [
             0.2,
             "#de77ae"
            ],
            [
             0.3,
             "#f1b6da"
            ],
            [
             0.4,
             "#fde0ef"
            ],
            [
             0.5,
             "#f7f7f7"
            ],
            [
             0.6,
             "#e6f5d0"
            ],
            [
             0.7,
             "#b8e186"
            ],
            [
             0.8,
             "#7fbc41"
            ],
            [
             0.9,
             "#4d9221"
            ],
            [
             1,
             "#276419"
            ]
           ],
           "sequential": [
            [
             0,
             "#0d0887"
            ],
            [
             0.1111111111111111,
             "#46039f"
            ],
            [
             0.2222222222222222,
             "#7201a8"
            ],
            [
             0.3333333333333333,
             "#9c179e"
            ],
            [
             0.4444444444444444,
             "#bd3786"
            ],
            [
             0.5555555555555556,
             "#d8576b"
            ],
            [
             0.6666666666666666,
             "#ed7953"
            ],
            [
             0.7777777777777778,
             "#fb9f3a"
            ],
            [
             0.8888888888888888,
             "#fdca26"
            ],
            [
             1,
             "#f0f921"
            ]
           ],
           "sequentialminus": [
            [
             0,
             "#0d0887"
            ],
            [
             0.1111111111111111,
             "#46039f"
            ],
            [
             0.2222222222222222,
             "#7201a8"
            ],
            [
             0.3333333333333333,
             "#9c179e"
            ],
            [
             0.4444444444444444,
             "#bd3786"
            ],
            [
             0.5555555555555556,
             "#d8576b"
            ],
            [
             0.6666666666666666,
             "#ed7953"
            ],
            [
             0.7777777777777778,
             "#fb9f3a"
            ],
            [
             0.8888888888888888,
             "#fdca26"
            ],
            [
             1,
             "#f0f921"
            ]
           ]
          },
          "colorway": [
           "#636efa",
           "#EF553B",
           "#00cc96",
           "#ab63fa",
           "#FFA15A",
           "#19d3f3",
           "#FF6692",
           "#B6E880",
           "#FF97FF",
           "#FECB52"
          ],
          "font": {
           "color": "#f2f5fa"
          },
          "geo": {
           "bgcolor": "rgb(17,17,17)",
           "lakecolor": "rgb(17,17,17)",
           "landcolor": "rgb(17,17,17)",
           "showlakes": true,
           "showland": true,
           "subunitcolor": "#506784"
          },
          "hoverlabel": {
           "align": "left"
          },
          "hovermode": "closest",
          "mapbox": {
           "style": "dark"
          },
          "paper_bgcolor": "rgb(17,17,17)",
          "plot_bgcolor": "rgb(17,17,17)",
          "polar": {
           "angularaxis": {
            "gridcolor": "#506784",
            "linecolor": "#506784",
            "ticks": ""
           },
           "bgcolor": "rgb(17,17,17)",
           "radialaxis": {
            "gridcolor": "#506784",
            "linecolor": "#506784",
            "ticks": ""
           }
          },
          "scene": {
           "xaxis": {
            "backgroundcolor": "rgb(17,17,17)",
            "gridcolor": "#506784",
            "gridwidth": 2,
            "linecolor": "#506784",
            "showbackground": true,
            "ticks": "",
            "zerolinecolor": "#C8D4E3"
           },
           "yaxis": {
            "backgroundcolor": "rgb(17,17,17)",
            "gridcolor": "#506784",
            "gridwidth": 2,
            "linecolor": "#506784",
            "showbackground": true,
            "ticks": "",
            "zerolinecolor": "#C8D4E3"
           },
           "zaxis": {
            "backgroundcolor": "rgb(17,17,17)",
            "gridcolor": "#506784",
            "gridwidth": 2,
            "linecolor": "#506784",
            "showbackground": true,
            "ticks": "",
            "zerolinecolor": "#C8D4E3"
           }
          },
          "shapedefaults": {
           "line": {
            "color": "#f2f5fa"
           }
          },
          "sliderdefaults": {
           "bgcolor": "#C8D4E3",
           "bordercolor": "rgb(17,17,17)",
           "borderwidth": 1,
           "tickwidth": 0
          },
          "ternary": {
           "aaxis": {
            "gridcolor": "#506784",
            "linecolor": "#506784",
            "ticks": ""
           },
           "baxis": {
            "gridcolor": "#506784",
            "linecolor": "#506784",
            "ticks": ""
           },
           "bgcolor": "rgb(17,17,17)",
           "caxis": {
            "gridcolor": "#506784",
            "linecolor": "#506784",
            "ticks": ""
           }
          },
          "title": {
           "x": 0.05
          },
          "updatemenudefaults": {
           "bgcolor": "#506784",
           "borderwidth": 0
          },
          "xaxis": {
           "automargin": true,
           "gridcolor": "#283442",
           "linecolor": "#506784",
           "ticks": "",
           "title": {
            "standoff": 15
           },
           "zerolinecolor": "#283442",
           "zerolinewidth": 2
          },
          "yaxis": {
           "automargin": true,
           "gridcolor": "#283442",
           "linecolor": "#506784",
           "ticks": "",
           "title": {
            "standoff": 15
           },
           "zerolinecolor": "#283442",
           "zerolinewidth": 2
          }
         }
        },
        "title": {
         "text": "Recordings by Duration [s]"
        },
        "xaxis": {
         "anchor": "y",
         "domain": [
          0,
          1
         ],
         "title": {
          "text": "seconds"
         }
        },
        "yaxis": {
         "anchor": "x",
         "domain": [
          0,
          1
         ],
         "title": {
          "text": "percent"
         }
        }
       }
      }
     },
     "metadata": {},
     "output_type": "display_data"
    }
   ],
   "source": [
    "# clean by seconds\n",
    "def time_to_seconds(time_str):\n",
    "    minutes, seconds = map(int, time_str.split(':'))\n",
    "    return minutes * 60 + seconds\n",
    "\n",
    "df['seconds'] = df['length'].apply(time_to_seconds)\n",
    "px.histogram(df[df.seconds <= 120], x='seconds', cumulative=True,\n",
    "             template='plotly_dark', title='Recordings by Duration [s]', histnorm='percent')"
   ]
  },
  {
   "attachments": {},
   "cell_type": "markdown",
   "metadata": {},
   "source": [
    "So if we use recordings that are 20 seconds or less we have 60% of data, and of at least C quality we have 80% of data. If these values are not correlated in some way we should expect to have around 48% of data as a available to process (being picky).\n",
    "\n",
    "We also take only sample rates of 44khz because it makes our life easier."
   ]
  },
  {
   "cell_type": "code",
   "execution_count": 37,
   "metadata": {},
   "outputs": [
    {
     "data": {
      "text/html": [
       "<div>\n",
       "<style scoped>\n",
       "    .dataframe tbody tr th:only-of-type {\n",
       "        vertical-align: middle;\n",
       "    }\n",
       "\n",
       "    .dataframe tbody tr th {\n",
       "        vertical-align: top;\n",
       "    }\n",
       "\n",
       "    .dataframe thead th {\n",
       "        text-align: right;\n",
       "    }\n",
       "</style>\n",
       "<table border=\"1\" class=\"dataframe\">\n",
       "  <thead>\n",
       "    <tr style=\"text-align: right;\">\n",
       "      <th></th>\n",
       "      <th>id</th>\n",
       "      <th>cnt</th>\n",
       "      <th>lat</th>\n",
       "      <th>lng</th>\n",
       "      <th>type</th>\n",
       "      <th>q</th>\n",
       "      <th>length</th>\n",
       "      <th>time</th>\n",
       "      <th>date</th>\n",
       "      <th>bird-seen</th>\n",
       "      <th>smp</th>\n",
       "      <th>seconds</th>\n",
       "    </tr>\n",
       "  </thead>\n",
       "  <tbody>\n",
       "    <tr>\n",
       "      <th>0</th>\n",
       "      <td>184143</td>\n",
       "      <td>Switzerland</td>\n",
       "      <td>46.9509</td>\n",
       "      <td>7.4339</td>\n",
       "      <td>flight call</td>\n",
       "      <td>B</td>\n",
       "      <td>0:02</td>\n",
       "      <td>11:30</td>\n",
       "      <td>2014-06-28</td>\n",
       "      <td>yes</td>\n",
       "      <td>44100</td>\n",
       "      <td>2</td>\n",
       "    </tr>\n",
       "    <tr>\n",
       "      <th>1</th>\n",
       "      <td>182340</td>\n",
       "      <td>Germany</td>\n",
       "      <td>None</td>\n",
       "      <td>None</td>\n",
       "      <td>flight call</td>\n",
       "      <td>B</td>\n",
       "      <td>0:09</td>\n",
       "      <td>?</td>\n",
       "      <td>2014-06-16</td>\n",
       "      <td>yes</td>\n",
       "      <td>44100</td>\n",
       "      <td>9</td>\n",
       "    </tr>\n",
       "    <tr>\n",
       "      <th>2</th>\n",
       "      <td>179334</td>\n",
       "      <td>Spain</td>\n",
       "      <td>37.3811</td>\n",
       "      <td>-5.947</td>\n",
       "      <td>flight call</td>\n",
       "      <td>B</td>\n",
       "      <td>0:18</td>\n",
       "      <td>?</td>\n",
       "      <td>2014-05-12</td>\n",
       "      <td>yes</td>\n",
       "      <td>44100</td>\n",
       "      <td>18</td>\n",
       "    </tr>\n",
       "    <tr>\n",
       "      <th>3</th>\n",
       "      <td>144363</td>\n",
       "      <td>Israel</td>\n",
       "      <td>31.7833</td>\n",
       "      <td>35.2167</td>\n",
       "      <td>call</td>\n",
       "      <td>B</td>\n",
       "      <td>0:07</td>\n",
       "      <td>11:00</td>\n",
       "      <td>2011-04-14</td>\n",
       "      <td>no</td>\n",
       "      <td>44100</td>\n",
       "      <td>7</td>\n",
       "    </tr>\n",
       "    <tr>\n",
       "      <th>4</th>\n",
       "      <td>140595</td>\n",
       "      <td>Spain</td>\n",
       "      <td>42.0029</td>\n",
       "      <td>-5.6742</td>\n",
       "      <td>flight call</td>\n",
       "      <td>B</td>\n",
       "      <td>0:12</td>\n",
       "      <td>08:30</td>\n",
       "      <td>2013-06-25</td>\n",
       "      <td>yes</td>\n",
       "      <td>44100</td>\n",
       "      <td>12</td>\n",
       "    </tr>\n",
       "    <tr>\n",
       "      <th>...</th>\n",
       "      <td>...</td>\n",
       "      <td>...</td>\n",
       "      <td>...</td>\n",
       "      <td>...</td>\n",
       "      <td>...</td>\n",
       "      <td>...</td>\n",
       "      <td>...</td>\n",
       "      <td>...</td>\n",
       "      <td>...</td>\n",
       "      <td>...</td>\n",
       "      <td>...</td>\n",
       "      <td>...</td>\n",
       "    </tr>\n",
       "    <tr>\n",
       "      <th>300</th>\n",
       "      <td>199124</td>\n",
       "      <td>Russian Federation</td>\n",
       "      <td>56.0818</td>\n",
       "      <td>47.2859</td>\n",
       "      <td>flight call</td>\n",
       "      <td>B</td>\n",
       "      <td>0:18</td>\n",
       "      <td>19:00</td>\n",
       "      <td>2014-05-29</td>\n",
       "      <td>yes</td>\n",
       "      <td>44100</td>\n",
       "      <td>18</td>\n",
       "    </tr>\n",
       "    <tr>\n",
       "      <th>301</th>\n",
       "      <td>198310</td>\n",
       "      <td>Russian Federation</td>\n",
       "      <td>56.1545</td>\n",
       "      <td>47.2399</td>\n",
       "      <td>call</td>\n",
       "      <td>B</td>\n",
       "      <td>0:11</td>\n",
       "      <td>09:30</td>\n",
       "      <td>2014-06-01</td>\n",
       "      <td>yes</td>\n",
       "      <td>44100</td>\n",
       "      <td>11</td>\n",
       "    </tr>\n",
       "    <tr>\n",
       "      <th>302</th>\n",
       "      <td>198309</td>\n",
       "      <td>Russian Federation</td>\n",
       "      <td>56.0814</td>\n",
       "      <td>47.3027</td>\n",
       "      <td>call</td>\n",
       "      <td>B</td>\n",
       "      <td>0:19</td>\n",
       "      <td>09:30</td>\n",
       "      <td>2014-06-01</td>\n",
       "      <td>yes</td>\n",
       "      <td>44100</td>\n",
       "      <td>19</td>\n",
       "    </tr>\n",
       "    <tr>\n",
       "      <th>303</th>\n",
       "      <td>198308</td>\n",
       "      <td>Russian Federation</td>\n",
       "      <td>56.0814</td>\n",
       "      <td>47.3027</td>\n",
       "      <td>call</td>\n",
       "      <td>B</td>\n",
       "      <td>0:12</td>\n",
       "      <td>09:30</td>\n",
       "      <td>2014-06-01</td>\n",
       "      <td>yes</td>\n",
       "      <td>44100</td>\n",
       "      <td>12</td>\n",
       "    </tr>\n",
       "    <tr>\n",
       "      <th>304</th>\n",
       "      <td>198306</td>\n",
       "      <td>Russian Federation</td>\n",
       "      <td>56.1283</td>\n",
       "      <td>47.4026</td>\n",
       "      <td>call</td>\n",
       "      <td>B</td>\n",
       "      <td>0:11</td>\n",
       "      <td>09:30</td>\n",
       "      <td>2014-06-01</td>\n",
       "      <td>yes</td>\n",
       "      <td>44100</td>\n",
       "      <td>11</td>\n",
       "    </tr>\n",
       "  </tbody>\n",
       "</table>\n",
       "<p>305 rows × 12 columns</p>\n",
       "</div>"
      ],
      "text/plain": [
       "         id                 cnt      lat      lng         type  q length  \\\n",
       "0    184143         Switzerland  46.9509   7.4339  flight call  B   0:02   \n",
       "1    182340             Germany     None     None  flight call  B   0:09   \n",
       "2    179334               Spain  37.3811   -5.947  flight call  B   0:18   \n",
       "3    144363              Israel  31.7833  35.2167         call  B   0:07   \n",
       "4    140595               Spain  42.0029  -5.6742  flight call  B   0:12   \n",
       "..      ...                 ...      ...      ...          ... ..    ...   \n",
       "300  199124  Russian Federation  56.0818  47.2859  flight call  B   0:18   \n",
       "301  198310  Russian Federation  56.1545  47.2399         call  B   0:11   \n",
       "302  198309  Russian Federation  56.0814  47.3027         call  B   0:19   \n",
       "303  198308  Russian Federation  56.0814  47.3027         call  B   0:12   \n",
       "304  198306  Russian Federation  56.1283  47.4026         call  B   0:11   \n",
       "\n",
       "      time        date bird-seen    smp  seconds  \n",
       "0    11:30  2014-06-28       yes  44100        2  \n",
       "1        ?  2014-06-16       yes  44100        9  \n",
       "2        ?  2014-05-12       yes  44100       18  \n",
       "3    11:00  2011-04-14        no  44100        7  \n",
       "4    08:30  2013-06-25       yes  44100       12  \n",
       "..     ...         ...       ...    ...      ...  \n",
       "300  19:00  2014-05-29       yes  44100       18  \n",
       "301  09:30  2014-06-01       yes  44100       11  \n",
       "302  09:30  2014-06-01       yes  44100       19  \n",
       "303  09:30  2014-06-01       yes  44100       12  \n",
       "304  09:30  2014-06-01       yes  44100       11  \n",
       "\n",
       "[305 rows x 12 columns]"
      ]
     },
     "execution_count": 37,
     "metadata": {},
     "output_type": "execute_result"
    }
   ],
   "source": [
    "# create a sub dataset with the picky data\n",
    "dataset = df[uselful_cols + ['seconds']][(df.seconds <= 20) & ((df.q != 'D') | (df.q != 'E')) & (df.smp == '44100')].copy().reset_index(drop=True)\n",
    "dataset"
   ]
  },
  {
   "attachments": {},
   "cell_type": "markdown",
   "metadata": {},
   "source": [
    "### Frequency Spectrum of recordings\n",
    "\n",
    "We will observe some frequency spectra first to have an idea of the data"
   ]
  }
 ],
 "metadata": {
  "kernelspec": {
   "display_name": "birdenv",
   "language": "python",
   "name": "python3"
  },
  "language_info": {
   "codemirror_mode": {
    "name": "ipython",
    "version": 3
   },
   "file_extension": ".py",
   "mimetype": "text/x-python",
   "name": "python",
   "nbconvert_exporter": "python",
   "pygments_lexer": "ipython3",
   "version": "3.9.6"
  },
  "orig_nbformat": 4
 },
 "nbformat": 4,
 "nbformat_minor": 2
}
